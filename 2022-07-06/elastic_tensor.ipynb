{
 "cells": [
  {
   "cell_type": "code",
   "execution_count": 68,
   "id": "d920e7ae-72c2-4189-bdbb-d268b53dfff6",
   "metadata": {},
   "outputs": [],
   "source": [
    "from pyiron import Project\n",
    "import numpy as np\n",
    "import matplotlib.pylab as plt\n",
    "%config InlineBackend.figure_format = 'retina'"
   ]
  },
  {
   "cell_type": "code",
   "execution_count": 96,
   "id": "3e91d7cf-c1b7-4098-9063-74964aa6d9f6",
   "metadata": {},
   "outputs": [],
   "source": [
    "import seaborn as sns"
   ]
  },
  {
   "cell_type": "code",
   "execution_count": 69,
   "id": "bf08de73-5a75-4d5a-b8e9-af600cdf543b",
   "metadata": {},
   "outputs": [],
   "source": [
    "import matplotlib.pyplot as plt"
   ]
  },
  {
   "cell_type": "code",
   "execution_count": 70,
   "id": "b459f4cf-c173-4207-9254-0fb0a960a261",
   "metadata": {},
   "outputs": [],
   "source": [
    "pr = Project('ELASTIC')"
   ]
  },
  {
   "cell_type": "code",
   "execution_count": 3,
   "id": "56909624-c19b-4ffc-888a-9d2216433940",
   "metadata": {},
   "outputs": [],
   "source": [
    "bulk = pr.create.structure.bulk('Fe', cubic=True).repeat(10)"
   ]
  },
  {
   "cell_type": "code",
   "execution_count": 4,
   "id": "a94c75f3-1dbd-4787-bb70-3c4a5584a81e",
   "metadata": {},
   "outputs": [
    {
     "name": "stdout",
     "output_type": "stream",
     "text": [
      "The job elast was saved and received the ID: 15910894\n"
     ]
    },
    {
     "name": "stderr",
     "output_type": "stream",
     "text": [
      "/u/samsstud/dev_sam/pyiron_atomistics/pyiron_atomistics/lammps/base.py:262: UserWarning: No potential set via job.potential - use default potential, 1997--Ackland-G-J--Fe--LAMMPS--ipr1\n",
      "  warnings.warn(\"No potential set via job.potential - use default potential, \" + lst_of_potentials[0])\n"
     ]
    },
    {
     "name": "stdout",
     "output_type": "stream",
     "text": [
      "The job elast_lmp_md was saved and received the ID: 15910895\n"
     ]
    },
    {
     "name": "stderr",
     "output_type": "stream",
     "text": [
      "/u/samsstud/dev_sam/pyiron_atomistics/pyiron_atomistics/lammps/interactive.py:378: UserWarning: Warning: setting upper trangular matrix might slow down the calculation\n",
      "  \"Warning: setting upper trangular matrix might slow down the calculation\"\n",
      "/u/samsstud/dev_sam/pyiron_atomistics/pyiron_atomistics/lammps/interactive.py:107: UserWarning: Warning: setting upper trangular matrix might slow down the calculation\n",
      "  \"Warning: setting upper trangular matrix might slow down the calculation\"\n"
     ]
    }
   ],
   "source": [
    "lmp = pr.create.job.Lammps('lmp_md')\n",
    "lmp.structure = bulk\n",
    "lmp.calc_md(temperature=300, n_print=1000)\n",
    "# lmp.input.control.measure_mean_value('pressures')\n",
    "lmp.interactive_open()\n",
    "elast = lmp.create_job('ElasticTensor', 'elast')\n",
    "elast.run()"
   ]
  },
  {
   "cell_type": "code",
   "execution_count": 4,
   "id": "5cce5bf7-9e2d-45ae-8827-f019497450ce",
   "metadata": {},
   "outputs": [
    {
     "name": "stdout",
     "output_type": "stream",
     "text": [
      "The job elast was saved and received the ID: 3\n"
     ]
    },
    {
     "name": "stderr",
     "output_type": "stream",
     "text": [
      "/srv/conda/envs/notebook/lib/python3.7/site-packages/pyiron_atomistics/lammps/base.py:259: UserWarning: No potential set via job.potential - use default potential, 1997--Ackland-G-J--Fe--LAMMPS--ipr1\n",
      "  warnings.warn(\"No potential set via job.potential - use default potential, \" + lst_of_potentials[0])\n"
     ]
    },
    {
     "name": "stdout",
     "output_type": "stream",
     "text": [
      "The job elast_lmp_md was saved and received the ID: 4\n"
     ]
    },
    {
     "name": "stderr",
     "output_type": "stream",
     "text": [
      "/srv/conda/envs/notebook/lib/python3.7/site-packages/pyiron_atomistics/lammps/interactive.py:480: UserWarning: Warning: setting upper trangular matrix might slow down the calculation\n",
      "  \"Warning: setting upper trangular matrix might slow down the calculation\"\n",
      "/srv/conda/envs/notebook/lib/python3.7/site-packages/pyiron_atomistics/lammps/interactive.py:120: UserWarning: Warning: setting upper trangular matrix might slow down the calculation\n",
      "  \"Warning: setting upper trangular matrix might slow down the calculation\"\n"
     ]
    }
   ],
   "source": [
    "lmp = pr.create.job.Lammps('lmp_md')\n",
    "lmp.structure = bulk\n",
    "lmp.calc_md(temperature=300, n_print=1000)\n",
    "lmp.input.control.measure_mean_value('pressures')\n",
    "lmp.interactive_open()\n",
    "elast = lmp.create_job('ElasticTensor', 'elast')\n",
    "elast.run()"
   ]
  },
  {
   "cell_type": "code",
   "execution_count": 9,
   "id": "b0007282-7c03-497e-b6c8-b20cc7ebefba",
   "metadata": {},
   "outputs": [
    {
     "data": {
      "text/plain": [
       "{'groups': [], 'nodes': ['cells', 'energy_pot', 'energy_tot', 'forces', 'indices', 'positions', 'pressures', 'species', 'steps', 'temperature', 'volume']}"
      ]
     },
     "execution_count": 9,
     "metadata": {},
     "output_type": "execute_result"
    }
   ],
   "source": [
    "elast['elast_lmp_md/output/generic']"
   ]
  },
  {
   "cell_type": "code",
   "execution_count": 5,
   "id": "53be49c9-b955-4461-9e74-d17e27c7fb3c",
   "metadata": {},
   "outputs": [
    {
     "data": {
      "text/plain": [
       "array([[256., 163., 163.,  -0.,  -0.,  -0.],\n",
       "       [164., 256., 163.,   0.,  -0.,   0.],\n",
       "       [163., 164., 255.,   0.,   0.,  -0.],\n",
       "       [  0.,  -0.,  -0., 133.,   0.,   0.],\n",
       "       [ -0.,  -0.,   0.,  -0., 133.,  -0.],\n",
       "       [ -0.,   0.,  -0.,   0.,  -0., 133.]])"
      ]
     },
     "execution_count": 5,
     "metadata": {},
     "output_type": "execute_result"
    }
   ],
   "source": [
    "np.round(elast['output/elastic_tensor'])"
   ]
  },
  {
   "cell_type": "code",
   "execution_count": 78,
   "id": "7e50e2ea-6a19-4c05-8506-2c2c53219310",
   "metadata": {},
   "outputs": [
    {
     "name": "stderr",
     "output_type": "stream",
     "text": [
      "/srv/conda/envs/notebook/lib/python3.7/site-packages/pyiron_atomistics/lammps/base.py:259: UserWarning: No potential set via job.potential - use default potential, 1997--Ackland-G-J--Fe--LAMMPS--ipr1\n",
      "  warnings.warn(\"No potential set via job.potential - use default potential, \" + lst_of_potentials[0])\n"
     ]
    },
    {
     "name": "stdout",
     "output_type": "stream",
     "text": [
      "The job lmp_md_test was saved and received the ID: 30\n"
     ]
    }
   ],
   "source": [
    "lmp = pr.create.job.Lammps('lmp_md_test', delete_existing_job=True)\n",
    "lmp.structure = bulk\n",
    "lmp.calc_md(temperature=300, n_ionic_steps=10_000, n_print=1000)\n",
    "# lmp.input.control['thermotime'] = 100\n",
    "lmp.input.control.measure_mean_value('pressures')\n",
    "lmp.interactive_open()\n",
    "lmp.run()\n",
    "lmp.interactive_close()"
   ]
  },
  {
   "cell_type": "code",
   "execution_count": 81,
   "id": "69407912-1c46-4b5d-83a5-11f610b6b042",
   "metadata": {},
   "outputs": [
    {
     "data": {
      "text/plain": [
       "{'groups': [], 'nodes': ['cells', 'energy_pot', 'energy_tot', 'forces', 'indices', 'positions', 'pressures', 'species', 'steps', 'temperature', 'volume']}"
      ]
     },
     "execution_count": 81,
     "metadata": {},
     "output_type": "execute_result"
    }
   ],
   "source": [
    "lmp['output/generic']"
   ]
  },
  {
   "cell_type": "code",
   "execution_count": 82,
   "id": "5471f656-c3ac-4b14-a4bf-672329719475",
   "metadata": {},
   "outputs": [
    {
     "data": {
      "text/plain": [
       "{'groups': [], 'nodes': ['cells', 'energy_pot', 'energy_tot', 'forces', 'indices', 'positions', 'pressures', 'species', 'steps', 'temperature', 'volume']}"
      ]
     },
     "execution_count": 82,
     "metadata": {},
     "output_type": "execute_result"
    }
   ],
   "source": [
    "lmp['output/interactive']"
   ]
  },
  {
   "cell_type": "code",
   "execution_count": 80,
   "id": "b4502354-7423-4f95-a0f0-4d1d8421a239",
   "metadata": {},
   "outputs": [
    {
     "ename": "AttributeError",
     "evalue": "'NoneType' object has no attribute 'shape'",
     "output_type": "error",
     "traceback": [
      "\u001b[0;31m---------------------------------------------------------------------------\u001b[0m",
      "\u001b[0;31mAttributeError\u001b[0m                            Traceback (most recent call last)",
      "\u001b[0;32m<ipython-input-80-188f2b712e85>\u001b[0m in \u001b[0;36m<module>\u001b[0;34m\u001b[0m\n\u001b[0;32m----> 1\u001b[0;31m \u001b[0mlmp\u001b[0m\u001b[0;34m[\u001b[0m\u001b[0;34m'output/generic/mean_pressures'\u001b[0m\u001b[0;34m]\u001b[0m\u001b[0;34m.\u001b[0m\u001b[0mshape\u001b[0m\u001b[0;34m\u001b[0m\u001b[0;34m\u001b[0m\u001b[0m\n\u001b[0m",
      "\u001b[0;31mAttributeError\u001b[0m: 'NoneType' object has no attribute 'shape'"
     ]
    }
   ],
   "source": [
    "lmp['output/generic/mean_pressures'].shape"
   ]
  },
  {
   "cell_type": "code",
   "execution_count": 56,
   "id": "fbdedd25-c832-4d87-bd29-934bb6b31745",
   "metadata": {},
   "outputs": [
    {
     "data": {
      "text/plain": [
       "(1.0473632422885342, 1.0383600912628659)"
      ]
     },
     "execution_count": 56,
     "metadata": {},
     "output_type": "execute_result"
    }
   ],
   "source": [
    "lmp['output/generic/pressures'][1:, 0, 0].mean(), lmp['output/generic/mean_pressures'][1:, 0, 0].mean()"
   ]
  },
  {
   "cell_type": "code",
   "execution_count": 58,
   "id": "1d628ee6-66af-49cb-afcc-61c1890b1ea4",
   "metadata": {},
   "outputs": [
    {
     "name": "stdout",
     "output_type": "stream",
     "text": [
      "1.7M\t/home/jovyan/ELASTIC/lmp_md_test_hdf5/lmp_md_test\n"
     ]
    }
   ],
   "source": [
    "!du -sh {lmp.working_directory}"
   ]
  },
  {
   "cell_type": "code",
   "execution_count": 54,
   "id": "b11a0f95-3292-4056-b0c2-7b38e8736504",
   "metadata": {},
   "outputs": [
    {
     "data": {
      "text/plain": [
       "(array([[2., 2., 2., 1., 2., 0., 0., 0., 0., 1.],\n",
       "        [0., 4., 5., 1., 0., 0., 0., 0., 0., 0.]]),\n",
       " array([1.00808546, 1.02118592, 1.03428637, 1.04738682, 1.06048727,\n",
       "        1.07358772, 1.08668817, 1.09978862, 1.11288907, 1.12598952,\n",
       "        1.13908997]),\n",
       " <a list of 2 BarContainer objects>)"
      ]
     },
     "execution_count": 54,
     "metadata": {},
     "output_type": "execute_result"
    },
    {
     "data": {
      "image/png": "[encoded data removed]",
      "text/plain": [
       "<Figure size 432x288 with 1 Axes>"
      ]
     },
     "metadata": {
      "image/png": {
       "height": 248,
       "width": 363
      },
      "needs_background": "light"
     },
     "output_type": "display_data"
    }
   ],
   "source": [
    "plt.hist([lmp['output/generic/pressures'][1:, 0, 0],\n",
    "          lmp['output/generic/mean_pressures'][1:, 0, 0]], \n",
    "         bins=10)"
   ]
  },
  {
   "cell_type": "code",
   "execution_count": 55,
   "id": "631e9c5d-bc8a-4937-9d0f-dbf841b4a6f6",
   "metadata": {},
   "outputs": [
    {
     "data": {
      "text/plain": [
       "(array([2., 2., 2., 1., 2., 0., 0., 0., 0., 1.]),\n",
       " array([1.00808546, 1.02118592, 1.03428637, 1.04738682, 1.06048727,\n",
       "        1.07358772, 1.08668817, 1.09978862, 1.11288907, 1.12598952,\n",
       "        1.13908997]),\n",
       " <BarContainer object of 10 artists>)"
      ]
     },
     "execution_count": 55,
     "metadata": {},
     "output_type": "execute_result"
    },
    {
     "data": {
      "image/png": "[encoded data removed]",
      "text/plain": [
       "<Figure size 432x288 with 1 Axes>"
      ]
     },
     "metadata": {
      "image/png": {
       "height": 248,
       "width": 378
      },
      "needs_background": "light"
     },
     "output_type": "display_data"
    }
   ],
   "source": [
    "plt.hist(lmp['output/generic/pressures'][1:, 0, 0], bins=10)"
   ]
  },
  {
   "cell_type": "markdown",
   "id": "80d262ad-6a36-48f8-bc4d-1f32bc59749a",
   "metadata": {},
   "source": [
    "# Modifying Tensor Here"
   ]
  },
  {
   "cell_type": "code",
   "execution_count": 71,
   "id": "2d5dddaf-b2ae-4796-a313-21ab5b330302",
   "metadata": {},
   "outputs": [],
   "source": [
    "from importlib import reload as re\n",
    "import elastic_tensor_pressures as ETP"
   ]
  },
  {
   "cell_type": "code",
   "execution_count": 75,
   "id": "afd2aec7-35eb-4554-90a1-e584d6fa48b5",
   "metadata": {},
   "outputs": [
    {
     "data": {
      "text/plain": [
       "<module 'elastic_tensor_pressures' from '/home/jovyan/elastic_tensor_pressures.py'>"
      ]
     },
     "execution_count": 75,
     "metadata": {},
     "output_type": "execute_result"
    }
   ],
   "source": [
    "re(ETP)"
   ]
  },
  {
   "cell_type": "code",
   "execution_count": 77,
   "id": "547b9518-2a4f-43d9-843b-0262af8bd1db",
   "metadata": {},
   "outputs": [
    {
     "name": "stdout",
     "output_type": "stream",
     "text": [
      "The job elast_test was saved and received the ID: 6\n",
      "The job elast_test_0 was saved and received the ID: 7\n",
      "The job elast_test_1 was saved and received the ID: 8\n",
      "The job elast_test_2 was saved and received the ID: 9\n",
      "The job elast_test_3 was saved and received the ID: 10\n",
      "The job elast_test_4 was saved and received the ID: 11\n",
      "The job elast_test_5 was saved and received the ID: 12\n",
      "The job elast_test_6 was saved and received the ID: 13\n",
      "The job elast_test_7 was saved and received the ID: 14\n",
      "The job elast_test_8 was saved and received the ID: 15\n",
      "The job elast_test_9 was saved and received the ID: 16\n",
      "The job elast_test_10 was saved and received the ID: 17\n",
      "The job elast_test_11 was saved and received the ID: 18\n",
      "The job elast_test_12 was saved and received the ID: 19\n",
      "The job elast_test_13 was saved and received the ID: 20\n",
      "The job elast_test_14 was saved and received the ID: 21\n",
      "The job elast_test_15 was saved and received the ID: 22\n",
      "The job elast_test_16 was saved and received the ID: 23\n",
      "The job elast_test_17 was saved and received the ID: 24\n",
      "The job elast_test_18 was saved and received the ID: 25\n",
      "The job elast_test_19 was saved and received the ID: 26\n",
      "The job elast_test_20 was saved and received the ID: 27\n",
      "The job elast_test_21 was saved and received the ID: 28\n",
      "The job elast_test_22 was saved and received the ID: 29\n"
     ]
    }
   ],
   "source": [
    "lmp = pr.create.job.Lammps('lmp_md')\n",
    "lmp.structure = bulk\n",
    "lmp.calc_md(temperature=300, n_print=1000)\n",
    "lmp.input.control.measure_mean_value('pressures')\n",
    "#lmp.interactive_open()\n",
    "elast = lmp.create_job(ETP.ElasticTensorPressures, 'elast_test', delete_existing_job=True)\n",
    "elast.input['pressure_path'] = 'mean_pressures'\n",
    "elast.run()"
   ]
  },
  {
   "cell_type": "code",
   "execution_count": 85,
   "id": "47d40d9f-b7f9-46a1-bf23-91e85531c998",
   "metadata": {},
   "outputs": [
    {
     "data": {
      "text/plain": [
       "<matplotlib.image.AxesImage at 0x7f03ad820bd0>"
      ]
     },
     "execution_count": 85,
     "metadata": {},
     "output_type": "execute_result"
    },
    {
     "data": {
      "image/png": "[encoded data removed]",
      "text/plain": [
       "<Figure size 288x288 with 1 Axes>"
      ]
     },
     "metadata": {
      "image/png": {
       "height": 257,
       "width": 250
      },
      "needs_background": "light"
     },
     "output_type": "display_data"
    }
   ],
   "source": [
    "plt.matshow(\n",
    "    elast['output/elastic_tensor']\n",
    ")"
   ]
  },
  {
   "cell_type": "markdown",
   "id": "bdfe01eb-5057-4144-a640-01853f0a0eae",
   "metadata": {},
   "source": [
    "## Changes with Temperature"
   ]
  },
  {
   "cell_type": "markdown",
   "id": "e66f3327-0a23-4ecd-b191-37925d27c1c4",
   "metadata": {},
   "source": [
    "### Get Thermal Expansion"
   ]
  },
  {
   "cell_type": "code",
   "execution_count": 99,
   "id": "84c1ab19-5ba3-4560-a44c-3412a6c44196",
   "metadata": {},
   "outputs": [
    {
     "name": "stderr",
     "output_type": "stream",
     "text": [
      "/srv/conda/envs/notebook/lib/python3.7/site-packages/pyiron_atomistics/lammps/base.py:259: UserWarning: No potential set via job.potential - use default potential, 1997--Ackland-G-J--Fe--LAMMPS--ipr1\n",
      "  warnings.warn(\"No potential set via job.potential - use default potential, \" + lst_of_potentials[0])\n"
     ]
    },
    {
     "name": "stdout",
     "output_type": "stream",
     "text": [
      "The job Fe2000_100d0 was saved and received the ID: 42\n",
      "The job Fe2000_200d0 was saved and received the ID: 43\n",
      "The job Fe2000_300d0 was saved and received the ID: 44\n",
      "The job Fe2000_400d0 was saved and received the ID: 45\n",
      "The job Fe2000_500d0 was saved and received the ID: 46\n",
      "The job Fe2000_600d0 was saved and received the ID: 47\n",
      "The job Fe2000_700d0 was saved and received the ID: 48\n",
      "The job Fe2000_800d0 was saved and received the ID: 49\n",
      "The job Fe2000_900d0 was saved and received the ID: 50\n",
      "The job Fe2000_1000d0 was saved and received the ID: 51\n"
     ]
    }
   ],
   "source": [
    "Ts = np.linspace(100, 1000, 10)\n",
    "for T in Ts:\n",
    "    job = pr.create_group('thermal_expansion').create.job.Lammps([bulk, T], delete_existing_job=True)\n",
    "    if job.status.initialized:\n",
    "        job.structure = bulk\n",
    "        job.calc_md(pressure=0, temperature=T, n_ionic_steps=10_000)\n",
    "        job.run()"
   ]
  },
  {
   "cell_type": "code",
   "execution_count": 100,
   "id": "d56e9c67-13a6-4934-9151-71e914519a0e",
   "metadata": {},
   "outputs": [
    {
     "name": "stdout",
     "output_type": "stream",
     "text": [
      "The job expansion_table was saved and received the ID: 52\n"
     ]
    },
    {
     "data": {
      "application/vnd.jupyter.widget-view+json": {
       "model_id": "14b8adfb90da4436afb4c1268f2a07fa",
       "version_major": 2,
       "version_minor": 0
      },
      "text/plain": [
       "  0%|          | 0/10 [00:00<?, ?it/s]"
      ]
     },
     "metadata": {},
     "output_type": "display_data"
    },
    {
     "data": {
      "application/vnd.jupyter.widget-view+json": {
       "model_id": "74f9bc359d834135a7a15e44d0ab6dc7",
       "version_major": 2,
       "version_minor": 0
      },
      "text/plain": [
       "  0%|          | 0/10 [00:00<?, ?it/s]"
      ]
     },
     "metadata": {},
     "output_type": "display_data"
    },
    {
     "data": {
      "text/html": [
       "<div>\n",
       "<style scoped>\n",
       "    .dataframe tbody tr th:only-of-type {\n",
       "        vertical-align: middle;\n",
       "    }\n",
       "\n",
       "    .dataframe tbody tr th {\n",
       "        vertical-align: top;\n",
       "    }\n",
       "\n",
       "    .dataframe thead th {\n",
       "        text-align: right;\n",
       "    }\n",
       "</style>\n",
       "<table border=\"1\" class=\"dataframe\">\n",
       "  <thead>\n",
       "    <tr style=\"text-align: right;\">\n",
       "      <th></th>\n",
       "      <th>job_id</th>\n",
       "      <th>T</th>\n",
       "      <th>V</th>\n",
       "    </tr>\n",
       "  </thead>\n",
       "  <tbody>\n",
       "    <tr>\n",
       "      <th>0</th>\n",
       "      <td>42</td>\n",
       "      <td>100.0</td>\n",
       "      <td>11.816544</td>\n",
       "    </tr>\n",
       "    <tr>\n",
       "      <th>1</th>\n",
       "      <td>43</td>\n",
       "      <td>200.0</td>\n",
       "      <td>11.850675</td>\n",
       "    </tr>\n",
       "    <tr>\n",
       "      <th>2</th>\n",
       "      <td>44</td>\n",
       "      <td>300.0</td>\n",
       "      <td>11.884755</td>\n",
       "    </tr>\n",
       "    <tr>\n",
       "      <th>3</th>\n",
       "      <td>45</td>\n",
       "      <td>400.0</td>\n",
       "      <td>11.917879</td>\n",
       "    </tr>\n",
       "    <tr>\n",
       "      <th>4</th>\n",
       "      <td>46</td>\n",
       "      <td>500.0</td>\n",
       "      <td>11.951880</td>\n",
       "    </tr>\n",
       "    <tr>\n",
       "      <th>5</th>\n",
       "      <td>47</td>\n",
       "      <td>600.0</td>\n",
       "      <td>11.985249</td>\n",
       "    </tr>\n",
       "    <tr>\n",
       "      <th>6</th>\n",
       "      <td>48</td>\n",
       "      <td>700.0</td>\n",
       "      <td>12.019333</td>\n",
       "    </tr>\n",
       "    <tr>\n",
       "      <th>7</th>\n",
       "      <td>49</td>\n",
       "      <td>800.0</td>\n",
       "      <td>12.053059</td>\n",
       "    </tr>\n",
       "    <tr>\n",
       "      <th>8</th>\n",
       "      <td>50</td>\n",
       "      <td>900.0</td>\n",
       "      <td>12.088574</td>\n",
       "    </tr>\n",
       "    <tr>\n",
       "      <th>9</th>\n",
       "      <td>51</td>\n",
       "      <td>1000.0</td>\n",
       "      <td>12.125504</td>\n",
       "    </tr>\n",
       "  </tbody>\n",
       "</table>\n",
       "</div>"
      ],
      "text/plain": [
       "   job_id       T          V\n",
       "0      42   100.0  11.816544\n",
       "1      43   200.0  11.850675\n",
       "2      44   300.0  11.884755\n",
       "3      45   400.0  11.917879\n",
       "4      46   500.0  11.951880\n",
       "5      47   600.0  11.985249\n",
       "6      48   700.0  12.019333\n",
       "7      49   800.0  12.053059\n",
       "8      50   900.0  12.088574\n",
       "9      51  1000.0  12.125504"
      ]
     },
     "execution_count": 100,
     "metadata": {},
     "output_type": "execute_result"
    }
   ],
   "source": [
    "tab = pr.create_group('thermal_expansion').create_table('expansion_table', delete_existing_job=True)\n",
    "tab.db_filter_function = lambda df: df.hamilton == 'Lammps'\n",
    "tab.add['T'] = lambda j: j['input/generic/data_dict']['Value'][2]\n",
    "tab.add['V'] = lambda j: j['output/generic/volume'][5:].mean() / j['input/structure/indices'].shape[0]\n",
    "tab.run()\n",
    "df = tab.get_dataframe()\n",
    "df"
   ]
  },
  {
   "cell_type": "code",
   "execution_count": 102,
   "id": "f084d558-e47f-4861-b915-8286d25025b6",
   "metadata": {},
   "outputs": [
    {
     "data": {
      "text/plain": [
       "<AxesSubplot:xlabel='T', ylabel='V'>"
      ]
     },
     "execution_count": 102,
     "metadata": {},
     "output_type": "execute_result"
    },
    {
     "data": {
      "image/png": "[encoded data removed]",
      "text/plain": [
       "<Figure size 432x288 with 1 Axes>"
      ]
     },
     "metadata": {
      "image/png": {
       "height": 261,
       "width": 398
      },
      "needs_background": "light"
     },
     "output_type": "display_data"
    }
   ],
   "source": [
    "sns.lineplot(data=df, x='T', y='V', marker='o')"
   ]
  },
  {
   "cell_type": "code",
   "execution_count": 106,
   "id": "d8f041fa-1425-41f2-930f-5227fd00bd36",
   "metadata": {},
   "outputs": [],
   "source": [
    "V_of_T = np.poly1d(np.polyfit(df['T'], df['V'], deg=1))"
   ]
  },
  {
   "cell_type": "code",
   "execution_count": 107,
   "id": "3b126200-e85f-4e90-b133-2c7eec6837ae",
   "metadata": {},
   "outputs": [
    {
     "data": {
      "text/plain": [
       "[<matplotlib.lines.Line2D at 0x7f039c12c510>]"
      ]
     },
     "execution_count": 107,
     "metadata": {},
     "output_type": "execute_result"
    },
    {
     "data": {
      "image/png": "[encoded data removed]",
      "text/plain": [
       "<Figure size 432x288 with 1 Axes>"
      ]
     },
     "metadata": {
      "image/png": {
       "height": 261,
       "width": 391
      },
      "needs_background": "light"
     },
     "output_type": "display_data"
    }
   ],
   "source": [
    "sns.lineplot(data=df, x='T', y='V', marker='o')\n",
    "ti = np.linspace(0, 2000)\n",
    "plt.plot(ti, V_of_T(ti))"
   ]
  },
  {
   "cell_type": "markdown",
   "id": "5277c954-9b5b-4a22-b3b6-d404ca1814cc",
   "metadata": {},
   "source": [
    "### Actual Calculation"
   ]
  },
  {
   "cell_type": "code",
   "execution_count": 109,
   "id": "4e9971d2-05aa-4796-983d-ab9d9c924fa7",
   "metadata": {
    "tags": []
   },
   "outputs": [],
   "source": [
    "def calc_elastic(bulk, V, T, delete_existing_job=False, pr=pr):\n",
    "    pr = pr.create_group('elastic')\n",
    "    \n",
    "    V0 = bulk.get_volume(per_atom=True)\n",
    "    bulk = bulk.apply_strain( (V/V0)**(1/3) - 1, return_box=True )\n",
    "    \n",
    "    lmp = pr.create.job.Lammps('lmp_md')\n",
    "    lmp.structure = bulk\n",
    "    lmp.calc_md(temperature=T, n_print=1000)\n",
    "    lmp.input.control.measure_mean_value('pressures')\n",
    "    #lmp.interactive_open()\n",
    "    elast = lmp.create_job(ETP.ElasticTensorPressures, f'{bulk}_T{T}K'.replace('.', '_'), delete_existing_job=delete_existing_job)\n",
    "    elast.input['pressure_path'] = 'mean_pressures'\n",
    "    elast.run()\n",
    "    return elast"
   ]
  },
  {
   "cell_type": "code",
   "execution_count": 110,
   "id": "e9b912bc-9361-4dd1-baae-87e086743db7",
   "metadata": {
    "scrolled": true,
    "tags": []
   },
   "outputs": [
    {
     "name": "stdout",
     "output_type": "stream",
     "text": [
      "The job Fe2000_T100_0K was saved and received the ID: 53\n"
     ]
    },
    {
     "name": "stderr",
     "output_type": "stream",
     "text": [
      "/srv/conda/envs/notebook/lib/python3.7/site-packages/pyiron_atomistics/lammps/base.py:259: UserWarning: No potential set via job.potential - use default potential, 1997--Ackland-G-J--Fe--LAMMPS--ipr1\n",
      "  warnings.warn(\"No potential set via job.potential - use default potential, \" + lst_of_potentials[0])\n"
     ]
    },
    {
     "name": "stdout",
     "output_type": "stream",
     "text": [
      "The job Fe2000_T100_0K_0 was saved and received the ID: 54\n",
      "The job Fe2000_T100_0K_1 was saved and received the ID: 55\n",
      "The job Fe2000_T100_0K_2 was saved and received the ID: 56\n",
      "The job Fe2000_T100_0K_3 was saved and received the ID: 57\n",
      "The job Fe2000_T100_0K_4 was saved and received the ID: 58\n",
      "The job Fe2000_T100_0K_5 was saved and received the ID: 59\n",
      "The job Fe2000_T100_0K_6 was saved and received the ID: 60\n",
      "The job Fe2000_T100_0K_7 was saved and received the ID: 61\n",
      "The job Fe2000_T100_0K_8 was saved and received the ID: 62\n",
      "The job Fe2000_T100_0K_9 was saved and received the ID: 63\n",
      "The job Fe2000_T100_0K_10 was saved and received the ID: 64\n",
      "The job Fe2000_T100_0K_11 was saved and received the ID: 65\n",
      "The job Fe2000_T100_0K_12 was saved and received the ID: 66\n",
      "The job Fe2000_T100_0K_13 was saved and received the ID: 67\n",
      "The job Fe2000_T100_0K_14 was saved and received the ID: 68\n",
      "The job Fe2000_T100_0K_15 was saved and received the ID: 69\n",
      "The job Fe2000_T100_0K_16 was saved and received the ID: 70\n",
      "The job Fe2000_T100_0K_17 was saved and received the ID: 71\n",
      "The job Fe2000_T100_0K_18 was saved and received the ID: 72\n",
      "The job Fe2000_T100_0K_19 was saved and received the ID: 73\n",
      "The job Fe2000_T100_0K_20 was saved and received the ID: 74\n",
      "The job Fe2000_T100_0K_21 was saved and received the ID: 75\n",
      "The job Fe2000_T100_0K_22 was saved and received the ID: 76\n",
      "The job Fe2000_T200_0K was saved and received the ID: 77\n"
     ]
    },
    {
     "name": "stderr",
     "output_type": "stream",
     "text": [
      "/srv/conda/envs/notebook/lib/python3.7/site-packages/pyiron_atomistics/lammps/base.py:259: UserWarning: No potential set via job.potential - use default potential, 1997--Ackland-G-J--Fe--LAMMPS--ipr1\n",
      "  warnings.warn(\"No potential set via job.potential - use default potential, \" + lst_of_potentials[0])\n"
     ]
    },
    {
     "name": "stdout",
     "output_type": "stream",
     "text": [
      "The job Fe2000_T200_0K_0 was saved and received the ID: 78\n",
      "The job Fe2000_T200_0K_1 was saved and received the ID: 79\n",
      "The job Fe2000_T200_0K_2 was saved and received the ID: 80\n",
      "The job Fe2000_T200_0K_3 was saved and received the ID: 81\n",
      "The job Fe2000_T200_0K_4 was saved and received the ID: 82\n",
      "The job Fe2000_T200_0K_5 was saved and received the ID: 83\n",
      "The job Fe2000_T200_0K_6 was saved and received the ID: 84\n",
      "The job Fe2000_T200_0K_7 was saved and received the ID: 85\n",
      "The job Fe2000_T200_0K_8 was saved and received the ID: 86\n",
      "The job Fe2000_T200_0K_9 was saved and received the ID: 87\n",
      "The job Fe2000_T200_0K_10 was saved and received the ID: 88\n",
      "The job Fe2000_T200_0K_11 was saved and received the ID: 89\n",
      "The job Fe2000_T200_0K_12 was saved and received the ID: 90\n",
      "The job Fe2000_T200_0K_13 was saved and received the ID: 91\n",
      "The job Fe2000_T200_0K_14 was saved and received the ID: 92\n",
      "The job Fe2000_T200_0K_15 was saved and received the ID: 93\n",
      "The job Fe2000_T200_0K_16 was saved and received the ID: 94\n",
      "The job Fe2000_T200_0K_17 was saved and received the ID: 95\n",
      "The job Fe2000_T200_0K_18 was saved and received the ID: 96\n",
      "The job Fe2000_T200_0K_19 was saved and received the ID: 97\n",
      "The job Fe2000_T200_0K_20 was saved and received the ID: 98\n",
      "The job Fe2000_T200_0K_21 was saved and received the ID: 99\n",
      "The job Fe2000_T200_0K_22 was saved and received the ID: 100\n",
      "The job Fe2000_T300_0K was saved and received the ID: 101\n"
     ]
    },
    {
     "name": "stderr",
     "output_type": "stream",
     "text": [
      "/srv/conda/envs/notebook/lib/python3.7/site-packages/pyiron_atomistics/lammps/base.py:259: UserWarning: No potential set via job.potential - use default potential, 1997--Ackland-G-J--Fe--LAMMPS--ipr1\n",
      "  warnings.warn(\"No potential set via job.potential - use default potential, \" + lst_of_potentials[0])\n"
     ]
    },
    {
     "name": "stdout",
     "output_type": "stream",
     "text": [
      "The job Fe2000_T300_0K_0 was saved and received the ID: 102\n",
      "The job Fe2000_T300_0K_1 was saved and received the ID: 103\n",
      "The job Fe2000_T300_0K_2 was saved and received the ID: 104\n",
      "The job Fe2000_T300_0K_3 was saved and received the ID: 105\n",
      "The job Fe2000_T300_0K_4 was saved and received the ID: 106\n",
      "The job Fe2000_T300_0K_5 was saved and received the ID: 107\n",
      "The job Fe2000_T300_0K_6 was saved and received the ID: 108\n",
      "The job Fe2000_T300_0K_7 was saved and received the ID: 109\n",
      "The job Fe2000_T300_0K_8 was saved and received the ID: 110\n",
      "The job Fe2000_T300_0K_9 was saved and received the ID: 111\n",
      "The job Fe2000_T300_0K_10 was saved and received the ID: 112\n",
      "The job Fe2000_T300_0K_11 was saved and received the ID: 113\n",
      "The job Fe2000_T300_0K_12 was saved and received the ID: 114\n",
      "The job Fe2000_T300_0K_13 was saved and received the ID: 115\n",
      "The job Fe2000_T300_0K_14 was saved and received the ID: 116\n",
      "The job Fe2000_T300_0K_15 was saved and received the ID: 117\n",
      "The job Fe2000_T300_0K_16 was saved and received the ID: 118\n",
      "The job Fe2000_T300_0K_17 was saved and received the ID: 119\n",
      "The job Fe2000_T300_0K_18 was saved and received the ID: 120\n",
      "The job Fe2000_T300_0K_19 was saved and received the ID: 121\n",
      "The job Fe2000_T300_0K_20 was saved and received the ID: 122\n",
      "The job Fe2000_T300_0K_21 was saved and received the ID: 123\n",
      "The job Fe2000_T300_0K_22 was saved and received the ID: 124\n",
      "The job Fe2000_T400_0K was saved and received the ID: 125\n"
     ]
    },
    {
     "name": "stderr",
     "output_type": "stream",
     "text": [
      "/srv/conda/envs/notebook/lib/python3.7/site-packages/pyiron_atomistics/lammps/base.py:259: UserWarning: No potential set via job.potential - use default potential, 1997--Ackland-G-J--Fe--LAMMPS--ipr1\n",
      "  warnings.warn(\"No potential set via job.potential - use default potential, \" + lst_of_potentials[0])\n"
     ]
    },
    {
     "name": "stdout",
     "output_type": "stream",
     "text": [
      "The job Fe2000_T400_0K_0 was saved and received the ID: 126\n",
      "The job Fe2000_T400_0K_1 was saved and received the ID: 127\n",
      "The job Fe2000_T400_0K_2 was saved and received the ID: 128\n",
      "The job Fe2000_T400_0K_3 was saved and received the ID: 129\n",
      "The job Fe2000_T400_0K_4 was saved and received the ID: 130\n",
      "The job Fe2000_T400_0K_5 was saved and received the ID: 131\n",
      "The job Fe2000_T400_0K_6 was saved and received the ID: 132\n",
      "The job Fe2000_T400_0K_7 was saved and received the ID: 133\n",
      "The job Fe2000_T400_0K_8 was saved and received the ID: 134\n",
      "The job Fe2000_T400_0K_9 was saved and received the ID: 135\n",
      "The job Fe2000_T400_0K_10 was saved and received the ID: 136\n",
      "The job Fe2000_T400_0K_11 was saved and received the ID: 137\n",
      "The job Fe2000_T400_0K_12 was saved and received the ID: 138\n",
      "The job Fe2000_T400_0K_13 was saved and received the ID: 139\n",
      "The job Fe2000_T400_0K_14 was saved and received the ID: 140\n",
      "The job Fe2000_T400_0K_15 was saved and received the ID: 141\n",
      "The job Fe2000_T400_0K_16 was saved and received the ID: 142\n",
      "The job Fe2000_T400_0K_17 was saved and received the ID: 143\n",
      "The job Fe2000_T400_0K_18 was saved and received the ID: 144\n",
      "The job Fe2000_T400_0K_19 was saved and received the ID: 145\n",
      "The job Fe2000_T400_0K_20 was saved and received the ID: 146\n",
      "The job Fe2000_T400_0K_21 was saved and received the ID: 147\n",
      "The job Fe2000_T400_0K_22 was saved and received the ID: 148\n",
      "The job Fe2000_T500_0K was saved and received the ID: 149\n"
     ]
    },
    {
     "name": "stderr",
     "output_type": "stream",
     "text": [
      "/srv/conda/envs/notebook/lib/python3.7/site-packages/pyiron_atomistics/lammps/base.py:259: UserWarning: No potential set via job.potential - use default potential, 1997--Ackland-G-J--Fe--LAMMPS--ipr1\n",
      "  warnings.warn(\"No potential set via job.potential - use default potential, \" + lst_of_potentials[0])\n"
     ]
    },
    {
     "name": "stdout",
     "output_type": "stream",
     "text": [
      "The job Fe2000_T500_0K_0 was saved and received the ID: 150\n",
      "The job Fe2000_T500_0K_1 was saved and received the ID: 151\n",
      "The job Fe2000_T500_0K_2 was saved and received the ID: 152\n",
      "The job Fe2000_T500_0K_3 was saved and received the ID: 153\n",
      "The job Fe2000_T500_0K_4 was saved and received the ID: 154\n",
      "The job Fe2000_T500_0K_5 was saved and received the ID: 155\n",
      "The job Fe2000_T500_0K_6 was saved and received the ID: 156\n",
      "The job Fe2000_T500_0K_7 was saved and received the ID: 157\n",
      "The job Fe2000_T500_0K_8 was saved and received the ID: 158\n",
      "The job Fe2000_T500_0K_9 was saved and received the ID: 159\n",
      "The job Fe2000_T500_0K_10 was saved and received the ID: 160\n",
      "The job Fe2000_T500_0K_11 was saved and received the ID: 161\n",
      "The job Fe2000_T500_0K_12 was saved and received the ID: 162\n",
      "The job Fe2000_T500_0K_13 was saved and received the ID: 163\n",
      "The job Fe2000_T500_0K_14 was saved and received the ID: 164\n",
      "The job Fe2000_T500_0K_15 was saved and received the ID: 165\n",
      "The job Fe2000_T500_0K_16 was saved and received the ID: 166\n",
      "The job Fe2000_T500_0K_17 was saved and received the ID: 167\n",
      "The job Fe2000_T500_0K_18 was saved and received the ID: 168\n",
      "The job Fe2000_T500_0K_19 was saved and received the ID: 169\n",
      "The job Fe2000_T500_0K_20 was saved and received the ID: 170\n",
      "The job Fe2000_T500_0K_21 was saved and received the ID: 171\n",
      "The job Fe2000_T500_0K_22 was saved and received the ID: 172\n",
      "The job Fe2000_T600_0K was saved and received the ID: 173\n"
     ]
    },
    {
     "name": "stderr",
     "output_type": "stream",
     "text": [
      "/srv/conda/envs/notebook/lib/python3.7/site-packages/pyiron_atomistics/lammps/base.py:259: UserWarning: No potential set via job.potential - use default potential, 1997--Ackland-G-J--Fe--LAMMPS--ipr1\n",
      "  warnings.warn(\"No potential set via job.potential - use default potential, \" + lst_of_potentials[0])\n"
     ]
    },
    {
     "name": "stdout",
     "output_type": "stream",
     "text": [
      "The job Fe2000_T600_0K_0 was saved and received the ID: 174\n",
      "The job Fe2000_T600_0K_1 was saved and received the ID: 175\n",
      "The job Fe2000_T600_0K_2 was saved and received the ID: 176\n",
      "The job Fe2000_T600_0K_3 was saved and received the ID: 177\n",
      "The job Fe2000_T600_0K_4 was saved and received the ID: 178\n",
      "The job Fe2000_T600_0K_5 was saved and received the ID: 179\n",
      "The job Fe2000_T600_0K_6 was saved and received the ID: 180\n",
      "The job Fe2000_T600_0K_7 was saved and received the ID: 181\n",
      "The job Fe2000_T600_0K_8 was saved and received the ID: 182\n",
      "The job Fe2000_T600_0K_9 was saved and received the ID: 183\n",
      "The job Fe2000_T600_0K_10 was saved and received the ID: 184\n",
      "The job Fe2000_T600_0K_11 was saved and received the ID: 185\n",
      "The job Fe2000_T600_0K_12 was saved and received the ID: 186\n",
      "The job Fe2000_T600_0K_13 was saved and received the ID: 187\n",
      "The job Fe2000_T600_0K_14 was saved and received the ID: 188\n",
      "The job Fe2000_T600_0K_15 was saved and received the ID: 189\n",
      "The job Fe2000_T600_0K_16 was saved and received the ID: 190\n",
      "The job Fe2000_T600_0K_17 was saved and received the ID: 191\n",
      "The job Fe2000_T600_0K_18 was saved and received the ID: 192\n",
      "The job Fe2000_T600_0K_19 was saved and received the ID: 193\n",
      "The job Fe2000_T600_0K_20 was saved and received the ID: 194\n",
      "The job Fe2000_T600_0K_21 was saved and received the ID: 195\n",
      "The job Fe2000_T600_0K_22 was saved and received the ID: 196\n",
      "The job Fe2000_T700_0K was saved and received the ID: 197\n"
     ]
    },
    {
     "name": "stderr",
     "output_type": "stream",
     "text": [
      "/srv/conda/envs/notebook/lib/python3.7/site-packages/pyiron_atomistics/lammps/base.py:259: UserWarning: No potential set via job.potential - use default potential, 1997--Ackland-G-J--Fe--LAMMPS--ipr1\n",
      "  warnings.warn(\"No potential set via job.potential - use default potential, \" + lst_of_potentials[0])\n"
     ]
    },
    {
     "name": "stdout",
     "output_type": "stream",
     "text": [
      "The job Fe2000_T700_0K_0 was saved and received the ID: 198\n",
      "The job Fe2000_T700_0K_1 was saved and received the ID: 199\n",
      "The job Fe2000_T700_0K_2 was saved and received the ID: 200\n",
      "The job Fe2000_T700_0K_3 was saved and received the ID: 201\n",
      "The job Fe2000_T700_0K_4 was saved and received the ID: 202\n",
      "The job Fe2000_T700_0K_5 was saved and received the ID: 203\n",
      "The job Fe2000_T700_0K_6 was saved and received the ID: 204\n",
      "The job Fe2000_T700_0K_7 was saved and received the ID: 205\n",
      "The job Fe2000_T700_0K_8 was saved and received the ID: 206\n",
      "The job Fe2000_T700_0K_9 was saved and received the ID: 207\n",
      "The job Fe2000_T700_0K_10 was saved and received the ID: 208\n",
      "The job Fe2000_T700_0K_11 was saved and received the ID: 209\n",
      "The job Fe2000_T700_0K_12 was saved and received the ID: 210\n",
      "The job Fe2000_T700_0K_13 was saved and received the ID: 211\n",
      "The job Fe2000_T700_0K_14 was saved and received the ID: 212\n",
      "The job Fe2000_T700_0K_15 was saved and received the ID: 213\n",
      "The job Fe2000_T700_0K_16 was saved and received the ID: 214\n",
      "The job Fe2000_T700_0K_17 was saved and received the ID: 215\n",
      "The job Fe2000_T700_0K_18 was saved and received the ID: 216\n",
      "The job Fe2000_T700_0K_19 was saved and received the ID: 217\n",
      "The job Fe2000_T700_0K_20 was saved and received the ID: 218\n",
      "The job Fe2000_T700_0K_21 was saved and received the ID: 219\n",
      "The job Fe2000_T700_0K_22 was saved and received the ID: 220\n",
      "The job Fe2000_T800_0K was saved and received the ID: 221\n"
     ]
    },
    {
     "name": "stderr",
     "output_type": "stream",
     "text": [
      "/srv/conda/envs/notebook/lib/python3.7/site-packages/pyiron_atomistics/lammps/base.py:259: UserWarning: No potential set via job.potential - use default potential, 1997--Ackland-G-J--Fe--LAMMPS--ipr1\n",
      "  warnings.warn(\"No potential set via job.potential - use default potential, \" + lst_of_potentials[0])\n"
     ]
    },
    {
     "name": "stdout",
     "output_type": "stream",
     "text": [
      "The job Fe2000_T800_0K_0 was saved and received the ID: 222\n",
      "The job Fe2000_T800_0K_1 was saved and received the ID: 223\n",
      "The job Fe2000_T800_0K_2 was saved and received the ID: 224\n",
      "The job Fe2000_T800_0K_3 was saved and received the ID: 225\n",
      "The job Fe2000_T800_0K_4 was saved and received the ID: 226\n",
      "The job Fe2000_T800_0K_5 was saved and received the ID: 227\n",
      "The job Fe2000_T800_0K_6 was saved and received the ID: 228\n",
      "The job Fe2000_T800_0K_7 was saved and received the ID: 229\n",
      "The job Fe2000_T800_0K_8 was saved and received the ID: 230\n",
      "The job Fe2000_T800_0K_9 was saved and received the ID: 231\n",
      "The job Fe2000_T800_0K_10 was saved and received the ID: 232\n",
      "The job Fe2000_T800_0K_11 was saved and received the ID: 233\n",
      "The job Fe2000_T800_0K_12 was saved and received the ID: 234\n",
      "The job Fe2000_T800_0K_13 was saved and received the ID: 235\n",
      "The job Fe2000_T800_0K_14 was saved and received the ID: 236\n",
      "The job Fe2000_T800_0K_15 was saved and received the ID: 237\n",
      "The job Fe2000_T800_0K_16 was saved and received the ID: 238\n",
      "The job Fe2000_T800_0K_17 was saved and received the ID: 239\n",
      "The job Fe2000_T800_0K_18 was saved and received the ID: 240\n",
      "The job Fe2000_T800_0K_19 was saved and received the ID: 241\n",
      "The job Fe2000_T800_0K_20 was saved and received the ID: 242\n",
      "The job Fe2000_T800_0K_21 was saved and received the ID: 243\n",
      "The job Fe2000_T800_0K_22 was saved and received the ID: 244\n",
      "The job Fe2000_T900_0K was saved and received the ID: 245\n"
     ]
    },
    {
     "name": "stderr",
     "output_type": "stream",
     "text": [
      "/srv/conda/envs/notebook/lib/python3.7/site-packages/pyiron_atomistics/lammps/base.py:259: UserWarning: No potential set via job.potential - use default potential, 1997--Ackland-G-J--Fe--LAMMPS--ipr1\n",
      "  warnings.warn(\"No potential set via job.potential - use default potential, \" + lst_of_potentials[0])\n"
     ]
    },
    {
     "name": "stdout",
     "output_type": "stream",
     "text": [
      "The job Fe2000_T900_0K_0 was saved and received the ID: 246\n",
      "The job Fe2000_T900_0K_1 was saved and received the ID: 247\n",
      "The job Fe2000_T900_0K_2 was saved and received the ID: 248\n",
      "The job Fe2000_T900_0K_3 was saved and received the ID: 249\n",
      "The job Fe2000_T900_0K_4 was saved and received the ID: 250\n",
      "The job Fe2000_T900_0K_5 was saved and received the ID: 251\n",
      "The job Fe2000_T900_0K_6 was saved and received the ID: 252\n",
      "The job Fe2000_T900_0K_7 was saved and received the ID: 253\n",
      "The job Fe2000_T900_0K_8 was saved and received the ID: 254\n",
      "The job Fe2000_T900_0K_9 was saved and received the ID: 255\n",
      "The job Fe2000_T900_0K_10 was saved and received the ID: 256\n",
      "The job Fe2000_T900_0K_11 was saved and received the ID: 257\n",
      "The job Fe2000_T900_0K_12 was saved and received the ID: 258\n",
      "The job Fe2000_T900_0K_13 was saved and received the ID: 259\n",
      "The job Fe2000_T900_0K_14 was saved and received the ID: 260\n",
      "The job Fe2000_T900_0K_15 was saved and received the ID: 261\n",
      "The job Fe2000_T900_0K_16 was saved and received the ID: 262\n",
      "The job Fe2000_T900_0K_17 was saved and received the ID: 263\n",
      "The job Fe2000_T900_0K_18 was saved and received the ID: 264\n",
      "The job Fe2000_T900_0K_19 was saved and received the ID: 265\n",
      "The job Fe2000_T900_0K_20 was saved and received the ID: 266\n",
      "The job Fe2000_T900_0K_21 was saved and received the ID: 267\n",
      "The job Fe2000_T900_0K_22 was saved and received the ID: 268\n",
      "The job Fe2000_T1000_0K was saved and received the ID: 269\n"
     ]
    },
    {
     "name": "stderr",
     "output_type": "stream",
     "text": [
      "/srv/conda/envs/notebook/lib/python3.7/site-packages/pyiron_atomistics/lammps/base.py:259: UserWarning: No potential set via job.potential - use default potential, 1997--Ackland-G-J--Fe--LAMMPS--ipr1\n",
      "  warnings.warn(\"No potential set via job.potential - use default potential, \" + lst_of_potentials[0])\n"
     ]
    },
    {
     "name": "stdout",
     "output_type": "stream",
     "text": [
      "The job Fe2000_T1000_0K_0 was saved and received the ID: 270\n",
      "The job Fe2000_T1000_0K_1 was saved and received the ID: 271\n",
      "The job Fe2000_T1000_0K_2 was saved and received the ID: 272\n",
      "The job Fe2000_T1000_0K_3 was saved and received the ID: 273\n",
      "The job Fe2000_T1000_0K_4 was saved and received the ID: 274\n",
      "The job Fe2000_T1000_0K_5 was saved and received the ID: 275\n",
      "The job Fe2000_T1000_0K_6 was saved and received the ID: 276\n",
      "The job Fe2000_T1000_0K_7 was saved and received the ID: 277\n",
      "The job Fe2000_T1000_0K_8 was saved and received the ID: 278\n",
      "The job Fe2000_T1000_0K_9 was saved and received the ID: 279\n",
      "The job Fe2000_T1000_0K_10 was saved and received the ID: 280\n",
      "The job Fe2000_T1000_0K_11 was saved and received the ID: 281\n",
      "The job Fe2000_T1000_0K_12 was saved and received the ID: 282\n",
      "The job Fe2000_T1000_0K_13 was saved and received the ID: 283\n",
      "The job Fe2000_T1000_0K_14 was saved and received the ID: 284\n",
      "The job Fe2000_T1000_0K_15 was saved and received the ID: 285\n",
      "The job Fe2000_T1000_0K_16 was saved and received the ID: 286\n",
      "The job Fe2000_T1000_0K_17 was saved and received the ID: 287\n",
      "The job Fe2000_T1000_0K_18 was saved and received the ID: 288\n",
      "The job Fe2000_T1000_0K_19 was saved and received the ID: 289\n",
      "The job Fe2000_T1000_0K_20 was saved and received the ID: 290\n",
      "The job Fe2000_T1000_0K_21 was saved and received the ID: 291\n",
      "The job Fe2000_T1000_0K_22 was saved and received the ID: 292\n"
     ]
    }
   ],
   "source": [
    "Ts = np.linspace(100, 1000, 10)\n",
    "for T in Ts:\n",
    "    elast = calc_elastic(bulk, V_of_T(T), T)"
   ]
  },
  {
   "cell_type": "code",
   "execution_count": 114,
   "id": "11ef81a1-b17d-4372-86cc-3cfc0bc86e72",
   "metadata": {},
   "outputs": [
    {
     "data": {
      "text/plain": [
       "{'groups': ['control_inp', 'generic', 'potential_inp', 'structure'], 'nodes': ['generic_dict', 'interactive']}"
      ]
     },
     "execution_count": 114,
     "metadata": {},
     "output_type": "execute_result"
    }
   ],
   "source": [
    "pr['elastic/Fe2000_T100_0K/lmp_md/input']"
   ]
  },
  {
   "cell_type": "code",
   "execution_count": 115,
   "id": "cc854b0e-2385-43cc-b598-991a2a7eb1e4",
   "metadata": {},
   "outputs": [
    {
     "name": "stdout",
     "output_type": "stream",
     "text": [
      "The job elastic_table was saved and received the ID: 293\n"
     ]
    },
    {
     "data": {
      "application/vnd.jupyter.widget-view+json": {
       "model_id": "ba75ddfa0db146e181b8d39f9143067a",
       "version_major": 2,
       "version_minor": 0
      },
      "text/plain": [
       "  0%|          | 0/10 [00:00<?, ?it/s]"
      ]
     },
     "metadata": {},
     "output_type": "display_data"
    },
    {
     "data": {
      "application/vnd.jupyter.widget-view+json": {
       "model_id": "6589af051efa4a6b94935d3f8e82bb5d",
       "version_major": 2,
       "version_minor": 0
      },
      "text/plain": [
       "  0%|          | 0/10 [00:00<?, ?it/s]"
      ]
     },
     "metadata": {},
     "output_type": "display_data"
    },
    {
     "name": "stderr",
     "output_type": "stream",
     "text": [
      "/srv/conda/envs/notebook/lib/python3.7/site-packages/pandas/core/generic.py:2718: PerformanceWarning: \n",
      "your performance may suffer as PyTables will pickle object types that it cannot\n",
      "map directly to c-types [inferred_type->mixed,key->block2_values] [items->Index(['tensor'], dtype='object')]\n",
      "\n",
      "  encoding=encoding,\n"
     ]
    },
    {
     "data": {
      "text/html": [
       "<div>\n",
       "<style scoped>\n",
       "    .dataframe tbody tr th:only-of-type {\n",
       "        vertical-align: middle;\n",
       "    }\n",
       "\n",
       "    .dataframe tbody tr th {\n",
       "        vertical-align: top;\n",
       "    }\n",
       "\n",
       "    .dataframe thead th {\n",
       "        text-align: right;\n",
       "    }\n",
       "</style>\n",
       "<table border=\"1\" class=\"dataframe\">\n",
       "  <thead>\n",
       "    <tr style=\"text-align: right;\">\n",
       "      <th></th>\n",
       "      <th>job_id</th>\n",
       "      <th>T</th>\n",
       "      <th>tensor</th>\n",
       "    </tr>\n",
       "  </thead>\n",
       "  <tbody>\n",
       "    <tr>\n",
       "      <th>0</th>\n",
       "      <td>53</td>\n",
       "      <td>100.0</td>\n",
       "      <td>[[250.62776825004295, 155.82271909577665, 155.81940652968245, 0.004689312094091624, 0.004329573401152415, 0.00800571640510362], [155.82075516971776, 250.62997357805244, 155.8187277111408, 0.008401...</td>\n",
       "    </tr>\n",
       "    <tr>\n",
       "      <th>1</th>\n",
       "      <td>77</td>\n",
       "      <td>200.0</td>\n",
       "      <td>[[249.39407914323616, 157.73903833015504, 157.7301907827611, -0.01791014562807997, 0.018784300970942386, -0.001236578937413696], [157.738562807277, 249.39482238388854, 157.7316352631297, -0.009591...</td>\n",
       "    </tr>\n",
       "    <tr>\n",
       "      <th>2</th>\n",
       "      <td>101</td>\n",
       "      <td>300.0</td>\n",
       "      <td>[[247.15997548512732, 158.33085708638728, 158.33739106983725, 0.005933279942380433, 0.007022544072810448, -0.0014202714698121], [158.33577940056787, 247.15011450745163, 158.3397291148518, 0.006802...</td>\n",
       "    </tr>\n",
       "    <tr>\n",
       "      <th>3</th>\n",
       "      <td>125</td>\n",
       "      <td>400.0</td>\n",
       "      <td>[[243.77396152410438, 158.181984194385, 158.18119676532598, -0.0015389218248891684, 0.009859681843302019, 0.0028702353930687083], [158.1869379012641, 243.7698634344963, 158.1881478261676, 0.001603...</td>\n",
       "    </tr>\n",
       "    <tr>\n",
       "      <th>4</th>\n",
       "      <td>149</td>\n",
       "      <td>500.0</td>\n",
       "      <td>[[240.52010053893648, 158.11794825061128, 158.12566675024223, -0.003317803485821606, 0.012621486374742402, 0.0022337996706096], [158.12029940931626, 240.50693178591575, 158.12626394682815, 0.00429...</td>\n",
       "    </tr>\n",
       "    <tr>\n",
       "      <th>5</th>\n",
       "      <td>173</td>\n",
       "      <td>600.0</td>\n",
       "      <td>[[236.22179084409976, 157.33829642037716, 157.3429570400536, 0.0063573901169459955, 0.004587449551565887, -0.0024801091913150396], [157.34813641138425, 236.2044424418379, 157.34501309877598, 0.003...</td>\n",
       "    </tr>\n",
       "    <tr>\n",
       "      <th>6</th>\n",
       "      <td>197</td>\n",
       "      <td>700.0</td>\n",
       "      <td>[[231.69411708282362, 156.587395091737, 156.58746583466717, 0.012895658085901165, 0.015811611254329175, 0.007860796343622578], [156.5912688928217, 231.69073360354503, 156.59010157343718, -0.001525...</td>\n",
       "    </tr>\n",
       "    <tr>\n",
       "      <th>7</th>\n",
       "      <td>221</td>\n",
       "      <td>800.0</td>\n",
       "      <td>[[226.97773094554492, 155.20868693627983, 155.24941517323478, 0.014437346783742618, 0.021160920640604965, 0.004068149094782219], [155.2422955596483, 226.97027692980885, 155.23041971842235, -0.0028...</td>\n",
       "    </tr>\n",
       "    <tr>\n",
       "      <th>8</th>\n",
       "      <td>245</td>\n",
       "      <td>900.0</td>\n",
       "      <td>[[221.93571716529195, 154.3515110745394, 154.36578003186062, 0.02197343680702516, 0.019509519225315394, 0.00819728158028892], [154.3619197080949, 221.93410917225728, 154.34422998712557, -0.0009668...</td>\n",
       "    </tr>\n",
       "    <tr>\n",
       "      <th>9</th>\n",
       "      <td>269</td>\n",
       "      <td>1000.0</td>\n",
       "      <td>[[216.54414139977806, 152.92283416853897, 152.9850771571239, 0.02931293089934905, 0.020251830237071132, 0.016233293769178078], [152.9667131227826, 216.53048649359317, 152.93559585748466, 0.0041659...</td>\n",
       "    </tr>\n",
       "  </tbody>\n",
       "</table>\n",
       "</div>"
      ],
      "text/plain": [
       "   job_id       T  \\\n",
       "0      53   100.0   \n",
       "1      77   200.0   \n",
       "2     101   300.0   \n",
       "3     125   400.0   \n",
       "4     149   500.0   \n",
       "5     173   600.0   \n",
       "6     197   700.0   \n",
       "7     221   800.0   \n",
       "8     245   900.0   \n",
       "9     269  1000.0   \n",
       "\n",
       "                                                                                                                                                                                                    tensor  \n",
       "0  [[250.62776825004295, 155.82271909577665, 155.81940652968245, 0.004689312094091624, 0.004329573401152415, 0.00800571640510362], [155.82075516971776, 250.62997357805244, 155.8187277111408, 0.008401...  \n",
       "1  [[249.39407914323616, 157.73903833015504, 157.7301907827611, -0.01791014562807997, 0.018784300970942386, -0.001236578937413696], [157.738562807277, 249.39482238388854, 157.7316352631297, -0.009591...  \n",
       "2  [[247.15997548512732, 158.33085708638728, 158.33739106983725, 0.005933279942380433, 0.007022544072810448, -0.0014202714698121], [158.33577940056787, 247.15011450745163, 158.3397291148518, 0.006802...  \n",
       "3  [[243.77396152410438, 158.181984194385, 158.18119676532598, -0.0015389218248891684, 0.009859681843302019, 0.0028702353930687083], [158.1869379012641, 243.7698634344963, 158.1881478261676, 0.001603...  \n",
       "4  [[240.52010053893648, 158.11794825061128, 158.12566675024223, -0.003317803485821606, 0.012621486374742402, 0.0022337996706096], [158.12029940931626, 240.50693178591575, 158.12626394682815, 0.00429...  \n",
       "5  [[236.22179084409976, 157.33829642037716, 157.3429570400536, 0.0063573901169459955, 0.004587449551565887, -0.0024801091913150396], [157.34813641138425, 236.2044424418379, 157.34501309877598, 0.003...  \n",
       "6  [[231.69411708282362, 156.587395091737, 156.58746583466717, 0.012895658085901165, 0.015811611254329175, 0.007860796343622578], [156.5912688928217, 231.69073360354503, 156.59010157343718, -0.001525...  \n",
       "7  [[226.97773094554492, 155.20868693627983, 155.24941517323478, 0.014437346783742618, 0.021160920640604965, 0.004068149094782219], [155.2422955596483, 226.97027692980885, 155.23041971842235, -0.0028...  \n",
       "8  [[221.93571716529195, 154.3515110745394, 154.36578003186062, 0.02197343680702516, 0.019509519225315394, 0.00819728158028892], [154.3619197080949, 221.93410917225728, 154.34422998712557, -0.0009668...  \n",
       "9  [[216.54414139977806, 152.92283416853897, 152.9850771571239, 0.02931293089934905, 0.020251830237071132, 0.016233293769178078], [152.9667131227826, 216.53048649359317, 152.93559585748466, 0.0041659...  "
      ]
     },
     "execution_count": 115,
     "metadata": {},
     "output_type": "execute_result"
    }
   ],
   "source": [
    "tab = pr.create_group('elastic').create_table('elastic_table', delete_existing_job=True)\n",
    "tab.db_filter_function = lambda df: df.hamilton == 'ElasticTensorPressures'\n",
    "tab.add['T'] = lambda j: j['lmp_md/input/generic/data_dict']['Value'][2]\n",
    "tab.add['tensor'] = lambda j: j['output/elastic_tensor']\n",
    "tab.run()\n",
    "df = tab.get_dataframe()\n",
    "df"
   ]
  },
  {
   "cell_type": "code",
   "execution_count": null,
   "id": "591ee54a-9f2e-4827-a30d-2eeea86617b0",
   "metadata": {},
   "outputs": [],
   "source": [
    "df.tensor"
   ]
  },
  {
   "cell_type": "markdown",
   "id": "e93c7f65-b1b1-4745-a4d6-438b934759cf",
   "metadata": {},
   "source": [
    "$$\n",
    "\\epsilon = 1/3 * [1,1,1] \\\\\n",
    "S \\epsilon = \\sigma\n",
    "$$"
   ]
  },
  {
   "cell_type": "code",
   "execution_count": 129,
   "id": "7a7e1a21-7a99-47bb-934c-4630d40f1213",
   "metadata": {},
   "outputs": [],
   "source": [
    "df['C11'] = df.tensor.apply(lambda e: e[0, 0])\n",
    "df['C44'] = df.tensor.apply(lambda e: e[3, 3])\n",
    "df['C\\''] = df.tensor.apply(lambda e: (e[0, 0] - e[0, 1])/2)\n",
    "df['K'] = df.tensor.apply(lambda e: 1/(np.linalg.inv(e) @ [1, 1, 1, 0, 0, 0])[0])/3"
   ]
  },
  {
   "cell_type": "code",
   "execution_count": 131,
   "id": "c5410ced-9b8b-4d80-baeb-3436b6cbf802",
   "metadata": {},
   "outputs": [
    {
     "data": {
      "text/plain": [
       "<AxesSubplot:xlabel='T', ylabel=\"C'\">"
      ]
     },
     "execution_count": 131,
     "metadata": {},
     "output_type": "execute_result"
    },
    {
     "data": {
      "image/png": "[encoded data removed]",
      "text/plain": [
       "<Figure size 432x288 with 1 Axes>"
      ]
     },
     "metadata": {
      "image/png": {
       "height": 261,
       "width": 388
      },
      "needs_background": "light"
     },
     "output_type": "display_data"
    },
    {
     "data": {
      "image/png": "[encoded data removed]",
      "text/plain": [
       "<Figure size 432x288 with 1 Axes>"
      ]
     },
     "metadata": {
      "image/png": {
       "height": 261,
       "width": 398
      },
      "needs_background": "light"
     },
     "output_type": "display_data"
    },
    {
     "data": {
      "image/png": "[encoded data removed]",
      "text/plain": [
       "<Figure size 432x288 with 1 Axes>"
      ]
     },
     "metadata": {
      "image/png": {
       "height": 263,
       "width": 382
      },
      "needs_background": "light"
     },
     "output_type": "display_data"
    }
   ],
   "source": [
    "sns.lineplot(data=df,\n",
    "             x='T', y='C11'\n",
    "            )\n",
    "plt.figure()\n",
    "sns.lineplot(data=df,\n",
    "             x='T', y='C44'\n",
    "            )\n",
    "plt.figure()\n",
    "sns.lineplot(data=df,\n",
    "             x='T', y='C\\''\n",
    "            )"
   ]
  },
  {
   "cell_type": "code",
   "execution_count": 128,
   "id": "b3a1b850-cc89-470c-b65a-9306f5eaf446",
   "metadata": {},
   "outputs": [
    {
     "data": {
      "text/plain": [
       "<AxesSubplot:xlabel='T', ylabel='K'>"
      ]
     },
     "execution_count": 128,
     "metadata": {},
     "output_type": "execute_result"
    },
    {
     "data": {
      "image/png": "[encoded data removed]",
      "text/plain": [
       "<Figure size 432x288 with 1 Axes>"
      ]
     },
     "metadata": {
      "image/png": {
       "height": 261,
       "width": 388
      },
      "needs_background": "light"
     },
     "output_type": "display_data"
    }
   ],
   "source": [
    "sns.lineplot(data=df,\n",
    "             x='T', y='K'\n",
    "            )"
   ]
  },
  {
   "cell_type": "code",
   "execution_count": null,
   "id": "727c1d49-3643-4f24-9669-bb8633b106db",
   "metadata": {},
   "outputs": [],
   "source": []
  }
 ],
 "metadata": {
  "kernelspec": {
   "display_name": "Python 3",
   "language": "python",
   "name": "python3"
  },
  "language_info": {
   "codemirror_mode": {
    "name": "ipython",
    "version": 3
   },
   "file_extension": ".py",
   "mimetype": "text/x-python",
   "name": "python",
   "nbconvert_exporter": "python",
   "pygments_lexer": "ipython3",
   "version": "3.7.10"
  }
 },
 "nbformat": 4,
 "nbformat_minor": 5
}
