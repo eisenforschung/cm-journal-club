{
 "cells": [
  {
   "cell_type": "markdown",
   "id": "d4d81b2c-14c1-41ef-8ab8-eed084c8526c",
   "metadata": {},
   "source": [
    "https://www.frontiersin.org/articles/10.3389/fmats.2021.673574/full"
   ]
  },
  {
   "cell_type": "code",
   "execution_count": 1,
   "id": "369cf0c3-7f6a-43c3-b387-4c461bc5d8d9",
   "metadata": {},
   "outputs": [],
   "source": [
    "from pyiron import Project"
   ]
  },
  {
   "cell_type": "code",
   "execution_count": 2,
   "id": "28987d5c-e83d-4816-9ac1-292fa64bd2ff",
   "metadata": {},
   "outputs": [],
   "source": [
    "import numpy as np\n",
    "import matplotlib.pyplot as plt"
   ]
  },
  {
   "cell_type": "code",
   "execution_count": 3,
   "id": "33d90ecf-7810-47d0-96e2-883c476d6a63",
   "metadata": {},
   "outputs": [],
   "source": [
    "pr = Project('vac')"
   ]
  },
  {
   "cell_type": "code",
   "execution_count": 4,
   "id": "2e4e58d4-62bb-4bdf-ac5a-596403aedf78",
   "metadata": {},
   "outputs": [],
   "source": [
    "supercell = pr.create.structure.bulk('Cu', cubic=True).repeat(5)"
   ]
  },
  {
   "cell_type": "code",
   "execution_count": 5,
   "id": "fd96a72f-553d-4280-934e-e587ed21a2ca",
   "metadata": {},
   "outputs": [],
   "source": [
    "elements = ['Fe', 'Ni', 'Cr', 'Co', 'Cu']"
   ]
  },
  {
   "cell_type": "code",
   "execution_count": 6,
   "id": "26a39dea-a83e-4ddb-988e-638a8a9f1699",
   "metadata": {},
   "outputs": [
    {
     "data": {
      "text/plain": [
       "(500, 100)"
      ]
     },
     "execution_count": 6,
     "metadata": {},
     "output_type": "execute_result"
    }
   ],
   "source": [
    "N = len(supercell)\n",
    "n = int( len(supercell) / len(elements) )\n",
    "N, n"
   ]
  },
  {
   "cell_type": "code",
   "execution_count": 7,
   "id": "952c18b7-ce65-4b93-a0e0-310a8d3d30d6",
   "metadata": {},
   "outputs": [],
   "source": [
    "import random"
   ]
  },
  {
   "cell_type": "code",
   "execution_count": 8,
   "id": "c0fe5df0-a616-4e79-b59c-f7fbbedce8b8",
   "metadata": {},
   "outputs": [
    {
     "data": {
      "text/plain": [
       "1000"
      ]
     },
     "execution_count": 8,
     "metadata": {},
     "output_type": "execute_result"
    }
   ],
   "source": [
    "all_elements = elements * 200\n",
    "random.shuffle(all_elements)\n",
    "len(all_elements)"
   ]
  },
  {
   "cell_type": "code",
   "execution_count": 9,
   "id": "b94dd020-3917-435c-a2ad-64da3b85f03f",
   "metadata": {},
   "outputs": [],
   "source": [
    "for i, e in enumerate(all_elements[:len(supercell)]):\n",
    "    supercell[i] = e"
   ]
  },
  {
   "cell_type": "code",
   "execution_count": 10,
   "id": "384bed68-bfee-48f4-b8a5-7cf019443146",
   "metadata": {},
   "outputs": [
    {
     "data": {
      "text/plain": [
       "'Co103Cr105Cu103Fe102Ni87'"
      ]
     },
     "execution_count": 10,
     "metadata": {},
     "output_type": "execute_result"
    }
   ],
   "source": [
    "supercell.get_chemical_formula()"
   ]
  },
  {
   "cell_type": "code",
   "execution_count": 11,
   "id": "f7988bbd-4ea6-4f9b-a9f8-c7fe51f88264",
   "metadata": {},
   "outputs": [
    {
     "data": {
      "application/vnd.jupyter.widget-view+json": {
       "model_id": "169068ada59e4925aad08248d48fd4c4",
       "version_major": 2,
       "version_minor": 0
      },
      "text/plain": []
     },
     "metadata": {},
     "output_type": "display_data"
    },
    {
     "data": {
      "application/vnd.jupyter.widget-view+json": {
       "model_id": "263cbf689e884250ad3f961a7d295df7",
       "version_major": 2,
       "version_minor": 0
      },
      "text/plain": [
       "NGLWidget()"
      ]
     },
     "metadata": {},
     "output_type": "display_data"
    }
   ],
   "source": [
    "supercell.plot3d()"
   ]
  },
  {
   "cell_type": "code",
   "execution_count": 79,
   "id": "040e9a5c-560b-4a31-b080-8a1856974dcc",
   "metadata": {},
   "outputs": [],
   "source": [
    "j = pr.create.job.Lammps(\"minimize\", delete_existing_job=True)"
   ]
  },
  {
   "cell_type": "code",
   "execution_count": 79,
   "id": "8f44c5ba-b753-4bbd-9593-f3801c702cbe",
   "metadata": {},
   "outputs": [],
   "source": [
    "j.structure = supercell\n",
    "j.potential = j.list_potentials()[0]\n",
    "j.calc_minimize(pressure=0)"
   ]
  },
  {
   "cell_type": "code",
   "execution_count": 80,
   "id": "adf438f8-efeb-4ab6-ae84-1abd678d9902",
   "metadata": {},
   "outputs": [
    {
     "name": "stdout",
     "output_type": "stream",
     "text": [
      "The job minimize was saved and received the ID: 15279204\n"
     ]
    },
    {
     "name": "stderr",
     "output_type": "stream",
     "text": [
      "/u/zora/software/pyiron_atomistics/pyiron_atomistics/lammps/units.py:202: UserWarning: Warning: Couldn't determine the LAMMPS to pyiron unit conversion type of quantity steps. Returning un-normalized quantity\n",
      "  \"{}. Returning un-normalized quantity\".format(label))\n",
      "/u/zora/software/pyiron_atomistics/pyiron_atomistics/lammps/units.py:202: UserWarning: Warning: Couldn't determine the LAMMPS to pyiron unit conversion type of quantity indices. Returning un-normalized quantity\n",
      "  \"{}. Returning un-normalized quantity\".format(label))\n",
      "/u/zora/software/pyiron_atomistics/pyiron_atomistics/lammps/units.py:202: UserWarning: Warning: Couldn't determine the LAMMPS to pyiron unit conversion type of quantity velocities. Returning un-normalized quantity\n",
      "  \"{}. Returning un-normalized quantity\".format(label))\n",
      "/u/zora/software/pyiron_atomistics/pyiron_atomistics/lammps/units.py:202: UserWarning: Warning: Couldn't determine the LAMMPS to pyiron unit conversion type of quantity steps. Returning un-normalized quantity\n",
      "  \"{}. Returning un-normalized quantity\".format(label))\n"
     ]
    }
   ],
   "source": [
    "j.run()"
   ]
  },
  {
   "cell_type": "code",
   "execution_count": 81,
   "id": "87ff108d-b9c3-4abc-a2a8-23186cb56d5c",
   "metadata": {},
   "outputs": [
    {
     "data": {
      "text/plain": [
       "[<matplotlib.lines.Line2D at 0x2ba1691cb950>]"
      ]
     },
     "execution_count": 81,
     "metadata": {},
     "output_type": "execute_result"
    },
    {
     "data": {
      "image/png": "[encoded data removed]",
      "text/plain": [
       "<Figure size 432x288 with 1 Axes>"
      ]
     },
     "metadata": {
      "needs_background": "light"
     },
     "output_type": "display_data"
    }
   ],
   "source": [
    "plt.plot(j.output.energy_pot)"
   ]
  },
  {
   "cell_type": "code",
   "execution_count": 82,
   "id": "8793fce1-db7f-4edb-9fac-2dd85a4b9ab1",
   "metadata": {},
   "outputs": [
    {
     "data": {
      "application/vnd.jupyter.widget-view+json": {
       "model_id": "c966965142d04d48a25f0abd6c842709",
       "version_major": 2,
       "version_minor": 0
      },
      "text/plain": [
       "NGLWidget()"
      ]
     },
     "metadata": {},
     "output_type": "display_data"
    }
   ],
   "source": [
    "j.get_structure().plot3d()"
   ]
  },
  {
   "cell_type": "code",
   "execution_count": 12,
   "id": "7cf44dd6-9837-4c89-9e09-a592d89d34e6",
   "metadata": {},
   "outputs": [],
   "source": [
    "supercell_minimized = pr.load('minimize').get_structure(-1)"
   ]
  },
  {
   "cell_type": "code",
   "execution_count": 13,
   "id": "32fa2627-b10b-4a47-909a-5b72dfbeffed",
   "metadata": {},
   "outputs": [],
   "source": [
    "E0 = pr.load('minimize').output.energy_pot[-1]"
   ]
  },
  {
   "cell_type": "code",
   "execution_count": 14,
   "id": "953338e5-f6fb-432c-bf0f-fec7166c10fd",
   "metadata": {},
   "outputs": [
    {
     "data": {
      "text/plain": [
       "-2097.46231807825"
      ]
     },
     "execution_count": 14,
     "metadata": {},
     "output_type": "execute_result"
    }
   ],
   "source": [
    "E0"
   ]
  },
  {
   "cell_type": "code",
   "execution_count": 15,
   "id": "247d4f38-85c6-406d-8bd6-bf3d2c0a5208",
   "metadata": {},
   "outputs": [],
   "source": [
    "j = pr.create.job.Lammps(\"vacancy\", delete_existing_job=True)\n",
    "j.structure = supercell_minimized\n",
    "j.potential = j.list_potentials()[0]\n",
    "j.calc_minimize()"
   ]
  },
  {
   "cell_type": "code",
   "execution_count": 16,
   "id": "ce9b281b-2e2d-4f0d-88bd-606b357b3019",
   "metadata": {},
   "outputs": [],
   "source": [
    "from tqdm import tqdm"
   ]
  },
  {
   "cell_type": "code",
   "execution_count": 17,
   "id": "47fb447e-7647-4fca-a38c-d3ac3e0abf68",
   "metadata": {},
   "outputs": [
    {
     "name": "stderr",
     "output_type": "stream",
     "text": [
      "  0%|          | 0/500 [00:00<?, ?it/s]"
     ]
    },
    {
     "name": "stdout",
     "output_type": "stream",
     "text": [
      "The job vacancy was saved and received the ID: 15361383\n"
     ]
    },
    {
     "name": "stderr",
     "output_type": "stream",
     "text": [
      "100%|██████████| 500/500 [04:40<00:00,  1.78it/s]\n"
     ]
    }
   ],
   "source": [
    "j.interactive_open()\n",
    "N = len(supercell_minimized)\n",
    "j.interactive_enforce_structure_reset=True\n",
    "for i in tqdm(range(N)):\n",
    "    j.structure = supercell_minimized.copy()\n",
    "    del j.structure[i]\n",
    "    j.run()\n",
    "j.interactive_close()"
   ]
  },
  {
   "cell_type": "code",
   "execution_count": 19,
   "id": "5990201f-6a25-4a34-b952-2281ed11a06b",
   "metadata": {},
   "outputs": [
    {
     "data": {
      "image/png": "[encoded data removed]",
      "text/plain": [
       "<Figure size 432x288 with 1 Axes>"
      ]
     },
     "metadata": {
      "needs_background": "light"
     },
     "output_type": "display_data"
    }
   ],
   "source": [
    "plt.hist(j.output.energy_pot - (N-1)*E0/N, bins=20);"
   ]
  },
  {
   "cell_type": "code",
   "execution_count": 22,
   "id": "a0b3b380-8072-4826-a990-53fbdd66dc42",
   "metadata": {},
   "outputs": [],
   "source": [
    "j = pr.load('vacancy')"
   ]
  },
  {
   "cell_type": "code",
   "execution_count": 23,
   "id": "20dd2c89-d29f-4af0-8aba-9fe0827a0b08",
   "metadata": {},
   "outputs": [
    {
     "data": {
      "application/vnd.jupyter.widget-view+json": {
       "model_id": "2dd60c1b1760468a9dd16584647d0612",
       "version_major": 2,
       "version_minor": 0
      },
      "text/plain": [
       "NGLWidget(max_frame=499)"
      ]
     },
     "metadata": {},
     "output_type": "display_data"
    }
   ],
   "source": [
    "j.animate_structure()"
   ]
  },
  {
   "cell_type": "code",
   "execution_count": 24,
   "id": "8c3f3bc8-4308-48c8-826e-3b60bd7a1c6d",
   "metadata": {},
   "outputs": [],
   "source": [
    "E_vac_all = j.output.energy_pot"
   ]
  },
  {
   "cell_type": "code",
   "execution_count": 25,
   "id": "1292e233-f8ce-497d-9a7f-2f1e923a2738",
   "metadata": {},
   "outputs": [],
   "source": [
    "E_vac_avg = E_vac_all.mean() - (N-1)/N * E0"
   ]
  },
  {
   "cell_type": "code",
   "execution_count": 26,
   "id": "c5023072-8e28-4f06-b8b5-64cae04d4608",
   "metadata": {},
   "outputs": [
    {
     "data": {
      "text/plain": [
       "1.4177037810190996"
      ]
     },
     "execution_count": 26,
     "metadata": {},
     "output_type": "execute_result"
    }
   ],
   "source": [
    "E_vac_avg"
   ]
  },
  {
   "cell_type": "code",
   "execution_count": 27,
   "id": "05f0cdcc-d8ca-4ba0-83b2-6c869e04e123",
   "metadata": {},
   "outputs": [
    {
     "data": {
      "text/plain": [
       "(-4.1949246361565, 0.7088518905095498)"
      ]
     },
     "execution_count": 27,
     "metadata": {},
     "output_type": "execute_result"
    }
   ],
   "source": [
    "E0/N, E_vac_avg/2"
   ]
  },
  {
   "cell_type": "markdown",
   "id": "3fdcce14-4a1c-4a19-ac76-7ad2cd2df389",
   "metadata": {},
   "source": [
    "$ \\mu_X = E_0 + \\left< E \\right>^f_v - \\frac{1}{N_X}\\sum_{j=1}^{N_X} E^X_j $"
   ]
  },
  {
   "cell_type": "code",
   "execution_count": null,
   "id": "b72f6afb-b626-432c-b098-345ec6e3c69e",
   "metadata": {},
   "outputs": [],
   "source": []
  },
  {
   "cell_type": "code",
   "execution_count": 37,
   "id": "ae7ad5a6-012b-43ee-b1e8-bd249d7097cb",
   "metadata": {},
   "outputs": [],
   "source": [
    "mu = np.array( [\n",
    "    E0 + E_vac_avg - E_vac_all[supercell.indices == i].mean() for i in np.unique(supercell_minimized.indices)\n",
    "] )"
   ]
  },
  {
   "cell_type": "code",
   "execution_count": 38,
   "id": "870144d4-ddf0-4c1d-959b-b1e08d0244b6",
   "metadata": {},
   "outputs": [
    {
     "data": {
      "text/plain": [
       "array([-4.15934841, -4.20135948, -4.19260397, -4.23072897, -4.19162351])"
      ]
     },
     "execution_count": 38,
     "metadata": {},
     "output_type": "execute_result"
    }
   ],
   "source": [
    "mu"
   ]
  },
  {
   "cell_type": "code",
   "execution_count": 39,
   "id": "a1c57038-9f47-44a0-b063-5327066a3917",
   "metadata": {},
   "outputs": [
    {
     "data": {
      "text/plain": [
       "-4.195132867280063"
      ]
     },
     "execution_count": 39,
     "metadata": {},
     "output_type": "execute_result"
    }
   ],
   "source": [
    "mu.mean()"
   ]
  },
  {
   "cell_type": "code",
   "execution_count": 40,
   "id": "f92d387c-2fa3-41f1-a3df-d932df61ae12",
   "metadata": {},
   "outputs": [
    {
     "data": {
      "image/png": "[encoded data removed]",
      "text/plain": [
       "<Figure size 432x288 with 1 Axes>"
      ]
     },
     "metadata": {
      "needs_background": "light"
     },
     "output_type": "display_data"
    }
   ],
   "source": [
    "plt.hist(E_vac_all - (N-1)/N * E0);"
   ]
  },
  {
   "cell_type": "code",
   "execution_count": 42,
   "id": "3e3b9dbc-0034-48e9-b5ad-973389970a70",
   "metadata": {},
   "outputs": [],
   "source": [
    "E_vac = E_vac_all - E0 + mu[ supercell_minimized.indices ]"
   ]
  },
  {
   "cell_type": "code",
   "execution_count": 43,
   "id": "01be6e9d-91bc-4b14-bc7f-c1d13dffe6b8",
   "metadata": {},
   "outputs": [
    {
     "data": {
      "image/png": "[encoded data removed]",
      "text/plain": [
       "<Figure size 432x288 with 1 Axes>"
      ]
     },
     "metadata": {
      "needs_background": "light"
     },
     "output_type": "display_data"
    }
   ],
   "source": [
    "plt.hist(E_vac);"
   ]
  },
  {
   "cell_type": "code",
   "execution_count": 46,
   "id": "d44ec23d-2529-49b7-b72f-cb5dc9e96a16",
   "metadata": {},
   "outputs": [
    {
     "data": {
      "text/plain": [
       "[<pyiron_atomistics.atomistics.structure.periodic_table.ChemicalElement at 0x2ac05190b7d0>,\n",
       " <pyiron_atomistics.atomistics.structure.periodic_table.ChemicalElement at 0x2ac0515f2250>,\n",
       " <pyiron_atomistics.atomistics.structure.periodic_table.ChemicalElement at 0x2ac051a6df90>,\n",
       " <pyiron_atomistics.atomistics.structure.periodic_table.ChemicalElement at 0x2ac0509c0050>,\n",
       " <pyiron_atomistics.atomistics.structure.periodic_table.ChemicalElement at 0x2ac051e3c490>]"
      ]
     },
     "execution_count": 46,
     "metadata": {},
     "output_type": "execute_result"
    }
   ],
   "source": [
    "supercell_minimized.species"
   ]
  },
  {
   "cell_type": "code",
   "execution_count": 47,
   "id": "98dfafbd-444b-46a7-8a82-622194009919",
   "metadata": {},
   "outputs": [
    {
     "data": {
      "text/plain": [
       "<matplotlib.legend.Legend at 0x2ac052171090>"
      ]
     },
     "execution_count": 47,
     "metadata": {},
     "output_type": "execute_result"
    },
    {
     "data": {
      "image/png": "[encoded data removed]",
      "text/plain": [
       "<Figure size 432x288 with 1 Axes>"
      ]
     },
     "metadata": {
      "needs_background": "light"
     },
     "output_type": "display_data"
    }
   ],
   "source": [
    "for tpe in np.unique(supercell_minimized.indices):\n",
    "    plt.hist(E_vac[supercell_minimized.indices == tpe],\n",
    "             label=supercell_minimized.species[tpe].Name, alpha=.5)\n",
    "plt.legend()"
   ]
  },
  {
   "cell_type": "markdown",
   "id": "14c53d71-d2fe-4761-960a-038c29fb7494",
   "metadata": {},
   "source": [
    "# Building Descriptors\n",
    "\n",
    "Neighborhoods of the vacancies are already present in the minimized supercell, and since we're only interested in the types of the neighbors it's easier to analyse the neighborhood in the original structure and actually looking at each of the defected structures."
   ]
  },
  {
   "cell_type": "code",
   "execution_count": 53,
   "id": "460ec063-b3a4-46ae-84c6-8a3dca73b34d",
   "metadata": {},
   "outputs": [],
   "source": [
    "neigh = supercell_minimized.get_neighbors(num_neighbors=12)"
   ]
  },
  {
   "cell_type": "code",
   "execution_count": 59,
   "id": "98c94231-c4b3-43cc-b2aa-9e53b7ec552c",
   "metadata": {},
   "outputs": [
    {
     "data": {
      "text/plain": [
       "array([['Cr', 'Cr', 'Fe', ..., 'Fe', 'Cu', 'Co'],\n",
       "       ['Co', 'Cr', 'Co', ..., 'Cr', 'Cu', 'Cu'],\n",
       "       ['Fe', 'Cr', 'Cu', ..., 'Cu', 'Cu', 'Co'],\n",
       "       ...,\n",
       "       ['Ni', 'Cr', 'Fe', ..., 'Cu', 'Cu', 'Cr'],\n",
       "       ['Co', 'Cr', 'Cu', ..., 'Cu', 'Ni', 'Fe'],\n",
       "       ['Fe', 'Cr', 'Cr', ..., 'Cu', 'Cr', 'Fe']], dtype='<U2')"
      ]
     },
     "execution_count": 59,
     "metadata": {},
     "output_type": "execute_result"
    }
   ],
   "source": [
    "supercell_minimized.get_chemical_symbols()[neigh.indices]"
   ]
  },
  {
   "cell_type": "markdown",
   "id": "e439d7e6-7c26-4e14-aaf9-7e9dd6d1d4ec",
   "metadata": {},
   "source": [
    "Collect the number of neighbors of each type to each vacancy as features."
   ]
  },
  {
   "cell_type": "code",
   "execution_count": 66,
   "id": "eba5f377-fe9c-4a97-ad7d-42df03b6af07",
   "metadata": {},
   "outputs": [],
   "source": [
    "neighbor_types = supercell_minimized.indices[neigh.indices]"
   ]
  },
  {
   "cell_type": "code",
   "execution_count": 87,
   "id": "70a61bda-8a10-4c4a-8570-a07119d96b0f",
   "metadata": {},
   "outputs": [],
   "source": [
    "neighbor_counts = ( neighbor_types[:, :, None] == np.unique(supercell_minimized.indices)[None, None, :] ).sum(axis=1)"
   ]
  },
  {
   "cell_type": "code",
   "execution_count": 88,
   "id": "102640e8-db73-4197-9da0-ca1f372a9439",
   "metadata": {},
   "outputs": [
    {
     "data": {
      "text/plain": [
       "(500, 5)"
      ]
     },
     "execution_count": 88,
     "metadata": {},
     "output_type": "execute_result"
    }
   ],
   "source": [
    "neighbor_counts.shape"
   ]
  },
  {
   "cell_type": "code",
   "execution_count": 94,
   "id": "6675b26a-b506-4691-ab48-59058c234da0",
   "metadata": {},
   "outputs": [],
   "source": [
    "from sklearn.linear_model import Ridge\n",
    "from sklearn.tree import DecisionTreeRegressor"
   ]
  },
  {
   "cell_type": "markdown",
   "id": "63f099fa-2fa7-4e7a-9984-976ab8585dac",
   "metadata": {},
   "source": [
    "Use the type of the original atom in the vacancy as an additional feature.  This is a categorical feature, so we start with Tree-based regressors."
   ]
  },
  {
   "cell_type": "code",
   "execution_count": 118,
   "id": "b96148bb-43d0-40f0-805f-95d38dcaac2d",
   "metadata": {},
   "outputs": [],
   "source": [
    "features = np.concatenate( [supercell_minimized.indices.reshape(-1, 1), neighbor_counts], axis=-1 )"
   ]
  },
  {
   "cell_type": "code",
   "execution_count": 119,
   "id": "0d4697fb-ab92-431a-8b98-54209d1bd192",
   "metadata": {},
   "outputs": [
    {
     "data": {
      "text/plain": [
       "True"
      ]
     },
     "execution_count": 119,
     "metadata": {},
     "output_type": "execute_result"
    }
   ],
   "source": [
    "(features[:, 0] == supercell_minimized.indices).all()"
   ]
  },
  {
   "cell_type": "code",
   "execution_count": 120,
   "id": "bf22075c-ed2c-4f8f-8ee3-35545174e813",
   "metadata": {},
   "outputs": [
    {
     "data": {
      "text/plain": [
       "(500, 6)"
      ]
     },
     "execution_count": 120,
     "metadata": {},
     "output_type": "execute_result"
    }
   ],
   "source": [
    "features.shape"
   ]
  },
  {
   "cell_type": "markdown",
   "id": "08c15836-a771-488e-96ed-a3195f48826e",
   "metadata": {},
   "source": [
    "## Test Train Split"
   ]
  },
  {
   "cell_type": "code",
   "execution_count": 121,
   "id": "08030905-156c-4b4a-a02b-d8f5f66192ab",
   "metadata": {},
   "outputs": [],
   "source": [
    "from sklearn.model_selection import train_test_split"
   ]
  },
  {
   "cell_type": "code",
   "execution_count": 122,
   "id": "85c6eafe-fe1c-4cdc-8a61-bf607aac49ac",
   "metadata": {},
   "outputs": [],
   "source": [
    "features_train, features_test, E_vac_train, E_vac_test = train_test_split(features, E_vac, test_size=0.33, random_state=42) "
   ]
  },
  {
   "cell_type": "code",
   "execution_count": 217,
   "id": "e4ef167b-ca77-4fe8-925e-fd2136e913f2",
   "metadata": {},
   "outputs": [
    {
     "data": {
      "text/plain": [
       "DecisionTreeRegressor()"
      ]
     },
     "execution_count": 217,
     "metadata": {},
     "output_type": "execute_result"
    }
   ],
   "source": [
    "reg = DecisionTreeRegressor()\n",
    "reg.fit(features_train, E_vac_train)"
   ]
  },
  {
   "cell_type": "code",
   "execution_count": 218,
   "id": "da5330f1-3992-44e6-8505-bcc7e62c3a4d",
   "metadata": {},
   "outputs": [
    {
     "data": {
      "text/plain": [
       "<matplotlib.collections.PathCollection at 0x2ac0f8fcc0d0>"
      ]
     },
     "execution_count": 218,
     "metadata": {},
     "output_type": "execute_result"
    },
    {
     "data": {
      "image/png": "[encoded data removed]",
      "text/plain": [
       "<Figure size 432x288 with 1 Axes>"
      ]
     },
     "metadata": {
      "needs_background": "light"
     },
     "output_type": "display_data"
    }
   ],
   "source": [
    "plt.scatter(E_vac_train, reg.predict(features_train))"
   ]
  },
  {
   "cell_type": "code",
   "execution_count": 219,
   "id": "0ce8caf2-5cc9-4f0a-841f-acf9535c8771",
   "metadata": {},
   "outputs": [
    {
     "data": {
      "text/plain": [
       "<matplotlib.collections.PathCollection at 0x2ac0f8bf6750>"
      ]
     },
     "execution_count": 219,
     "metadata": {},
     "output_type": "execute_result"
    },
    {
     "data": {
      "image/png": "[encoded data removed]",
      "text/plain": [
       "<Figure size 432x288 with 1 Axes>"
      ]
     },
     "metadata": {
      "needs_background": "light"
     },
     "output_type": "display_data"
    }
   ],
   "source": [
    "plt.scatter(E_vac_test, reg.predict(features_test))"
   ]
  },
  {
   "cell_type": "code",
   "execution_count": 138,
   "id": "5d96d176-80fa-4957-9808-9403feb027fe",
   "metadata": {},
   "outputs": [
    {
     "data": {
      "text/plain": [
       "0.19156643495253958"
      ]
     },
     "execution_count": 138,
     "metadata": {},
     "output_type": "execute_result"
    }
   ],
   "source": [
    "np.std( E_vac_test - reg.predict(features_test) )"
   ]
  },
  {
   "cell_type": "code",
   "execution_count": 139,
   "id": "704fe87c-ff29-4ea3-999e-0c8a36852b83",
   "metadata": {},
   "outputs": [
    {
     "data": {
      "text/plain": [
       "0.19968356608526647"
      ]
     },
     "execution_count": 139,
     "metadata": {},
     "output_type": "execute_result"
    }
   ],
   "source": [
    "np.std( E_vac_train - reg.predict(features_train) )"
   ]
  },
  {
   "cell_type": "markdown",
   "id": "48c9b111-debf-4c3c-b860-e2b0e6f1798d",
   "metadata": {},
   "source": [
    "Check how deep the tree should be by looking at test vs. train error."
   ]
  },
  {
   "cell_type": "code",
   "execution_count": 221,
   "id": "ae1fc14a-9b16-4328-8874-abacea9fd95f",
   "metadata": {},
   "outputs": [],
   "source": [
    "def tree_regressor(max_depth):\n",
    "    reg = DecisionTreeRegressor(max_depth=max_depth)\n",
    "    reg.fit(features_train, E_vac_train)\n",
    "    return np.std( E_vac_test - reg.predict(features_test) ), np.std( E_vac_train - reg.predict(features_train) )"
   ]
  },
  {
   "cell_type": "code",
   "execution_count": 222,
   "id": "458b9af3-60fe-434e-a3b3-68b4308f1856",
   "metadata": {},
   "outputs": [],
   "source": [
    "depths = [2,3,4,5,6,7,8,9]\n",
    "errors = np.array([ tree_regressor(i) for i in depths ])"
   ]
  },
  {
   "cell_type": "code",
   "execution_count": 224,
   "id": "2eafa076-2a9d-4626-8aca-01d725cb9d56",
   "metadata": {},
   "outputs": [
    {
     "data": {
      "text/plain": [
       "<matplotlib.legend.Legend at 0x2ac117af0550>"
      ]
     },
     "execution_count": 224,
     "metadata": {},
     "output_type": "execute_result"
    },
    {
     "data": {
      "image/png": "[encoded data removed]",
      "text/plain": [
       "<Figure size 432x288 with 1 Axes>"
      ]
     },
     "metadata": {
      "needs_background": "light"
     },
     "output_type": "display_data"
    }
   ],
   "source": [
    "plt.plot(depths, errors[:, 0], label='test')\n",
    "plt.plot(depths, errors[:, 1], label='train')\n",
    "plt.legend()"
   ]
  },
  {
   "cell_type": "code",
   "execution_count": 225,
   "id": "4dc73126-cefe-401f-b63a-f2a425df3512",
   "metadata": {},
   "outputs": [],
   "source": [
    "from sklearn.ensemble import RandomForestRegressor # Instantiate model with 1000 decision trees \n",
    "rf = RandomForestRegressor(n_estimators = 100, random_state = 42) # Train the model on training data \n",
    "rf.fit(features_train, E_vac_train); "
   ]
  },
  {
   "cell_type": "code",
   "execution_count": 226,
   "id": "bb04322f-6598-40ef-a848-569e0109af3f",
   "metadata": {},
   "outputs": [
    {
     "data": {
      "text/plain": [
       "<matplotlib.collections.PathCollection at 0x2ac0fad14110>"
      ]
     },
     "execution_count": 226,
     "metadata": {},
     "output_type": "execute_result"
    },
    {
     "data": {
      "image/png": "[encoded data removed]",
      "text/plain": [
       "<Figure size 432x288 with 1 Axes>"
      ]
     },
     "metadata": {
      "needs_background": "light"
     },
     "output_type": "display_data"
    }
   ],
   "source": [
    "plt.scatter(E_vac_test, rf.predict(features_test))"
   ]
  },
  {
   "cell_type": "markdown",
   "id": "1a1c409d-5325-48de-a72b-490c37f58529",
   "metadata": {},
   "source": [
    "# Continous Regressors\n",
    "\n",
    "It's a bit unphysical to use the \"discontinous\" model of the tree models for something that we'd intuitively write down as something like\n",
    "\n",
    "$$\n",
    "e = e_{0,t} + \\sum_i \\Delta e_{t_i}\n",
    "$$\n",
    "\n",
    "where $e_{0,t}$ is the \"bare\" vacancy energy after an atom of type $t$ has been removed, $\\Delta e_{t_i}$ is the energy contribution of a nearest neighbor of type $t_i$ and the sum runs over all first nearest neighbors."
   ]
  },
  {
   "cell_type": "markdown",
   "id": "cd807ece-3fe1-4e7f-8d2a-0cb3cbef53f7",
   "metadata": {},
   "source": [
    "Use the same features as before, though we expect the first feature will make problems to a linear model, that works to be the following model\n",
    "\n",
    "$$\n",
    "e = c_\\mathrm{type} t + \\sum_k c_k n_k\n",
    "$$\n",
    "\n",
    "where $c_\\mathrm{type}$ and $c_k$ are the regression coefficients, $n_k$ is the number of neighbors of type $k$ and the sum has been rewritten to go over all types of neighbors instead."
   ]
  },
  {
   "cell_type": "code",
   "execution_count": 163,
   "id": "749699da-df75-40be-9893-c5e372487d9f",
   "metadata": {},
   "outputs": [],
   "source": [
    "from sklearn.linear_model import LinearRegression"
   ]
  },
  {
   "cell_type": "code",
   "execution_count": 164,
   "id": "8f6d2948-390b-41f1-8d9a-1564ae82bcb6",
   "metadata": {},
   "outputs": [
    {
     "data": {
      "text/plain": [
       "LinearRegression()"
      ]
     },
     "execution_count": 164,
     "metadata": {},
     "output_type": "execute_result"
    }
   ],
   "source": [
    "reg = LinearRegression()\n",
    "reg.fit(features_train, E_vac_train)"
   ]
  },
  {
   "cell_type": "code",
   "execution_count": 228,
   "id": "3cff093f-05f8-4780-be0d-1848f5ea0a1b",
   "metadata": {},
   "outputs": [
    {
     "data": {
      "text/plain": [
       "<matplotlib.collections.PathCollection at 0x2ac115665310>"
      ]
     },
     "execution_count": 228,
     "metadata": {},
     "output_type": "execute_result"
    },
    {
     "data": {
      "image/png": "[encoded data removed]",
      "text/plain": [
       "<Figure size 432x288 with 1 Axes>"
      ]
     },
     "metadata": {
      "needs_background": "light"
     },
     "output_type": "display_data"
    }
   ],
   "source": [
    "plt.scatter(E_vac_test, reg.predict(features_test))\n",
    "plt.scatter(E_vac_train, reg.predict(features_train))"
   ]
  },
  {
   "cell_type": "code",
   "execution_count": 229,
   "id": "371c1999-9021-4bd5-aabb-c64a75efb1e4",
   "metadata": {},
   "outputs": [
    {
     "data": {
      "text/plain": [
       "<matplotlib.collections.PathCollection at 0x2ac0fa80fe50>"
      ]
     },
     "execution_count": 229,
     "metadata": {},
     "output_type": "execute_result"
    },
    {
     "data": {
      "image/png": "[encoded data removed]",
      "text/plain": [
       "<Figure size 432x288 with 1 Axes>"
      ]
     },
     "metadata": {
      "needs_background": "light"
     },
     "output_type": "display_data"
    }
   ],
   "source": [
    "plt.scatter(E_vac_test, reg.predict(features_test), c=supercell_minimized.indices[np.where(E_vac_t)"
   ]
  },
  {
   "cell_type": "markdown",
   "id": "d46a8d9e-d199-4785-8333-11000de30de1",
   "metadata": {},
   "source": [
    "As expected this model clearly has problems (e.g. getting the cupper vacancies right, cf. the histograms of vacancy energies per type above).\n",
    "\n",
    "Let's remap the first feature as indices instead of a categorical feature, i.e. instead of one feature $t$ with five possible values, define five features $I_k = \\delta_{k, t}$ that are either $0$ or $1$."
   ]
  },
  {
   "cell_type": "code",
   "execution_count": 230,
   "id": "3032eb23-f6ed-42e6-aa63-7346dd5d8bbb",
   "metadata": {},
   "outputs": [
    {
     "data": {
      "text/plain": [
       "(500, 5)"
      ]
     },
     "execution_count": 230,
     "metadata": {},
     "output_type": "execute_result"
    }
   ],
   "source": [
    "type_features = 1.0 * (supercell_minimized.indices[:, None] == np.unique(supercell_minimized.indices)[None, :])\n",
    "type_features.shape"
   ]
  },
  {
   "cell_type": "code",
   "execution_count": 231,
   "id": "dbc948ca-5568-41c9-a643-35d486d36c28",
   "metadata": {},
   "outputs": [
    {
     "data": {
      "text/plain": [
       "array([[0., 1., 0., 0., 0.],\n",
       "       [1., 0., 0., 0., 0.],\n",
       "       [1., 0., 0., 0., 0.],\n",
       "       ...,\n",
       "       [1., 0., 0., 0., 0.],\n",
       "       [0., 0., 0., 0., 1.],\n",
       "       [0., 0., 0., 0., 1.]])"
      ]
     },
     "execution_count": 231,
     "metadata": {},
     "output_type": "execute_result"
    }
   ],
   "source": [
    "type_features"
   ]
  },
  {
   "cell_type": "markdown",
   "id": "3ee15f83-5cf6-478c-a314-059b981a42a5",
   "metadata": {},
   "source": [
    "The linear model will then be something like\n",
    "\n",
    "$$\n",
    "e = \\sum_k I_k e_{0, k} + \\sum_k n_k \\Delta e_k\n",
    "$$\n",
    "\n",
    "where the first sum runs over the types of the atom that has been removed and the second  runs over the possible types of neighbors.  $e_{0,k}$ and $\\Delta e_k$ are then our regression coefficients exactly as in our first intuition."
   ]
  },
  {
   "cell_type": "code",
   "execution_count": 232,
   "id": "08fa7aa9-24af-4edb-88e9-8319aa40826b",
   "metadata": {},
   "outputs": [],
   "source": [
    "features = np.concatenate( [type_features, neighbor_counts], axis=-1 )"
   ]
  },
  {
   "cell_type": "code",
   "execution_count": 233,
   "id": "89336181-d133-4462-bb00-36eac2d0177e",
   "metadata": {},
   "outputs": [
    {
     "data": {
      "text/plain": [
       "(500, 10)"
      ]
     },
     "execution_count": 233,
     "metadata": {},
     "output_type": "execute_result"
    }
   ],
   "source": [
    "features.shape"
   ]
  },
  {
   "cell_type": "markdown",
   "id": "9f412d3c-1a96-48d4-848c-343e380a41d9",
   "metadata": {},
   "source": [
    "## Test Train Split"
   ]
  },
  {
   "cell_type": "code",
   "execution_count": 234,
   "id": "e71dc5cc-8035-4ede-8b6f-9d276b8150c7",
   "metadata": {},
   "outputs": [],
   "source": [
    "from sklearn.model_selection import train_test_split"
   ]
  },
  {
   "cell_type": "code",
   "execution_count": 235,
   "id": "4db82b0f-8927-48c8-80d5-b977c6f80cfe",
   "metadata": {},
   "outputs": [],
   "source": [
    "features_train, features_test, E_vac_train, E_vac_test = train_test_split(features, E_vac, test_size=0.33, random_state=42) "
   ]
  },
  {
   "cell_type": "code",
   "execution_count": 119,
   "id": "8d92b04f-997c-4bd5-b05c-49c770198502",
   "metadata": {},
   "outputs": [
    {
     "data": {
      "text/plain": [
       "True"
      ]
     },
     "execution_count": 119,
     "metadata": {},
     "output_type": "execute_result"
    }
   ],
   "source": [
    "(features[:, 0] == supercell_minimized.indices).all()"
   ]
  },
  {
   "cell_type": "code",
   "execution_count": 188,
   "id": "b9d62638-d8ea-45c2-9247-8866fb8c2880",
   "metadata": {},
   "outputs": [
    {
     "data": {
      "text/plain": [
       "True"
      ]
     },
     "execution_count": 188,
     "metadata": {},
     "output_type": "execute_result"
    }
   ],
   "source": []
  },
  {
   "cell_type": "code",
   "execution_count": 199,
   "id": "6eff0adc-90fa-43a4-8f00-f7aedfe414f6",
   "metadata": {},
   "outputs": [
    {
     "data": {
      "text/plain": [
       "LinearRegression(fit_intercept=False)"
      ]
     },
     "execution_count": 199,
     "metadata": {},
     "output_type": "execute_result"
    }
   ],
   "source": [
    "reg = LinearRegression()\n",
    "reg.fit_intercept=False\n",
    "reg.fit(features_train, E_vac_train)"
   ]
  },
  {
   "cell_type": "code",
   "execution_count": 216,
   "id": "83289ea7-8a02-4b49-b25e-9362c7b7d0bb",
   "metadata": {},
   "outputs": [
    {
     "data": {
      "text/plain": [
       "<matplotlib.collections.PathCollection at 0x2ac117af0390>"
      ]
     },
     "execution_count": 216,
     "metadata": {},
     "output_type": "execute_result"
    },
    {
     "data": {
      "image/png": "[encoded data removed]",
      "text/plain": [
       "<Figure size 432x288 with 1 Axes>"
      ]
     },
     "metadata": {
      "needs_background": "light"
     },
     "output_type": "display_data"
    }
   ],
   "source": [
    "plt.scatter(E_vac_test, reg.predict(features_test), marker='.')\n",
    "plt.scatter(E_vac_train, reg.predict(features_train), marker='.')"
   ]
  },
  {
   "cell_type": "markdown",
   "id": "ea7615bf-8234-40ee-ba74-1509d9e74e74",
   "metadata": {},
   "source": [
    "# Great Success!\n",
    "\n",
    "This is much better than in the orignal paper with a simpler model.  Caveat here is that they also compared predictions where the bulk concentration is different from the training test, whereas we have the same bulk concentration in testing and training."
   ]
  },
  {
   "cell_type": "code",
   "execution_count": 201,
   "id": "09080b44-8730-4a21-b1c0-7a549f2838d5",
   "metadata": {},
   "outputs": [],
   "source": [
    "import scipy.stats as sa"
   ]
  },
  {
   "cell_type": "code",
   "execution_count": 181,
   "id": "102c47dc-6e47-43a4-b326-a899a268a2e1",
   "metadata": {},
   "outputs": [
    {
     "data": {
      "text/plain": [
       "(0.9834839382237308, 6.3407627923203e-123)"
      ]
     },
     "execution_count": 181,
     "metadata": {},
     "output_type": "execute_result"
    }
   ],
   "source": [
    "sa.pearsonr(E_vac_test, reg.predict(features_test))"
   ]
  },
  {
   "cell_type": "code",
   "execution_count": 182,
   "id": "365adef7-87f6-4f1c-a7e7-b948e65243e0",
   "metadata": {},
   "outputs": [
    {
     "data": {
      "text/plain": [
       "0.07286506616419869"
      ]
     },
     "execution_count": 182,
     "metadata": {},
     "output_type": "execute_result"
    }
   ],
   "source": [
    "np.std(E_vac_test - reg.predict(features_test))"
   ]
  },
  {
   "cell_type": "markdown",
   "id": "b1a2b88f-9ad4-4464-a170-a54eca2de3e2",
   "metadata": {},
   "source": [
    "The regression coefficients directly correspond to $e_{0, k}$ \\& $\\Delta e_k$ as above."
   ]
  },
  {
   "cell_type": "code",
   "execution_count": 202,
   "id": "ffe4a0af-b2e5-4f00-a52e-9f9d99a1029f",
   "metadata": {},
   "outputs": [
    {
     "data": {
      "text/plain": [
       "array([-0.62072486,  0.25808961,  0.22780208, -0.02100866,  0.2046655 ,\n",
       "        0.03949712,  0.12681157,  0.13123581,  0.06915454,  0.21918484])"
      ]
     },
     "execution_count": 202,
     "metadata": {},
     "output_type": "execute_result"
    }
   ],
   "source": [
    "reg.coef_"
   ]
  }
 ],
 "metadata": {
  "kernelspec": {
   "display_name": "Python 3",
   "language": "python",
   "name": "python3"
  },
  "language_info": {
   "codemirror_mode": {
    "name": "ipython",
    "version": 3
   },
   "file_extension": ".py",
   "mimetype": "text/x-python",
   "name": "python",
   "nbconvert_exporter": "python",
   "pygments_lexer": "ipython3",
   "version": "3.7.9"
  }
 },
 "nbformat": 4,
 "nbformat_minor": 5
}
