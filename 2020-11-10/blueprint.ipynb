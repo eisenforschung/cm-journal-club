{
 "cells": [
  {
   "cell_type": "markdown",
   "metadata": {},
   "source": [
    "# Vacancy detection using Gaussian kernel\n",
    "\n",
    "Motivation: At the end of the hands-on session, we saw a promising figure showing a clear location of the vacancy. The idea was very simple: via Gaussian [kernel](https://en.wikipedia.org/wiki/Kernel_regression), define the local density $\\rho(r)$ via:\n",
    "\n",
    "\\begin{align}\n",
    "\\rho(r) = \\sum_i \\frac{w}{\\left(\\sqrt{2\\pi\\sigma^2}\\right)^3}\\exp\\left(-\\frac{(r-r_i)^2}{2\\sigma^2}\\right)\n",
    "\\end{align}\n",
    "where the summation is meant to go over all atom positions.\n",
    "\n",
    "<img src=\"IMAGE/gauss_example.png\" style=\"width: 400px;\"/>\n",
    "\n",
    "However, we had the following drawbacks:\n",
    "\n",
    "- Slow\n",
    "- Not clear how to identify vacancies numerically\n",
    "- Not clear how to locate the vacancy positions"
   ]
  },
  {
   "cell_type": "code",
   "execution_count": 1,
   "metadata": {
    "ExecuteTime": {
     "end_time": "2020-11-20T07:52:36.105796Z",
     "start_time": "2020-11-20T07:52:34.195113Z"
    }
   },
   "outputs": [],
   "source": [
    "from pyiron import Project\n",
    "import numpy as np\n",
    "from scipy.spatial import cKDTree\n",
    "import matplotlib.pylab as plt\n",
    "%config InlineBackend.figure_format = 'retina'"
   ]
  },
  {
   "cell_type": "code",
   "execution_count": 2,
   "metadata": {
    "ExecuteTime": {
     "end_time": "2020-11-20T07:52:36.681295Z",
     "start_time": "2020-11-20T07:52:36.108287Z"
    }
   },
   "outputs": [],
   "source": [
    "pr = Project('VACANCY')"
   ]
  },
  {
   "cell_type": "code",
   "execution_count": 3,
   "metadata": {
    "ExecuteTime": {
     "end_time": "2020-11-20T07:52:36.686944Z",
     "start_time": "2020-11-20T07:52:36.683229Z"
    }
   },
   "outputs": [],
   "source": [
    "def get_structure(number_of_vacancy=1, lattice_constant=4.024, element='Al', n_repeat=5, seed=0):\n",
    "    structure = Project('.').create_structure('Al', 'fcc', lattice_constant).repeat(n_repeat)\n",
    "    structure.lattice_constant = lattice_constant\n",
    "    if seed is not None:\n",
    "        np.random.seed(seed)\n",
    "    vacancy_id = np.random.choice(np.arange(len(structure)), size=number_of_vacancy, replace=False)\n",
    "    structure.vacancy_positions = structure.positions[vacancy_id]\n",
    "    del structure[vacancy_id]\n",
    "    return structure"
   ]
  },
  {
   "cell_type": "code",
   "execution_count": 4,
   "metadata": {
    "ExecuteTime": {
     "end_time": "2020-11-20T07:52:36.694872Z",
     "start_time": "2020-11-20T07:52:36.688541Z"
    }
   },
   "outputs": [],
   "source": [
    "def create_structure(positions, element, pr=pr):\n",
    "    x = np.asarray(positions).reshape(-1, 3)\n",
    "    return pr.create_atoms(positions=x, elements=len(x)*[element])"
   ]
  },
  {
   "cell_type": "raw",
   "metadata": {
    "ExecuteTime": {
     "end_time": "2020-11-09T14:47:32.143579Z",
     "start_time": "2020-11-09T14:47:31.616444Z"
    }
   },
   "source": [
    "mag = 10\n",
    "x = mag*(2*np.random.random(5)-1)\n",
    "x_range = np.linspace(-1, 1, 1000)*mag\n",
    "plt.xlabel('Distance')\n",
    "plt.ylabel('Density')\n",
    "plt.plot(x_range, np.sum(np.exp(-(x[:,np.newaxis]-x_range[np.newaxis,:])**2), axis=0))\n",
    "for xx in x:\n",
    "    plt.axvline(xx)\n",
    "plt.savefig('IMAGE/gauss_example.png', dpi=300)"
   ]
  },
  {
   "cell_type": "markdown",
   "metadata": {},
   "source": [
    "# Class setup"
   ]
  },
  {
   "cell_type": "code",
   "execution_count": 34,
   "metadata": {
    "ExecuteTime": {
     "end_time": "2020-11-20T08:02:12.797925Z",
     "start_time": "2020-11-20T08:02:12.786708Z"
    }
   },
   "outputs": [],
   "source": [
    "class Gaussian:\n",
    "    def __init__(self, structure, sigma, cutoff, w):\n",
    "        self.neigh = structure.get_neighborhood(np.random.random(3), cutoff_radius=cutoff, num_neighbors=None)\n",
    "        self.sigma = sigma\n",
    "        self.prefactor = w/np.sqrt(2*np.pi*sigma**2)**3\n",
    "\n",
    "    def update(self, positions):\n",
    "        self.neigh = self.neigh.get_neighborhood(positions)\n",
    "        self.neigh.vecs[self.neigh.distances==np.inf] *= 0\n",
    "\n",
    "    def get_value(self):\n",
    "        return self.prefactor*np.einsum('nm->n', np.exp(-self.neigh.distances**2/(2*sigma**2)))\n",
    "    \n",
    "    def get_gradient(self):\n",
    "        w = -self.prefactor/self.sigma**2\n",
    "        return w*np.einsum('nmi,nm->ni', -self.neigh.vecs, np.exp(-self.neigh.distances**2/(2*self.sigma**2)))\n",
    "\n",
    "    def get_hessian(self):\n",
    "        kappa = np.exp(-self.neigh.distances**2/(2*self.sigma**2))\n",
    "        first_term = -self.prefactor/self.sigma**2*np.einsum('ab,nm->nab', np.eye(3), kappa)\n",
    "        second_term = self.prefactor/self.sigma**4*np.einsum(\n",
    "            'nma,nmb,nm->nab', self.neigh.vecs, self.neigh.vecs, kappa\n",
    "        )\n",
    "        return first_term+second_term"
   ]
  },
  {
   "cell_type": "markdown",
   "metadata": {},
   "source": [
    "# 0K"
   ]
  },
  {
   "cell_type": "markdown",
   "metadata": {},
   "source": [
    "## One Vacancy"
   ]
  },
  {
   "cell_type": "markdown",
   "metadata": {},
   "source": [
    "### First try\n",
    "\n",
    "We choose relatively random parameters first to see what kind of results we are going to get"
   ]
  },
  {
   "cell_type": "code",
   "execution_count": 35,
   "metadata": {
    "ExecuteTime": {
     "end_time": "2020-11-20T08:02:14.606461Z",
     "start_time": "2020-11-20T08:02:14.543896Z"
    }
   },
   "outputs": [],
   "source": [
    "structure = get_structure(number_of_vacancy=1)"
   ]
  },
  {
   "cell_type": "code",
   "execution_count": 36,
   "metadata": {
    "ExecuteTime": {
     "end_time": "2020-11-20T08:02:14.650357Z",
     "start_time": "2020-11-20T08:02:14.647632Z"
    }
   },
   "outputs": [],
   "source": [
    "sigma = structure.lattice_constant\n",
    "cutoff = 3*sigma\n",
    "w = 100"
   ]
  },
  {
   "cell_type": "code",
   "execution_count": 37,
   "metadata": {
    "ExecuteTime": {
     "end_time": "2020-11-20T08:02:15.073581Z",
     "start_time": "2020-11-20T08:02:15.061688Z"
    }
   },
   "outputs": [
    {
     "name": "stdout",
     "output_type": "stream",
     "text": [
      "Minimum distance between vacancy/vacancies and initial points: [2.84539769]\n"
     ]
    }
   ],
   "source": [
    "gauss = Gaussian(structure, sigma, cutoff, w)\n",
    "\n",
    "current_positions = structure.positions.copy()\n",
    "\n",
    "print('Minimum distance between vacancy/vacancies and initial points:',\n",
    "      structure.get_distances_array(structure.vacancy_positions, current_positions).min(axis=-1))"
   ]
  },
  {
   "cell_type": "code",
   "execution_count": 38,
   "metadata": {
    "ExecuteTime": {
     "end_time": "2020-11-20T08:02:25.594263Z",
     "start_time": "2020-11-20T08:02:15.510225Z"
    }
   },
   "outputs": [
    {
     "name": "stdout",
     "output_type": "stream",
     "text": [
      "CPU times: user 10 s, sys: 29.8 ms, total: 10.1 s\n",
      "Wall time: 10.1 s\n"
     ]
    }
   ],
   "source": [
    "%%time\n",
    "n_steps = 100\n",
    "for _ in range(n_steps):\n",
    "    gauss.update(current_positions)\n",
    "#     print(gauss.get_value())\n",
    "    gradient = gauss.get_gradient()\n",
    "    current_positions = structure.get_wrapped_coordinates(current_positions-gradient)"
   ]
  },
  {
   "cell_type": "code",
   "execution_count": 39,
   "metadata": {
    "ExecuteTime": {
     "end_time": "2020-11-20T08:02:25.599132Z",
     "start_time": "2020-11-20T08:02:25.595707Z"
    }
   },
   "outputs": [
    {
     "name": "stdout",
     "output_type": "stream",
     "text": [
      "Minimum distance between vacancy/vacancies and points after 100 steps: [1.68098325]\n"
     ]
    }
   ],
   "source": [
    "print('Minimum distance between vacancy/vacancies and points after {} steps:'.format(n_steps),\n",
    "      structure.get_distances_array(structure.vacancy_positions, current_positions).min(axis=-1))"
   ]
  },
  {
   "cell_type": "code",
   "execution_count": 40,
   "metadata": {
    "ExecuteTime": {
     "end_time": "2020-11-20T08:02:25.696866Z",
     "start_time": "2020-11-20T08:02:25.600221Z"
    }
   },
   "outputs": [
    {
     "data": {
      "application/vnd.jupyter.widget-view+json": {
       "model_id": "578785c0ad7747d8827ca821b3412787",
       "version_major": 2,
       "version_minor": 0
      },
      "text/plain": [
       "NGLWidget()"
      ]
     },
     "metadata": {},
     "output_type": "display_data"
    }
   ],
   "source": [
    "(structure+create_structure(current_positions, 'Ni')).plot3d()"
   ]
  },
  {
   "cell_type": "markdown",
   "metadata": {},
   "source": [
    "At this point, we can see that the minimum distance became somewhat smaller, and we can also see some points moving towards something, but we can also see that it takes a tremendous amount of time to compute the displacements.\n",
    "\n",
    "On the other hand, the plot shows that most of the points actually do not move, which is not surprising, but it's extremely inefficient that we're calculating displacements for these points as well -> Why not consider only points with a relatively large Voronoi volume and use only them as the initial points?"
   ]
  },
  {
   "cell_type": "markdown",
   "metadata": {},
   "source": [
    "### Use Voronoi volume"
   ]
  },
  {
   "cell_type": "code",
   "execution_count": 41,
   "metadata": {
    "ExecuteTime": {
     "end_time": "2020-11-20T08:02:43.590823Z",
     "start_time": "2020-11-20T08:02:43.435570Z"
    }
   },
   "outputs": [
    {
     "data": {
      "image/png": "[encoded data removed]",
      "text/plain": [
       "<Figure size 432x288 with 1 Axes>"
      ]
     },
     "metadata": {
      "image/png": {
       "height": 261,
       "width": 388
      },
      "needs_background": "light"
     },
     "output_type": "display_data"
    }
   ],
   "source": [
    "plt.xlabel('Voronoi Volume')\n",
    "plt.ylabel('Count')\n",
    "plt.hist(structure.analyse_ovito_voronoi_volume());"
   ]
  },
  {
   "cell_type": "code",
   "execution_count": 42,
   "metadata": {
    "ExecuteTime": {
     "end_time": "2020-11-20T08:02:45.377188Z",
     "start_time": "2020-11-20T08:02:45.325902Z"
    }
   },
   "outputs": [],
   "source": [
    "min_voronoi_volume = 17\n",
    "current_positions = structure.positions[structure.analyse_ovito_voronoi_volume()>min_voronoi_volume]"
   ]
  },
  {
   "cell_type": "code",
   "execution_count": 43,
   "metadata": {
    "ExecuteTime": {
     "end_time": "2020-11-20T08:02:50.744784Z",
     "start_time": "2020-11-20T08:02:45.713984Z"
    }
   },
   "outputs": [
    {
     "name": "stdout",
     "output_type": "stream",
     "text": [
      "CPU times: user 4.88 s, sys: 77.5 ms, total: 4.96 s\n",
      "Wall time: 5.02 s\n"
     ]
    }
   ],
   "source": [
    "%%time\n",
    "n_steps = 1000\n",
    "for _ in range(n_steps):\n",
    "    gauss.update(current_positions)\n",
    "#     print(gauss.get_value())\n",
    "    gradient = gauss.get_gradient()\n",
    "    current_positions = structure.get_wrapped_coordinates(current_positions-gradient)"
   ]
  },
  {
   "cell_type": "code",
   "execution_count": 44,
   "metadata": {
    "ExecuteTime": {
     "end_time": "2020-11-20T08:02:50.861017Z",
     "start_time": "2020-11-20T08:02:50.746147Z"
    }
   },
   "outputs": [
    {
     "data": {
      "application/vnd.jupyter.widget-view+json": {
       "model_id": "884b29c6e5254d3ba9bb4a754c4ec8fc",
       "version_major": 2,
       "version_minor": 0
      },
      "text/plain": [
       "NGLWidget()"
      ]
     },
     "metadata": {},
     "output_type": "display_data"
    }
   ],
   "source": [
    "(structure+create_structure(structure.vacancy_positions, 'O')+create_structure(current_positions, 'Ni')).plot3d()"
   ]
  },
  {
   "cell_type": "markdown",
   "metadata": {},
   "source": [
    "Compared to the previous case, the computation time is now acceptable. On the other hand, we can see that the prediction does not get better with the increasing number of steps. This can be understood with the following graph:"
   ]
  },
  {
   "cell_type": "code",
   "execution_count": 48,
   "metadata": {
    "ExecuteTime": {
     "end_time": "2020-11-20T13:22:53.934347Z",
     "start_time": "2020-11-20T13:22:53.897903Z"
    }
   },
   "outputs": [],
   "source": [
    "neigh = structure.get_neighborhood(structure.vacancy_positions.flatten(), num_neighbors=None, cutoff_radius=2*cutoff)"
   ]
  },
  {
   "cell_type": "code",
   "execution_count": 50,
   "metadata": {
    "ExecuteTime": {
     "end_time": "2020-11-20T13:22:58.655776Z",
     "start_time": "2020-11-20T13:22:58.427942Z"
    }
   },
   "outputs": [
    {
     "data": {
      "image/png": "[encoded data removed]",
      "text/plain": [
       "<Figure size 432x288 with 1 Axes>"
      ]
     },
     "metadata": {
      "image/png": {
       "height": 248,
       "width": 378
      },
      "needs_background": "light"
     },
     "output_type": "display_data"
    }
   ],
   "source": [
    "hist = plt.hist(neigh.distances, bins=100)"
   ]
  },
  {
   "cell_type": "code",
   "execution_count": 51,
   "metadata": {
    "ExecuteTime": {
     "end_time": "2020-11-20T13:23:00.859483Z",
     "start_time": "2020-11-20T13:23:00.748015Z"
    }
   },
   "outputs": [
    {
     "data": {
      "image/png": "[encoded data removed]",
      "text/plain": [
       "<Figure size 432x288 with 1 Axes>"
      ]
     },
     "metadata": {
      "image/png": {
       "height": 263,
       "width": 374
      },
      "needs_background": "light"
     },
     "output_type": "display_data"
    }
   ],
   "source": [
    "# x_range = np.linspace(0, 1.1*cutoff)\n",
    "# plt.plot(x_range, np.exp(-x_range**2/(2*sigma**2)), '--')\n",
    "# plt.plot(hist[1], np.exp(-hist[1]**2/(2*sigma**2)));\n",
    "x = 0.5*(hist[1][1:]+hist[1][:-1])\n",
    "plt.axvline(cutoff)\n",
    "plt.xlabel('Distance')\n",
    "plt.plot(x, hist[0]*np.exp(-x**2/(2*sigma**2)), 'o');"
   ]
  },
  {
   "cell_type": "markdown",
   "metadata": {},
   "source": [
    "The graph above shows the histogram of distances and the contribution to the Gaussian kernel for each point together with the cutoff length. We can se that there are still a few points beyond the cutoff length which still have to be taken into account -> increase cutoff"
   ]
  },
  {
   "cell_type": "markdown",
   "metadata": {
    "heading_collapsed": true
   },
   "source": [
    "### Increased cutoff"
   ]
  },
  {
   "cell_type": "code",
   "execution_count": null,
   "metadata": {
    "ExecuteTime": {
     "end_time": "2020-11-10T08:30:51.449302Z",
     "start_time": "2020-11-10T08:30:51.447405Z"
    },
    "hidden": true
   },
   "outputs": [],
   "source": [
    "cutoff = 4*sigma"
   ]
  },
  {
   "cell_type": "code",
   "execution_count": null,
   "metadata": {
    "ExecuteTime": {
     "end_time": "2020-11-10T08:30:51.473772Z",
     "start_time": "2020-11-10T08:30:51.450501Z"
    },
    "hidden": true
   },
   "outputs": [],
   "source": [
    "gauss = Gaussian(structure, sigma, cutoff, w)\n",
    "\n",
    "min_voronoi_volume = 17\n",
    "current_positions = structure.positions[structure.analyse_ovito_voronoi_volume()>min_voronoi_volume]\n",
    "\n",
    "print('Minimum distance between vacancy/vacancies and initial points:',\n",
    "      structure.get_distances_array(structure.vacancy_positions, current_positions).min(axis=-1))"
   ]
  },
  {
   "cell_type": "code",
   "execution_count": null,
   "metadata": {
    "ExecuteTime": {
     "end_time": "2020-11-10T08:30:54.219762Z",
     "start_time": "2020-11-10T08:30:51.474949Z"
    },
    "hidden": true
   },
   "outputs": [],
   "source": [
    "%%time\n",
    "n_steps = 1000\n",
    "for _ in range(n_steps):\n",
    "    gauss.update(current_positions)\n",
    "#     print(gauss.get_value())\n",
    "    gradient = gauss.get_gradient()\n",
    "    current_positions = structure.get_wrapped_coordinates(current_positions-gradient)"
   ]
  },
  {
   "cell_type": "code",
   "execution_count": null,
   "metadata": {
    "ExecuteTime": {
     "end_time": "2020-11-10T08:30:54.226008Z",
     "start_time": "2020-11-10T08:30:54.221308Z"
    },
    "hidden": true
   },
   "outputs": [],
   "source": [
    "print('Minimum distance between vacancy/vacancies and points after {} steps:'.format(n_steps),\n",
    "      structure.get_distances_array(structure.vacancy_positions, current_positions).min(axis=-1))"
   ]
  },
  {
   "cell_type": "code",
   "execution_count": null,
   "metadata": {
    "ExecuteTime": {
     "end_time": "2020-11-10T08:30:54.345711Z",
     "start_time": "2020-11-10T08:30:54.229007Z"
    },
    "hidden": true
   },
   "outputs": [],
   "source": [
    "(structure+create_structure(structure.vacancy_positions, 'O')+create_structure(current_positions, 'Ni')).plot3d()"
   ]
  },
  {
   "cell_type": "markdown",
   "metadata": {
    "hidden": true
   },
   "source": [
    "This time it looks like it converged. Let's take a look at the average position and compare it with the real positions"
   ]
  },
  {
   "cell_type": "code",
   "execution_count": null,
   "metadata": {
    "ExecuteTime": {
     "end_time": "2020-11-10T08:30:54.349580Z",
     "start_time": "2020-11-10T08:30:54.347158Z"
    },
    "hidden": true
   },
   "outputs": [],
   "source": [
    "print('Predicted vacancy position:', np.mean(current_positions, axis=0))"
   ]
  },
  {
   "cell_type": "code",
   "execution_count": null,
   "metadata": {
    "ExecuteTime": {
     "end_time": "2020-11-10T08:30:54.356672Z",
     "start_time": "2020-11-10T08:30:54.351016Z"
    },
    "hidden": true
   },
   "outputs": [],
   "source": [
    "print('Original vacancy position:', structure.vacancy_positions)"
   ]
  },
  {
   "cell_type": "markdown",
   "metadata": {},
   "source": [
    "## Multiple vacancies"
   ]
  },
  {
   "cell_type": "markdown",
   "metadata": {
    "heading_collapsed": true
   },
   "source": [
    "### First try"
   ]
  },
  {
   "cell_type": "code",
   "execution_count": null,
   "metadata": {
    "ExecuteTime": {
     "end_time": "2020-11-10T08:30:54.425452Z",
     "start_time": "2020-11-10T08:30:54.357856Z"
    },
    "hidden": true
   },
   "outputs": [],
   "source": [
    "structure = get_structure(number_of_vacancy=3)"
   ]
  },
  {
   "cell_type": "code",
   "execution_count": null,
   "metadata": {
    "ExecuteTime": {
     "end_time": "2020-11-10T08:30:54.443622Z",
     "start_time": "2020-11-10T08:30:54.426468Z"
    },
    "hidden": true
   },
   "outputs": [],
   "source": [
    "gauss = Gaussian(structure, sigma, cutoff, w)\n",
    "\n",
    "min_voronoi_volume = 17\n",
    "current_positions = structure.positions[structure.analyse_ovito_voronoi_volume()>min_voronoi_volume]\n",
    "\n",
    "print('Minimum distance between vacancy/vacancies and initial points:',\n",
    "      structure.get_distances_array(structure.vacancy_positions, current_positions).min(axis=-1))"
   ]
  },
  {
   "cell_type": "code",
   "execution_count": null,
   "metadata": {
    "ExecuteTime": {
     "end_time": "2020-11-10T08:31:02.306639Z",
     "start_time": "2020-11-10T08:30:54.444828Z"
    },
    "hidden": true
   },
   "outputs": [],
   "source": [
    "%%time\n",
    "n_steps = 1000\n",
    "for _ in range(n_steps):\n",
    "    gauss.update(current_positions)\n",
    "#     print(gauss.get_value())\n",
    "    gradient = gauss.get_gradient()\n",
    "    current_positions = structure.get_wrapped_coordinates(current_positions-gradient)"
   ]
  },
  {
   "cell_type": "code",
   "execution_count": null,
   "metadata": {
    "ExecuteTime": {
     "end_time": "2020-11-10T08:31:02.313946Z",
     "start_time": "2020-11-10T08:31:02.308319Z"
    },
    "hidden": true,
    "scrolled": true
   },
   "outputs": [],
   "source": [
    "print('Minimum distance between vacancy/vacancies and points after {} steps:'.format(n_steps),\n",
    "      structure.get_distances_array(structure.vacancy_positions, current_positions).min(axis=-1))"
   ]
  },
  {
   "cell_type": "code",
   "execution_count": null,
   "metadata": {
    "ExecuteTime": {
     "end_time": "2020-11-10T08:31:02.426250Z",
     "start_time": "2020-11-10T08:31:02.315162Z"
    },
    "hidden": true
   },
   "outputs": [],
   "source": [
    "(structure+create_structure(structure.vacancy_positions, 'O')+create_structure(current_positions, 'Ni')).plot3d()"
   ]
  },
  {
   "cell_type": "markdown",
   "metadata": {
    "hidden": true
   },
   "source": [
    "This time we can see that the distances were not enormously reduced. A look at the final snapshot makes the reason clear: the vacancies obviously see each other and the points could not exactly converge to where they should. This is caused by the fact that the Gaussian kernel had a high width, as the diagram below shows:"
   ]
  },
  {
   "cell_type": "code",
   "execution_count": null,
   "metadata": {
    "ExecuteTime": {
     "end_time": "2020-11-10T08:31:02.669413Z",
     "start_time": "2020-11-10T08:31:02.427319Z"
    },
    "hidden": true,
    "scrolled": true
   },
   "outputs": [],
   "source": [
    "x_range = np.linspace(-1, 1, 1000)*cutoff\n",
    "plt.xlabel('Distance A')\n",
    "plt.ylabel('Density')\n",
    "plt.plot(x_range, np.exp(-x_range**2/(2*sigma**2)));"
   ]
  },
  {
   "cell_type": "markdown",
   "metadata": {
    "heading_collapsed": true
   },
   "source": [
    "### Reduce sigma"
   ]
  },
  {
   "cell_type": "code",
   "execution_count": null,
   "metadata": {
    "ExecuteTime": {
     "end_time": "2020-11-10T08:31:02.672354Z",
     "start_time": "2020-11-10T08:31:02.670591Z"
    },
    "hidden": true
   },
   "outputs": [],
   "source": [
    "sigma = structure.lattice_constant/2"
   ]
  },
  {
   "cell_type": "code",
   "execution_count": null,
   "metadata": {
    "ExecuteTime": {
     "end_time": "2020-11-10T08:31:02.697315Z",
     "start_time": "2020-11-10T08:31:02.673465Z"
    },
    "hidden": true
   },
   "outputs": [],
   "source": [
    "gauss = Gaussian(structure, sigma, cutoff, w)\n",
    "\n",
    "min_voronoi_volume = 17\n",
    "current_positions = structure.positions[structure.analyse_ovito_voronoi_volume()>min_voronoi_volume]\n",
    "\n",
    "print('Minimum distance between vacancy/vacancies and initial points:',\n",
    "      structure.get_distances_array(structure.vacancy_positions, current_positions).min(axis=-1))"
   ]
  },
  {
   "cell_type": "code",
   "execution_count": null,
   "metadata": {
    "ExecuteTime": {
     "end_time": "2020-11-10T08:31:10.362317Z",
     "start_time": "2020-11-10T08:31:02.698464Z"
    },
    "hidden": true
   },
   "outputs": [],
   "source": [
    "%%time\n",
    "n_steps = 1000\n",
    "for _ in range(n_steps):\n",
    "    gauss.update(current_positions)\n",
    "#     print(gauss.get_value())\n",
    "    gradient = gauss.get_gradient()\n",
    "    current_positions = structure.get_wrapped_coordinates(current_positions-gradient)"
   ]
  },
  {
   "cell_type": "code",
   "execution_count": null,
   "metadata": {
    "ExecuteTime": {
     "end_time": "2020-11-10T08:31:10.368786Z",
     "start_time": "2020-11-10T08:31:10.363803Z"
    },
    "hidden": true
   },
   "outputs": [],
   "source": [
    "print('Minimum distance between vacancy/vacancies and points after {} steps:'.format(n_steps),\n",
    "      structure.get_distances_array(structure.vacancy_positions, current_positions).min(axis=-1))"
   ]
  },
  {
   "cell_type": "code",
   "execution_count": null,
   "metadata": {
    "ExecuteTime": {
     "end_time": "2020-11-10T08:31:10.488800Z",
     "start_time": "2020-11-10T08:31:10.369989Z"
    },
    "hidden": true
   },
   "outputs": [],
   "source": [
    "(structure+create_structure(structure.vacancy_positions, 'O')+create_structure(current_positions, 'Ni')).plot3d()"
   ]
  },
  {
   "cell_type": "markdown",
   "metadata": {
    "hidden": true
   },
   "source": [
    "Now since the points obviously converged, let's take a look at the average positions. For this, we can use an agglomerative method:"
   ]
  },
  {
   "cell_type": "code",
   "execution_count": null,
   "metadata": {
    "ExecuteTime": {
     "end_time": "2020-11-10T08:31:10.491624Z",
     "start_time": "2020-11-10T08:31:10.489839Z"
    },
    "hidden": true
   },
   "outputs": [],
   "source": [
    "from sklearn.cluster import AgglomerativeClustering"
   ]
  },
  {
   "cell_type": "code",
   "execution_count": null,
   "metadata": {
    "ExecuteTime": {
     "end_time": "2020-11-10T08:31:10.503678Z",
     "start_time": "2020-11-10T08:31:10.492787Z"
    },
    "hidden": true
   },
   "outputs": [],
   "source": [
    "cluster = AgglomerativeClustering(n_clusters=None, distance_threshold=0.1*sigma, linkage='complete').fit(current_positions)"
   ]
  },
  {
   "cell_type": "code",
   "execution_count": null,
   "metadata": {
    "ExecuteTime": {
     "end_time": "2020-11-10T08:31:10.507756Z",
     "start_time": "2020-11-10T08:31:10.504667Z"
    },
    "hidden": true
   },
   "outputs": [],
   "source": [
    "for label in np.unique(cluster.labels_):\n",
    "    print(np.mean(current_positions[cluster.labels_==label], axis=0))"
   ]
  },
  {
   "cell_type": "code",
   "execution_count": null,
   "metadata": {
    "ExecuteTime": {
     "end_time": "2020-11-10T08:31:10.514331Z",
     "start_time": "2020-11-10T08:31:10.508858Z"
    },
    "hidden": true
   },
   "outputs": [],
   "source": [
    "structure.vacancy_positions"
   ]
  },
  {
   "cell_type": "markdown",
   "metadata": {
    "heading_collapsed": true
   },
   "source": [
    "# Finite temperature"
   ]
  },
  {
   "cell_type": "code",
   "execution_count": null,
   "metadata": {
    "ExecuteTime": {
     "end_time": "2020-11-10T08:31:13.254030Z",
     "start_time": "2020-11-10T08:31:10.515306Z"
    },
    "hidden": true
   },
   "outputs": [],
   "source": [
    "job = pr.create_job('Lammps', 'lmp', True)\n",
    "job.structure = get_structure(number_of_vacancy=3)\n",
    "job.calc_md(temperature=500)\n",
    "job.run()"
   ]
  },
  {
   "cell_type": "code",
   "execution_count": null,
   "metadata": {
    "ExecuteTime": {
     "end_time": "2020-11-10T08:31:13.822715Z",
     "start_time": "2020-11-10T08:31:13.289194Z"
    },
    "hidden": true
   },
   "outputs": [],
   "source": [
    "structure = job.get_structure()"
   ]
  },
  {
   "cell_type": "code",
   "execution_count": null,
   "metadata": {
    "ExecuteTime": {
     "end_time": "2020-11-10T08:31:14.084104Z",
     "start_time": "2020-11-10T08:31:13.823825Z"
    },
    "hidden": true
   },
   "outputs": [],
   "source": [
    "plt.xlabel('Voronoi volume')\n",
    "plt.hist(structure.analyse_ovito_voronoi_volume(), bins=100);"
   ]
  },
  {
   "cell_type": "code",
   "execution_count": null,
   "metadata": {
    "ExecuteTime": {
     "end_time": "2020-11-10T08:31:14.106303Z",
     "start_time": "2020-11-10T08:31:14.085169Z"
    },
    "hidden": true
   },
   "outputs": [],
   "source": [
    "gauss = Gaussian(structure, sigma, cutoff, w)\n",
    "\n",
    "min_voronoi_volume = 17\n",
    "current_positions = structure.positions[structure.analyse_ovito_voronoi_volume()>min_voronoi_volume]\n",
    "\n",
    "print('Minimum distance between vacancy/vacancies and initial points:',\n",
    "      structure.get_distances_array(structure.vacancy_positions, current_positions).min(axis=-1))"
   ]
  },
  {
   "cell_type": "code",
   "execution_count": null,
   "metadata": {
    "ExecuteTime": {
     "end_time": "2020-11-10T08:31:28.483656Z",
     "start_time": "2020-11-10T08:31:14.107440Z"
    },
    "hidden": true
   },
   "outputs": [],
   "source": [
    "%%time\n",
    "n_steps = 1000\n",
    "for _ in range(n_steps):\n",
    "    gauss.update(current_positions)\n",
    "#     print(gauss.get_value())\n",
    "    gradient = gauss.get_gradient()\n",
    "    current_positions = structure.get_wrapped_coordinates(current_positions-gradient)"
   ]
  },
  {
   "cell_type": "code",
   "execution_count": null,
   "metadata": {
    "ExecuteTime": {
     "end_time": "2020-11-10T08:31:28.495166Z",
     "start_time": "2020-11-10T08:31:28.485555Z"
    },
    "hidden": true
   },
   "outputs": [],
   "source": [
    "print('Minimum distance between vacancy/vacancies and points after {} steps:'.format(n_steps),\n",
    "      structure.get_distances_array(structure.vacancy_positions, current_positions).min(axis=-1))"
   ]
  },
  {
   "cell_type": "code",
   "execution_count": null,
   "metadata": {
    "ExecuteTime": {
     "end_time": "2020-11-10T08:31:28.632354Z",
     "start_time": "2020-11-10T08:31:28.496375Z"
    },
    "hidden": true
   },
   "outputs": [],
   "source": [
    "(structure+create_structure(current_positions, 'Ni')).plot3d()"
   ]
  },
  {
   "cell_type": "markdown",
   "metadata": {
    "hidden": true
   },
   "source": [
    "This time, there are a few candidates for vacancies. In our case we know that there are 3 vacancies, but in general this information is not at disposal.\n",
    "\n",
    "Consideration: From the volume per atom $v$, why not calculate the minimum radius $r_0$ via:\n",
    "\n",
    "\\begin{align}\n",
    "v =& \\frac{4}{3}\\pi r_0^3\\\\\n",
    "\\Longrightarrow r_0 =& \\left(\\frac{3v}{4\\pi}\\right)^{1/3}\n",
    "\\end{align}"
   ]
  },
  {
   "cell_type": "code",
   "execution_count": null,
   "metadata": {
    "ExecuteTime": {
     "end_time": "2020-11-10T08:31:28.638304Z",
     "start_time": "2020-11-10T08:31:28.633545Z"
    },
    "hidden": true
   },
   "outputs": [],
   "source": [
    "cluster = AgglomerativeClustering(distance_threshold=0.1*sigma, linkage='complete', n_clusters=None).fit(current_positions)"
   ]
  },
  {
   "cell_type": "code",
   "execution_count": null,
   "metadata": {
    "ExecuteTime": {
     "end_time": "2020-11-10T08:31:28.644624Z",
     "start_time": "2020-11-10T08:31:28.639382Z"
    },
    "hidden": true
   },
   "outputs": [],
   "source": [
    "v_lst = []\n",
    "for label in np.unique(cluster.labels_):\n",
    "    v_lst.append(np.mean(current_positions[label==cluster.labels_], axis=0))\n",
    "v_lst = np.array(v_lst)"
   ]
  },
  {
   "cell_type": "code",
   "execution_count": null,
   "metadata": {
    "ExecuteTime": {
     "end_time": "2020-11-10T08:31:28.651789Z",
     "start_time": "2020-11-10T08:31:28.645689Z"
    },
    "hidden": true
   },
   "outputs": [],
   "source": [
    "v_lst"
   ]
  },
  {
   "cell_type": "code",
   "execution_count": null,
   "metadata": {
    "ExecuteTime": {
     "end_time": "2020-11-10T08:31:28.657068Z",
     "start_time": "2020-11-10T08:31:28.652829Z"
    },
    "hidden": true
   },
   "outputs": [],
   "source": [
    "r0 = (4*structure.get_volume(per_atom=True)/(3*np.pi))**(1/3)"
   ]
  },
  {
   "cell_type": "code",
   "execution_count": null,
   "metadata": {
    "ExecuteTime": {
     "end_time": "2020-11-10T08:31:28.662734Z",
     "start_time": "2020-11-10T08:31:28.658130Z"
    },
    "hidden": true
   },
   "outputs": [],
   "source": [
    "distances = gauss.tree.query(v_lst)[0]"
   ]
  },
  {
   "cell_type": "code",
   "execution_count": null,
   "metadata": {
    "ExecuteTime": {
     "end_time": "2020-11-10T08:31:28.777168Z",
     "start_time": "2020-11-10T08:31:28.663780Z"
    },
    "hidden": true
   },
   "outputs": [],
   "source": [
    "plt.axhline(r0)\n",
    "plt.plot(distances, 'o');"
   ]
  },
  {
   "cell_type": "code",
   "execution_count": null,
   "metadata": {
    "ExecuteTime": {
     "end_time": "2020-11-10T08:31:28.782670Z",
     "start_time": "2020-11-10T08:31:28.778293Z"
    },
    "hidden": true
   },
   "outputs": [],
   "source": [
    "structure.get_distances_array(structure.vacancy_positions, v_lst[distances>r0])"
   ]
  },
  {
   "cell_type": "markdown",
   "metadata": {
    "heading_collapsed": true,
    "hidden": true
   },
   "source": [
    "## Conjugate gradient?"
   ]
  },
  {
   "cell_type": "code",
   "execution_count": null,
   "metadata": {
    "ExecuteTime": {
     "end_time": "2020-11-10T08:36:22.472465Z",
     "start_time": "2020-11-10T08:36:21.920612Z"
    },
    "hidden": true
   },
   "outputs": [],
   "source": [
    "structure = job.get_structure()"
   ]
  },
  {
   "cell_type": "code",
   "execution_count": null,
   "metadata": {
    "ExecuteTime": {
     "end_time": "2020-11-10T08:32:19.645748Z",
     "start_time": "2020-11-10T08:32:19.355146Z"
    },
    "hidden": true
   },
   "outputs": [],
   "source": [
    "plt.xlabel('Voronoi volume')\n",
    "plt.hist(structure.analyse_ovito_voronoi_volume(), bins=100);"
   ]
  },
  {
   "cell_type": "code",
   "execution_count": null,
   "metadata": {
    "ExecuteTime": {
     "end_time": "2020-11-10T08:32:21.105640Z",
     "start_time": "2020-11-10T08:32:21.083542Z"
    },
    "hidden": true
   },
   "outputs": [],
   "source": [
    "gauss = Gaussian(structure, sigma, cutoff, w)\n",
    "\n",
    "min_voronoi_volume = 17\n",
    "current_positions = structure.positions[structure.analyse_ovito_voronoi_volume()>min_voronoi_volume]\n",
    "\n",
    "print('Minimum distance between vacancy/vacancies and initial points:',\n",
    "      structure.get_distances_array(structure.vacancy_positions, current_positions).min(axis=-1))"
   ]
  },
  {
   "cell_type": "code",
   "execution_count": null,
   "metadata": {
    "ExecuteTime": {
     "end_time": "2020-11-10T08:36:31.903383Z",
     "start_time": "2020-11-10T08:36:31.751356Z"
    },
    "hidden": true
   },
   "outputs": [],
   "source": [
    "# %%time\n",
    "for _ in range(10):\n",
    "    gauss.update(current_positions)\n",
    "    gradient = gauss.get_gradient()\n",
    "    current_positions = structure.get_wrapped_coordinates(current_positions-gradient)    \n"
   ]
  },
  {
   "cell_type": "code",
   "execution_count": null,
   "metadata": {
    "ExecuteTime": {
     "end_time": "2020-11-10T08:37:14.151106Z",
     "start_time": "2020-11-10T08:37:13.950399Z"
    },
    "hidden": true
   },
   "outputs": [],
   "source": [
    "# %%time\n",
    "for _ in range(10):\n",
    "    gauss.update(current_positions)\n",
    "    displacement = -np.einsum('nij,nj->ni', gauss.get_hessian(), gauss.get_gradient())\n",
    "    current_positions = structure.get_wrapped_coordinates(current_positions+displacement)"
   ]
  },
  {
   "cell_type": "code",
   "execution_count": null,
   "metadata": {
    "ExecuteTime": {
     "end_time": "2020-11-10T08:37:14.158459Z",
     "start_time": "2020-11-10T08:37:14.152826Z"
    },
    "hidden": true
   },
   "outputs": [],
   "source": [
    "np.linalg.norm(gauss.get_gradient(), axis=-1)"
   ]
  },
  {
   "cell_type": "code",
   "execution_count": null,
   "metadata": {
    "ExecuteTime": {
     "end_time": "2020-11-10T08:37:25.974862Z",
     "start_time": "2020-11-10T08:37:25.967194Z"
    },
    "hidden": true
   },
   "outputs": [],
   "source": [
    "print('Minimum distance between vacancy/vacancies and points after {} steps:'.format(n_steps),\n",
    "      structure.get_distances_array(structure.vacancy_positions, current_positions).min(axis=-1))"
   ]
  },
  {
   "cell_type": "markdown",
   "metadata": {
    "heading_collapsed": true
   },
   "source": [
    "# Conclusion"
   ]
  },
  {
   "cell_type": "markdown",
   "metadata": {
    "hidden": true
   },
   "source": [
    "- Use atom positions for the starting point (instead of making fine mesh)\n",
    "- Select best points using Voronoi analysis\n",
    "- Choose at least $4\\sigma$ for the cutoff\n",
    "- Determine a good value for $\\sigma$\n",
    "- Use agglomerative method to cluster points\n",
    "- Determine whether a point is a vacancy or not using minimum radius"
   ]
  },
  {
   "cell_type": "code",
   "execution_count": null,
   "metadata": {
    "hidden": true
   },
   "outputs": [],
   "source": []
  }
 ],
 "metadata": {
  "kernelspec": {
   "display_name": "Python 3",
   "language": "python",
   "name": "python3"
  },
  "language_info": {
   "codemirror_mode": {
    "name": "ipython",
    "version": 3
   },
   "file_extension": ".py",
   "mimetype": "text/x-python",
   "name": "python",
   "nbconvert_exporter": "python",
   "pygments_lexer": "ipython3",
   "version": "3.7.8"
  },
  "latex_envs": {
   "LaTeX_envs_menu_present": true,
   "autoclose": false,
   "autocomplete": true,
   "bibliofile": "biblio.bib",
   "cite_by": "apalike",
   "current_citInitial": 1,
   "eqLabelWithNumbers": true,
   "eqNumInitial": 1,
   "hotkeys": {
    "equation": "Ctrl-E",
    "itemize": "Ctrl-I"
   },
   "labels_anchors": false,
   "latex_user_defs": false,
   "report_style_numbering": false,
   "user_envs_cfg": false
  },
  "toc": {
   "base_numbering": 1,
   "nav_menu": {},
   "number_sections": true,
   "sideBar": true,
   "skip_h1_title": false,
   "title_cell": "Table of Contents",
   "title_sidebar": "Contents",
   "toc_cell": false,
   "toc_position": {},
   "toc_section_display": true,
   "toc_window_display": false
  }
 },
 "nbformat": 4,
 "nbformat_minor": 4
}
