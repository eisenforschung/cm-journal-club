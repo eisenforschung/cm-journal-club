{
 "cells": [
  {
   "cell_type": "code",
   "execution_count": 1,
   "id": "f1fd202f-a6b0-4429-a860-826148ac81f7",
   "metadata": {},
   "outputs": [],
   "source": [
    "import numpy as np\n",
    "import matplotlib.pyplot as plt\n",
    "from scipy.optimize import fsolve\n",
    "from tqdm import tqdm\n",
    "from dft.main import Hamiltonian\n",
    "from hamilton import Hamiltonian as HamOriginal\n",
    "%config InlineBackend.figure_format = 'retina'"
   ]
  },
  {
   "cell_type": "markdown",
   "id": "8f43dbc2-40fe-4f37-9ded-a10e902ebadb",
   "metadata": {},
   "source": [
    "https://journals.aps.org/prb/pdf/10.1103/PhysRevB.32.3792\n",
    "https://journals.aps.org/prb/pdf/10.1103/PhysRevB.32.3780"
   ]
  },
  {
   "cell_type": "code",
   "execution_count": 2,
   "id": "9c3e3fb2-c566-4d3e-8c8d-67a58e86d32f",
   "metadata": {},
   "outputs": [],
   "source": [
    "def get_rho0(h):\n",
    "    rho0b2 = 1.2**2\n",
    "    rho0_G = (1./h.L) * np.exp(1j * h.Gvec_2 * h.pos) \\\n",
    "                  * np.exp(-0.5 * h.Gvec_2**2 * rho0b2)\n",
    "    rho0 = np.fft.fft(rho0_G).real\n",
    "    rho0 *= h.Nel\n",
    "    return rho0"
   ]
  },
  {
   "cell_type": "code",
   "execution_count": 3,
   "id": "138d5f70-de7b-4186-a1b3-9297b3e363c9",
   "metadata": {},
   "outputs": [],
   "source": [
    "def scf_cycle(ham, rho_in):\n",
    "    ham.computePot (rho_in)\n",
    "    return ham.get_rho()"
   ]
  },
  {
   "cell_type": "code",
   "execution_count": 4,
   "id": "9e118ba3-36fd-4542-8d8b-6dce4acd8345",
   "metadata": {},
   "outputs": [],
   "source": [
    "def run_scf(h, rho_i=None, pre_scale=0.8, max_steps=50):\n",
    "    if rho_i is None:\n",
    "        rho_i = get_rho0(h)\n",
    "    allRes = []\n",
    "    allE = []\n",
    "    res_old=None\n",
    "    search_old=None\n",
    "    gamma = 0.\n",
    "    for i in range(max_steps):\n",
    "        h.rho = rho_i\n",
    "        rho_o = h.get_rho()\n",
    "        res = rho_o-rho_i\n",
    "        allRes.append (np.linalg.norm(res))\n",
    "        # h.rho = rho_o\n",
    "        allE.append (h.e_tot)\n",
    "\n",
    "        if allRes[-1] < 1e-10:\n",
    "            break\n",
    "\n",
    "        # conjugate-gradient for density (not sure this works in all cases!)\n",
    "        # should be DIIS or MINRES\n",
    "        search = res\n",
    "        if search_old is not None:\n",
    "            gamma = np.dot(res_old, res)/np.dot(res_old, res_old)\n",
    "            search += gamma * search_old\n",
    "        search_old = search\n",
    "        res_old = res\n",
    "\n",
    "        # line search\n",
    "        rho_trial = rho_i + pre_scale * search\n",
    "        h.rho = rho_trial\n",
    "        resTrial = h.get_rho() - rho_trial\n",
    "        step = -np.dot(resTrial-res, res) /np.dot(resTrial-res,resTrial-res)\n",
    "\n",
    "        # optimal step\n",
    "        rho_i = rho_i + step * pre_scale * search\n",
    "\n",
    "        # dynamic adaptation of pre_scale\n",
    "        if (step > 2):\n",
    "            pre_scale *= 1.5\n",
    "        elif (step < 0.5):\n",
    "            pre_scale /= 1.5\n",
    "    return allE, allRes"
   ]
  },
  {
   "cell_type": "code",
   "execution_count": 22,
   "id": "28997823-6fea-4c22-a636-6e8b32b4911d",
   "metadata": {},
   "outputs": [
    {
     "name": "stderr",
     "output_type": "stream",
     "text": [
      "100%|██████████| 11/11 [00:28<00:00,  2.63s/it]\n"
     ]
    }
   ],
   "source": [
    "Npw = 150\n",
    "L = 5\n",
    "Nel = 7\n",
    "E_lst = []\n",
    "p_tot_lst = []\n",
    "E_tot_lst = []\n",
    "R_lst = []\n",
    "L_lst = np.linspace(7.5, 8, 11)\n",
    "for L in tqdm(L_lst):\n",
    "    h = Hamiltonian(Npw, L, Nel)\n",
    "    E, R = run_scf(h)\n",
    "    E_lst.append(E[-1])\n",
    "    R_lst.append(R[-1])\n",
    "    E_tot_lst.append([h.e_kin, h.e_H, h.e_xc])\n",
    "    p_kin = np.einsum(\n",
    "            'j,ij,i->', h._focc_trunc, np.absolute(h._vecs_trunc)**2, h.Gvec**2,\n",
    "            optimize=True\n",
    "        ) / h.L\n",
    "    p_el = 0.5 * np.vdot(h.rho_G, h.v_G).real\n",
    "    p_xc = (h.e_xc - np.sum(h.rho*h.v_xc) * h._dL / 2) / h.L\n",
    "    p_tot_lst.append([p_kin, p_el, p_xc])\n",
    "\n",
    "p_tot_lst = np.array(p_tot_lst)\n",
    "E_tot_lst = np.array(E_tot_lst)"
   ]
  },
  {
   "cell_type": "code",
   "execution_count": 33,
   "id": "e3359930-4a04-405c-a2d9-d6ac08b29d34",
   "metadata": {},
   "outputs": [],
   "source": [
    "def get_fit(L_lst, E_lst, derivative=False, order=3, n_points=100):\n",
    "    coeff = np.polyfit(L_lst, E_lst, order)\n",
    "    L = np.linspace(L_lst.min(), L_lst.max(), n_points)\n",
    "    if derivative:\n",
    "        return L, np.polyval(np.polyder(coeff), L)\n",
    "    return L, np.polyval(coeff, L)"
   ]
  },
  {
   "cell_type": "code",
   "execution_count": 43,
   "id": "bd5f649e-f06e-4e09-95bc-f9b83978c3ec",
   "metadata": {},
   "outputs": [
    {
     "data": {
      "text/plain": [
       "[<matplotlib.lines.Line2D at 0x2b9f003f8550>]"
      ]
     },
     "execution_count": 43,
     "metadata": {},
     "output_type": "execute_result"
    },
    {
     "data": {
      "image/png": "[encoded data removed]",
      "text/plain": [
       "<Figure size 432x288 with 1 Axes>"
      ]
     },
     "metadata": {
      "image/png": {
       "height": 248,
       "width": 386
      },
      "needs_background": "light"
     },
     "output_type": "display_data"
    }
   ],
   "source": [
    "plt.grid()\n",
    "# plt.plot(*get_fit(L_lst, np.sum(p_tot_lst, axis=-1)))\n",
    "plt.plot(*get_fit(L_lst, E_lst, derivative=True))"
   ]
  },
  {
   "cell_type": "code",
   "execution_count": null,
   "id": "92f21c12-dcc4-42e8-90fe-20079c3f7c3d",
   "metadata": {},
   "outputs": [],
   "source": []
  },
  {
   "cell_type": "code",
   "execution_count": null,
   "id": "10ea8c77-7d19-49ad-8598-af64fb0c3b0b",
   "metadata": {},
   "outputs": [],
   "source": []
  }
 ],
 "metadata": {
  "kernelspec": {
   "display_name": "Python 3 (ipykernel)",
   "language": "python",
   "name": "python3"
  },
  "language_info": {
   "codemirror_mode": {
    "name": "ipython",
    "version": 3
   },
   "file_extension": ".py",
   "mimetype": "text/x-python",
   "name": "python",
   "nbconvert_exporter": "python",
   "pygments_lexer": "ipython3",
   "version": "3.8.12"
  }
 },
 "nbformat": 4,
 "nbformat_minor": 5
}
