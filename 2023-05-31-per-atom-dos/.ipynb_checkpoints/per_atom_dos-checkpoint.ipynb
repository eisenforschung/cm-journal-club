{
 "cells": [
  {
   "cell_type": "markdown",
   "id": "503bd72e",
   "metadata": {},
   "source": [
    "## Journal Club session where we tried to obtain per-atom density of states following IIA. and IIB. of this paper:\n",
    "\n",
    "### Machine learning surrogate models for prediction of point defect vibrational entropy\n",
    "### DOI: 10.1103/PhysRevMaterials.4.063802\n",
    "\n",
    "NOTE that we are only looking at the phonons near the center of the Brillouin zone!"
   ]
  },
  {
   "cell_type": "code",
   "execution_count": 1,
   "id": "9e4040e2",
   "metadata": {
    "ExecuteTime": {
     "end_time": "2023-06-05T09:21:16.271886Z",
     "start_time": "2023-06-05T09:21:04.675702Z"
    }
   },
   "outputs": [
    {
     "data": {
      "application/vnd.jupyter.widget-view+json": {
       "model_id": "2afeca3688e545fcb8c4b940c087268f",
       "version_major": 2,
       "version_minor": 0
      },
      "text/plain": []
     },
     "metadata": {},
     "output_type": "display_data"
    }
   ],
   "source": [
    "from pyiron_atomistics import Project\n",
    "import pyiron_contrib\n",
    "\n",
    "import pandas as pd\n",
    "import numpy as np\n",
    "import matplotlib.pyplot as plt\n",
    "\n",
    "import pint\n",
    "unit = pint.UnitRegistry()"
   ]
  },
  {
   "cell_type": "code",
   "execution_count": 2,
   "id": "baea3bc7",
   "metadata": {
    "ExecuteTime": {
     "end_time": "2023-06-05T09:21:16.278322Z",
     "start_time": "2023-06-05T09:21:16.275473Z"
    }
   },
   "outputs": [],
   "source": [
    "pr = Project('test')"
   ]
  },
  {
   "cell_type": "code",
   "execution_count": 3,
   "id": "0f4d391e",
   "metadata": {
    "ExecuteTime": {
     "end_time": "2023-06-05T09:21:16.284899Z",
     "start_time": "2023-06-05T09:21:16.280245Z"
    }
   },
   "outputs": [],
   "source": [
    "potential = pd.DataFrame({\n",
    "  'Name': [\"Al\"],\n",
    "  'Filename': [[\"mendelev_2008_modified/Al1.eam.fs\"]],\n",
    "  'Model': [\"EAM\"],\n",
    "  'Species': [[\"Al\"]],\n",
    "  'Config': [[\"pair_style eam/fs\\n\",\n",
    "              \"pair_coeff * * Al1.eam.fs Al\\n\"]]\n",
    "})"
   ]
  },
  {
   "cell_type": "code",
   "execution_count": 4,
   "id": "edfe8206",
   "metadata": {
    "ExecuteTime": {
     "end_time": "2023-06-05T09:21:17.930768Z",
     "start_time": "2023-06-05T09:21:16.286767Z"
    }
   },
   "outputs": [
    {
     "name": "stdout",
     "output_type": "stream",
     "text": [
      "The job minim_job was saved and received the ID: 19831458\n"
     ]
    }
   ],
   "source": [
    "# minimize a structure\n",
    "\n",
    "minim_job = pr.create.job.Lammps('minim_job', delete_existing_job=True)\n",
    "minim_job.structure = pr.create.structure.bulk('Al', cubic=True).repeat(3)\n",
    "minim_job.potential = potential\n",
    "minim_job.calc_minimize(pressure=0., ionic_force_tolerance=1e-10)\n",
    "minim_job.run()\n",
    "\n",
    "minim_struct = minim_job.get_structure().copy()\n",
    "n_atoms = minim_struct.get_number_of_atoms()"
   ]
  },
  {
   "cell_type": "code",
   "execution_count": 5,
   "id": "a74848b6",
   "metadata": {
    "ExecuteTime": {
     "end_time": "2023-06-05T09:21:27.963694Z",
     "start_time": "2023-06-05T09:21:17.933875Z"
    },
    "scrolled": true
   },
   "outputs": [
    {
     "name": "stdout",
     "output_type": "stream",
     "text": [
      "The job qha was saved and received the ID: 19831459\n",
      "The job ref_job_0 was saved and received the ID: 19831460\n",
      "The job ref_job_1 was saved and received the ID: 19831461\n"
     ]
    }
   ],
   "source": [
    "# run QHA job\n",
    "\n",
    "ref_job = pr.create.job.Lammps('ref_job', delete_existing_job=True)\n",
    "ref_job.structure = minim_struct\n",
    "ref_job.potential = potential\n",
    "harm_job = pr.create.job.QuasiHarmonicApproximation('qha', delete_existing_job=True)\n",
    "harm_job.ref_job = ref_job\n",
    "harm_job.input[\"num_points\"] = 1\n",
    "harm_job.run()"
   ]
  },
  {
   "cell_type": "code",
   "execution_count": 6,
   "id": "e783bc12",
   "metadata": {
    "ExecuteTime": {
     "end_time": "2023-06-05T09:21:27.983657Z",
     "start_time": "2023-06-05T09:21:27.967536Z"
    }
   },
   "outputs": [],
   "source": [
    "# collect the hessian and masses\n",
    "\n",
    "hessian = harm_job['output/force_constants'][-1]\n",
    "masses = minim_struct.get_masses()"
   ]
  },
  {
   "cell_type": "code",
   "execution_count": 7,
   "id": "daa40827",
   "metadata": {
    "ExecuteTime": {
     "end_time": "2023-06-05T09:21:27.993977Z",
     "start_time": "2023-06-05T09:21:27.987238Z"
    }
   },
   "outputs": [],
   "source": [
    "# we don't need to use this...\n",
    "\n",
    "def reshape_hessian(hessian):\n",
    "    n_atoms = hessian.shape[0] // 3\n",
    "    reshaped_hessian = hessian.reshape(n_atoms, 3, n_atoms, 3)\n",
    "    reshaped_hessian = reshaped_hessian.transpose(0, 2, 1, 3)\n",
    "    return reshaped_hessian\n",
    "\n",
    "# modified method from Sam's qha.py, where we only take the mass of atoms array and not structure\n",
    "# TODO: write exceptions!\n",
    "\n",
    "def get_vibrational_frequencies(hessian, masses=None, return_eigenvectors=True):\n",
    "    m = np.tile(masses, (3, 1)).T.flatten()\n",
    "    mass_tensor = np.sqrt(m * m[:, np.newaxis])\n",
    "    eigvals, eigvecs = np.linalg.eigh(hessian / mass_tensor)\n",
    "    nu_square = (eigvals * unit.electron_volt / unit.angstrom**2 / unit.amu).to(\"THz**2\").magnitude\n",
    "    nu = np.sign(nu_square) * np.sqrt(np.absolute(nu_square)) / (2 * np.pi)\n",
    "    if return_eigenvectors:\n",
    "        return nu, eigvecs\n",
    "    return nu\n",
    "\n",
    "# a nicer looking delta function, instead of np.isclose\n",
    "\n",
    "def delta_function(x, x0, sigma=0.025):\n",
    "    return np.exp(-(x - x0)**2 / (2 * sigma**2)) / (np.sqrt(2 * np.pi) * sigma)\n",
    "\n",
    "# this is where the magic happens. Eqn (10) from the paper\n",
    "\n",
    "def rho_i_alpha(nu, eigvectors, nu_v):\n",
    "    return np.sum((eigvectors**2) * delta_function(nu, nu_v), axis=-1)"
   ]
  },
  {
   "cell_type": "code",
   "execution_count": 8,
   "id": "24a6c395",
   "metadata": {
    "ExecuteTime": {
     "end_time": "2023-06-05T09:21:28.016518Z",
     "start_time": "2023-06-05T09:21:27.997608Z"
    }
   },
   "outputs": [],
   "source": [
    "# get the frequencies and corresponding vectors\n",
    "\n",
    "nu_v, nu_vec = get_vibrational_frequencies(hessian, masses)"
   ]
  },
  {
   "cell_type": "code",
   "execution_count": 9,
   "id": "6879e838",
   "metadata": {
    "ExecuteTime": {
     "end_time": "2023-06-05T09:21:28.023632Z",
     "start_time": "2023-06-05T09:21:28.020060Z"
    }
   },
   "outputs": [],
   "source": [
    "# define a set of nus\n",
    "\n",
    "n_bins = 200\n",
    "nus = np.linspace(nu_v[3], nu_v[-1], n_bins)"
   ]
  },
  {
   "cell_type": "code",
   "execution_count": 10,
   "id": "b262305e",
   "metadata": {
    "ExecuteTime": {
     "end_time": "2023-06-05T09:21:28.094238Z",
     "start_time": "2023-06-05T09:21:28.027274Z"
    }
   },
   "outputs": [],
   "source": [
    "# calculate ldos\n",
    "local_dos = np.array([rho_i_alpha(nu, nu_vec, nu_v) for nu in nus])\n",
    "\n",
    "# sum over the xyz-axis vibrations\n",
    "per_atom_ldos = local_dos.reshape(n_bins, n_atoms, 3).sum(axis=-1)\n",
    "\n",
    "# and normalize\n",
    "per_atom_ldos /= per_atom_ldos.sum(axis=0)"
   ]
  },
  {
   "cell_type": "code",
   "execution_count": 11,
   "id": "15cdee7f",
   "metadata": {
    "ExecuteTime": {
     "end_time": "2023-06-05T09:21:28.101223Z",
     "start_time": "2023-06-05T09:21:28.097643Z"
    }
   },
   "outputs": [],
   "source": [
    "system_v_pd, system_v_bins = np.histogram(nu_v, bins=nus, density=True)\n",
    "\n",
    "# becasue np.histogram gives pd of size (bins-1) and bins of size (bins), let's take the mid-point of the bins\n",
    "system_v_pd /= system_v_pd.sum()\n",
    "system_v_bins = (system_v_bins[1:]+system_v_bins[:-1])/2"
   ]
  },
  {
   "cell_type": "code",
   "execution_count": 12,
   "id": "7531a57e",
   "metadata": {
    "ExecuteTime": {
     "end_time": "2023-06-05T09:21:28.911307Z",
     "start_time": "2023-06-05T09:21:28.104696Z"
    }
   },
   "outputs": [
    {
     "data": {
      "image/png": "[encoded data removed]",
      "text/plain": [
       "<Figure size 640x480 with 1 Axes>"
      ]
     },
     "metadata": {},
     "output_type": "display_data"
    }
   ],
   "source": [
    "# How does it compare?\n",
    "\n",
    "plt.plot(system_v_bins, system_v_pd, label='system DOS')\n",
    "plt.plot(nus, per_atom_ldos[:, 0], label='per-atom DOS')\n",
    "plt.xlabel(r'$\\nu$')\n",
    "plt.ylabel('DOS')\n",
    "plt.legend()\n",
    "plt.show()"
   ]
  },
  {
   "cell_type": "code",
   "execution_count": null,
   "id": "1cdff306",
   "metadata": {},
   "outputs": [],
   "source": []
  }
 ],
 "metadata": {
  "kernelspec": {
   "display_name": "Python 3 (ipykernel)",
   "language": "python",
   "name": "python3"
  },
  "language_info": {
   "codemirror_mode": {
    "name": "ipython",
    "version": 3
   },
   "file_extension": ".py",
   "mimetype": "text/x-python",
   "name": "python",
   "nbconvert_exporter": "python",
   "pygments_lexer": "ipython3",
   "version": "3.8.15"
  }
 },
 "nbformat": 4,
 "nbformat_minor": 5
}
