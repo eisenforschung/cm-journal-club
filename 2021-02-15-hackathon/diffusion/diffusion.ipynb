{
 "cells": [
  {
   "cell_type": "markdown",
   "id": "widespread-astrology",
   "metadata": {},
   "source": [
    "- Precipitate formation kinetics -> expensive\n",
    "- Ali & Eunan: Hydrogen diffusion along grain boundary (?)\n",
    "  - All the geometric stuff -> complicated\n",
    "  - No one has ever looked at hydrogen diffusion in grain boundary\n",
    "  - H in BCC Fe is too fast\n",
    "  - Maybe pipe diffusion of H in FCC grain boundaries?\n",
    "  - Metadynamics in bulk is trivial; along GB difficult/unknown\n",
    "  - Fix metal atoms and run MD with only H -> see diffusion path of H -> define collective variable (?)\n",
    "  - `1995--Angelo-J-E-Moody-N-R-Baskes-M-I--Ni-Al-H` -> consider Ni-H\n",
    " "
   ]
  },
  {
   "cell_type": "markdown",
   "id": "coordinated-samuel",
   "metadata": {},
   "source": [
    "- kMC + MD everywhere\n",
    "  - kMC up to room temperature: Ali, Eunan\n",
    "  - MD > 900 K (?): Eduardo, Poulami, Prince"
   ]
  },
  {
   "cell_type": "code",
   "execution_count": 1,
   "id": "personalized-cricket",
   "metadata": {
    "ExecuteTime": {
     "end_time": "2021-02-15T09:02:28.276769Z",
     "start_time": "2021-02-15T09:02:26.014351Z"
    }
   },
   "outputs": [],
   "source": [
    "from pyiron_atomistics import Project\n",
    "import numpy as np\n",
    "import matplotlib.pylab as plt\n",
    "%config InlineBackend.figure_format = 'retina'"
   ]
  },
  {
   "cell_type": "code",
   "execution_count": 2,
   "id": "dimensional-variance",
   "metadata": {
    "ExecuteTime": {
     "end_time": "2021-02-15T09:02:32.708065Z",
     "start_time": "2021-02-15T09:02:32.244254Z"
    }
   },
   "outputs": [],
   "source": [
    "pr = Project('DIFFUSION')"
   ]
  },
  {
   "cell_type": "code",
   "execution_count": 33,
   "id": "exempt-accuracy",
   "metadata": {
    "ExecuteTime": {
     "end_time": "2021-02-15T09:12:25.510660Z",
     "start_time": "2021-02-15T09:12:25.507762Z"
    }
   },
   "outputs": [],
   "source": [
    "potential = '1995--Angelo-J-E--Ni-Al-H--LAMMPS--ipr1'"
   ]
  },
  {
   "cell_type": "code",
   "execution_count": 40,
   "id": "equipped-universe",
   "metadata": {
    "ExecuteTime": {
     "end_time": "2021-02-15T09:13:47.960794Z",
     "start_time": "2021-02-15T09:13:47.101569Z"
    }
   },
   "outputs": [
    {
     "name": "stderr",
     "output_type": "stream",
     "text": [
      "2021-02-15 10:13:47,515 - pyiron_log - WARNING - The job lmp_bulk is being loaded instead of running. To re-run use the argument 'delete_existing_job=True in create_job'\n"
     ]
    },
    {
     "name": "stdout",
     "output_type": "stream",
     "text": [
      "E_Ni =  -4.4500000125938\n"
     ]
    }
   ],
   "source": [
    "a_0 = 3.52\n",
    "bulk = pr.create_structure('Ni', 'fcc', a_0)\n",
    "job_bulk = pr.create_job('Lammps', 'lmp_bulk')\n",
    "job_bulk.structure = bulk\n",
    "# job_bulk.structure[0] = 'Al'\n",
    "job_bulk.potential = potential\n",
    "job_bulk.calc_minimize(pressure=0)\n",
    "job_bulk.run()\n",
    "E_bulk = job_bulk['output/generic/energy_pot'][-1]/4\n",
    "print('E_Ni = ', E_bulk)"
   ]
  },
  {
   "cell_type": "code",
   "execution_count": 41,
   "id": "trained-serial",
   "metadata": {
    "ExecuteTime": {
     "end_time": "2021-02-15T09:15:23.517731Z",
     "start_time": "2021-02-15T09:15:23.513611Z"
    }
   },
   "outputs": [],
   "source": [
    "pr.create.structure.aimsgb_build?"
   ]
  },
  {
   "cell_type": "code",
   "execution_count": 47,
   "id": "smooth-penalty",
   "metadata": {
    "ExecuteTime": {
     "end_time": "2021-02-15T09:20:11.712809Z",
     "start_time": "2021-02-15T09:20:11.707847Z"
    }
   },
   "outputs": [],
   "source": [
    "pr.create.structure.aimsgb_build?"
   ]
  },
  {
   "cell_type": "code",
   "execution_count": 42,
   "id": "hazardous-texas",
   "metadata": {
    "ExecuteTime": {
     "end_time": "2021-02-15T09:18:13.787566Z",
     "start_time": "2021-02-15T09:17:52.619204Z"
    },
    "scrolled": true
   },
   "outputs": [
    {
     "name": "stderr",
     "output_type": "stream",
     "text": [
      "/u/samsstud/dev_sam/pyiron_atomistics/pyiron_atomistics/atomistics/structure/atoms.py:3203: UserWarning: Found unknown keys: ['_cellobj']\n",
      "  warnings.warn(\"Found unknown keys: \" + str(dict_keys))\n"
     ]
    },
    {
     "name": "stdout",
     "output_type": "stream",
     "text": [
      "The job lmp_0b0t0b0t was saved and received the ID: 12430902\n"
     ]
    },
    {
     "name": "stderr",
     "output_type": "stream",
     "text": [
      "/u/samsstud/dev_sam/pyiron_atomistics/pyiron_atomistics/atomistics/structure/atoms.py:3203: UserWarning: Found unknown keys: ['_cellobj']\n",
      "  warnings.warn(\"Found unknown keys: \" + str(dict_keys))\n"
     ]
    },
    {
     "name": "stdout",
     "output_type": "stream",
     "text": [
      "The job lmp_0b1t0b1t was saved and received the ID: 12430903\n"
     ]
    },
    {
     "name": "stderr",
     "output_type": "stream",
     "text": [
      "/u/samsstud/dev_sam/pyiron_atomistics/pyiron_atomistics/atomistics/structure/atoms.py:3203: UserWarning: Found unknown keys: ['_cellobj']\n",
      "  warnings.warn(\"Found unknown keys: \" + str(dict_keys))\n"
     ]
    },
    {
     "name": "stdout",
     "output_type": "stream",
     "text": [
      "The job lmp_0b2t0b2t was saved and received the ID: 12430904\n"
     ]
    },
    {
     "name": "stderr",
     "output_type": "stream",
     "text": [
      "/u/samsstud/dev_sam/pyiron_atomistics/pyiron_atomistics/atomistics/structure/atoms.py:3203: UserWarning: Found unknown keys: ['_cellobj']\n",
      "  warnings.warn(\"Found unknown keys: \" + str(dict_keys))\n"
     ]
    },
    {
     "name": "stdout",
     "output_type": "stream",
     "text": [
      "The job lmp_1b0t1b0t was saved and received the ID: 12430905\n"
     ]
    },
    {
     "name": "stderr",
     "output_type": "stream",
     "text": [
      "/u/samsstud/dev_sam/pyiron_atomistics/pyiron_atomistics/atomistics/structure/atoms.py:3203: UserWarning: Found unknown keys: ['_cellobj']\n",
      "  warnings.warn(\"Found unknown keys: \" + str(dict_keys))\n"
     ]
    },
    {
     "name": "stdout",
     "output_type": "stream",
     "text": [
      "The job lmp_1b1t1b1t was saved and received the ID: 12430906\n"
     ]
    },
    {
     "name": "stderr",
     "output_type": "stream",
     "text": [
      "/u/samsstud/dev_sam/pyiron_atomistics/pyiron_atomistics/atomistics/structure/atoms.py:3203: UserWarning: Found unknown keys: ['_cellobj']\n",
      "  warnings.warn(\"Found unknown keys: \" + str(dict_keys))\n"
     ]
    },
    {
     "name": "stdout",
     "output_type": "stream",
     "text": [
      "The job lmp_1b2t1b2t was saved and received the ID: 12430907\n"
     ]
    },
    {
     "name": "stderr",
     "output_type": "stream",
     "text": [
      "/u/samsstud/dev_sam/pyiron_atomistics/pyiron_atomistics/atomistics/structure/atoms.py:3203: UserWarning: Found unknown keys: ['_cellobj']\n",
      "  warnings.warn(\"Found unknown keys: \" + str(dict_keys))\n"
     ]
    },
    {
     "name": "stdout",
     "output_type": "stream",
     "text": [
      "The job lmp_2b0t2b0t was saved and received the ID: 12430908\n"
     ]
    },
    {
     "name": "stderr",
     "output_type": "stream",
     "text": [
      "/u/samsstud/dev_sam/pyiron_atomistics/pyiron_atomistics/atomistics/structure/atoms.py:3203: UserWarning: Found unknown keys: ['_cellobj']\n",
      "  warnings.warn(\"Found unknown keys: \" + str(dict_keys))\n"
     ]
    },
    {
     "name": "stdout",
     "output_type": "stream",
     "text": [
      "The job lmp_2b1t2b1t was saved and received the ID: 12430909\n"
     ]
    },
    {
     "name": "stderr",
     "output_type": "stream",
     "text": [
      "/u/samsstud/dev_sam/pyiron_atomistics/pyiron_atomistics/atomistics/structure/atoms.py:3203: UserWarning: Found unknown keys: ['_cellobj']\n",
      "  warnings.warn(\"Found unknown keys: \" + str(dict_keys))\n"
     ]
    },
    {
     "name": "stdout",
     "output_type": "stream",
     "text": [
      "The job lmp_2b2t2b2t was saved and received the ID: 12430910\n"
     ]
    }
   ],
   "source": [
    "E_gb = {}\n",
    "for b in [0, 1, 2]:\n",
    "    for t in [0, 1, 2]:\n",
    "        delete_layer = '{0}b{1}t{0}b{1}t'.format(b, t)\n",
    "        gb = pr.create.structure.aimsgb_build(\n",
    "            axis=[0, 0, 1],\n",
    "            plane=[1, 3, 0],\n",
    "            sigma=5,\n",
    "            initial_struct=bulk,\n",
    "            delete_layer=delete_layer\n",
    "        )\n",
    "        job_gb = pr.create_job('Lammps', 'lmp_'+delete_layer)\n",
    "        job_gb.potential = potential\n",
    "        job_gb.structure = gb\n",
    "        job_gb.calc_minimize(pressure=0)\n",
    "        job_gb.run()\n",
    "        E_gb[delete_layer] = job_gb['output/generic/energy_pot'][-1]-E_bulk*len(gb)"
   ]
  },
  {
   "cell_type": "code",
   "execution_count": 57,
   "id": "educational-october",
   "metadata": {
    "ExecuteTime": {
     "end_time": "2021-02-15T09:21:57.062539Z",
     "start_time": "2021-02-15T09:21:56.712040Z"
    }
   },
   "outputs": [],
   "source": [
    "gb = pr.create.structure.aimsgb_build(\n",
    "    axis=[0, 0, 1],\n",
    "    plane=[1, 3, 0],\n",
    "    sigma=5,\n",
    "    initial_struct=bulk.repeat([2, 2, 2]),\n",
    "    delete_layer='0b1t0b1t'\n",
    ")\n",
    "\n"
   ]
  },
  {
   "cell_type": "code",
   "execution_count": 59,
   "id": "handy-account",
   "metadata": {
    "ExecuteTime": {
     "end_time": "2021-02-15T09:23:07.556907Z",
     "start_time": "2021-02-15T09:23:07.497735Z"
    }
   },
   "outputs": [
    {
     "data": {
      "application/vnd.jupyter.widget-view+json": {
       "model_id": "26af05f275774b6886080c21c4734289",
       "version_major": 2,
       "version_minor": 0
      },
      "text/plain": [
       "NGLWidget()"
      ]
     },
     "metadata": {},
     "output_type": "display_data"
    }
   ],
   "source": [
    "gb.plot3d()"
   ]
  },
  {
   "cell_type": "code",
   "execution_count": 51,
   "id": "addressed-logan",
   "metadata": {
    "ExecuteTime": {
     "end_time": "2021-02-15T09:20:49.707320Z",
     "start_time": "2021-02-15T09:20:49.704648Z"
    }
   },
   "outputs": [
    {
     "data": {
      "text/plain": [
       "624"
      ]
     },
     "execution_count": 51,
     "metadata": {},
     "output_type": "execute_result"
    }
   ],
   "source": [
    "len(gb)"
   ]
  },
  {
   "cell_type": "code",
   "execution_count": null,
   "id": "following-andrews",
   "metadata": {},
   "outputs": [],
   "source": []
  }
 ],
 "metadata": {
  "kernelspec": {
   "display_name": "Python 3",
   "language": "python",
   "name": "python3"
  },
  "language_info": {
   "codemirror_mode": {
    "name": "ipython",
    "version": 3
   },
   "file_extension": ".py",
   "mimetype": "text/x-python",
   "name": "python",
   "nbconvert_exporter": "python",
   "pygments_lexer": "ipython3",
   "version": "3.7.9"
  },
  "latex_envs": {
   "LaTeX_envs_menu_present": true,
   "autoclose": false,
   "autocomplete": true,
   "bibliofile": "biblio.bib",
   "cite_by": "apalike",
   "current_citInitial": 1,
   "eqLabelWithNumbers": true,
   "eqNumInitial": 1,
   "hotkeys": {
    "equation": "Ctrl-E",
    "itemize": "Ctrl-I"
   },
   "labels_anchors": false,
   "latex_user_defs": false,
   "report_style_numbering": false,
   "user_envs_cfg": false
  },
  "toc": {
   "base_numbering": 1,
   "nav_menu": {},
   "number_sections": true,
   "sideBar": true,
   "skip_h1_title": false,
   "title_cell": "Table of Contents",
   "title_sidebar": "Contents",
   "toc_cell": false,
   "toc_position": {},
   "toc_section_display": true,
   "toc_window_display": false
  }
 },
 "nbformat": 4,
 "nbformat_minor": 5
}
