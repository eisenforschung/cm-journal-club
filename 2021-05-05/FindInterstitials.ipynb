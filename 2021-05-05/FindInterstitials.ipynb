{
 "cells": [
  {
   "cell_type": "code",
   "execution_count": 1,
   "id": "5322a8ae-0bcc-40e5-bda4-d79ab86f5e75",
   "metadata": {},
   "outputs": [],
   "source": [
    "from pyiron import Project"
   ]
  },
  {
   "cell_type": "code",
   "execution_count": 17,
   "id": "738c039b-3c24-4dd2-a86b-8690843cd493",
   "metadata": {},
   "outputs": [],
   "source": [
    "pr = Project('interstitial')\n",
    "fcc = pr.create.structure.bulk('Al', cubic=True).repeat((1,1,2))"
   ]
  },
  {
   "cell_type": "code",
   "execution_count": 18,
   "id": "4222be00-bcc2-40d4-86f7-b058ba0074fe",
   "metadata": {},
   "outputs": [
    {
     "data": {
      "application/vnd.jupyter.widget-view+json": {
       "model_id": "a474798ff99a4b28a79b204bd3b388df",
       "version_major": 2,
       "version_minor": 0
      },
      "text/plain": [
       "NGLWidget()"
      ]
     },
     "metadata": {},
     "output_type": "display_data"
    }
   ],
   "source": [
    "fcc.plot3d()"
   ]
  },
  {
   "cell_type": "code",
   "execution_count": 19,
   "id": "e7e46c78-ac41-4867-9306-595e75feeb7f",
   "metadata": {},
   "outputs": [],
   "source": [
    "vertices = fcc.analyse.get_voronoi_vertices()"
   ]
  },
  {
   "cell_type": "code",
   "execution_count": 20,
   "id": "3c6bf0db-f005-49cd-8993-e493d9d39a12",
   "metadata": {},
   "outputs": [
    {
     "data": {
      "text/plain": [
       "(24, 3)"
      ]
     },
     "execution_count": 20,
     "metadata": {},
     "output_type": "execute_result"
    }
   ],
   "source": [
    "vertices.shape"
   ]
  },
  {
   "cell_type": "code",
   "execution_count": 21,
   "id": "ae480473-707f-4baf-95e2-5bb989249ab4",
   "metadata": {},
   "outputs": [],
   "source": [
    "interstitials = pr.create.structure.atoms(symbols=['H'] * len(vertices), positions=vertices)"
   ]
  },
  {
   "cell_type": "code",
   "execution_count": 24,
   "id": "7ff4c161-ee14-452f-94d4-f0c54248a812",
   "metadata": {},
   "outputs": [
    {
     "data": {
      "application/vnd.jupyter.widget-view+json": {
       "model_id": "157d54136a3046c0924348daea796669",
       "version_major": 2,
       "version_minor": 0
      },
      "text/plain": [
       "NGLWidget()"
      ]
     },
     "metadata": {},
     "output_type": "display_data"
    }
   ],
   "source": [
    "(fcc + interstitials).plot3d(particle_size=2)"
   ]
  },
  {
   "cell_type": "code",
   "execution_count": 28,
   "id": "0bc7a9b0-6b4a-4623-af5b-2f2235123544",
   "metadata": {},
   "outputs": [],
   "source": [
    "neigh = fcc.get_neighborhood(positions=vertices)"
   ]
  },
  {
   "cell_type": "code",
   "execution_count": 32,
   "id": "b697dfa9-2a7e-4779-bc22-1c50b0cf41d8",
   "metadata": {},
   "outputs": [],
   "source": [
    "import matplotlib.pyplot as plt"
   ]
  },
  {
   "cell_type": "code",
   "execution_count": 33,
   "id": "b1d4ed99-4c67-45ef-82fa-10b41ef71ece",
   "metadata": {},
   "outputs": [
    {
     "data": {
      "text/plain": [
       "(array([ 64.,  48.,   0.,   0.,   0.,   0.,   0.,   0.,   0., 176.]),\n",
       " array([1.75370144, 1.92907159, 2.10444173, 2.27981188, 2.45518202,\n",
       "        2.63055216, 2.80592231, 2.98129245, 3.1566626 , 3.33203274,\n",
       "        3.50740289]),\n",
       " <BarContainer object of 10 artists>)"
      ]
     },
     "execution_count": 33,
     "metadata": {},
     "output_type": "execute_result"
    },
    {
     "data": {
      "image/png": "[encoded data removed]",
      "text/plain": [
       "<Figure size 432x288 with 1 Axes>"
      ]
     },
     "metadata": {
      "needs_background": "light"
     },
     "output_type": "display_data"
    }
   ],
   "source": [
    "plt.hist(neigh.distances.flatten())"
   ]
  },
  {
   "cell_type": "code",
   "execution_count": 35,
   "id": "1f5255cc-37fb-4b68-8e4e-ff3eafa5299b",
   "metadata": {},
   "outputs": [
    {
     "data": {
      "text/plain": [
       "[<matplotlib.lines.Line2D at 0x2b58a71fe950>]"
      ]
     },
     "execution_count": 35,
     "metadata": {},
     "output_type": "execute_result"
    },
    {
     "data": {
      "image/png": "[encoded data removed]",
      "text/plain": [
       "<Figure size 432x288 with 1 Axes>"
      ]
     },
     "metadata": {
      "needs_background": "light"
     },
     "output_type": "display_data"
    }
   ],
   "source": [
    "plt.plot(neigh.distances.min(axis=-1))"
   ]
  },
  {
   "cell_type": "code",
   "execution_count": 37,
   "id": "05537c81-6182-45d9-af95-6a9c72823e64",
   "metadata": {},
   "outputs": [],
   "source": [
    "import numpy as np"
   ]
  },
  {
   "cell_type": "code",
   "execution_count": 38,
   "id": "6087d97c-32b0-4636-a4d8-dcc218a9a401",
   "metadata": {},
   "outputs": [
    {
     "data": {
      "text/plain": [
       "(array([ 8.,  0.,  0.,  0.,  0.,  0.,  0.,  0.,  0., 16.]),\n",
       " array([0.62131386, 0.6331522 , 0.64499055, 0.6568289 , 0.66866725,\n",
       "        0.6805056 , 0.69234395, 0.7041823 , 0.71602064, 0.72785899,\n",
       "        0.73969734]),\n",
       " <BarContainer object of 10 artists>)"
      ]
     },
     "execution_count": 38,
     "metadata": {},
     "output_type": "execute_result"
    },
    {
     "data": {
      "image/png": "[encoded data removed]",
      "text/plain": [
       "<Figure size 432x288 with 1 Axes>"
      ]
     },
     "metadata": {
      "needs_background": "light"
     },
     "output_type": "display_data"
    }
   ],
   "source": [
    "plt.hist(np.exp( - neigh.distances**2 / 1.8 ).sum(axis=-1))"
   ]
  },
  {
   "cell_type": "code",
   "execution_count": 39,
   "id": "f794fc7f-c248-445a-a86b-4c401c693942",
   "metadata": {},
   "outputs": [],
   "source": [
    "def get_interstitials(structure):\n",
    "    vertices = structure.analyse.get_voronoi_vertices()\n",
    "    neigh = structure.get_neighborhood(positions=vertices)\n",
    "    return vertices"
   ]
  },
  {
   "cell_type": "code",
   "execution_count": 44,
   "id": "5d8dcc95-175d-4370-b6ef-3c2c236fc360",
   "metadata": {},
   "outputs": [],
   "source": [
    "def plot_interstitials(structure):\n",
    "    sites = get_interstitials(structure)\n",
    "    interstitials = pr.create.structure.atoms(symbols=['H'] * len(sites), positions=sites)\n",
    "    return (structure + interstitials).plot3d()"
   ]
  },
  {
   "cell_type": "code",
   "execution_count": 41,
   "id": "09012a99-82e0-4d46-9a56-f66fc5bac1c3",
   "metadata": {},
   "outputs": [],
   "source": [
    "bcc = pr.create.structure.bulk('Fe', cubic=True).repeat([1,1,2])"
   ]
  },
  {
   "cell_type": "code",
   "execution_count": 45,
   "id": "6ac09cfe-a3cb-4c2e-9735-b2dc2a4367ef",
   "metadata": {},
   "outputs": [
    {
     "data": {
      "application/vnd.jupyter.widget-view+json": {
       "model_id": "f33290fe4b32418caad33828f11ff9f0",
       "version_major": 2,
       "version_minor": 0
      },
      "text/plain": [
       "NGLWidget()"
      ]
     },
     "metadata": {},
     "output_type": "display_data"
    }
   ],
   "source": [
    "plot_interstitials(bcc)"
   ]
  },
  {
   "cell_type": "code",
   "execution_count": 46,
   "id": "d4cc3bdc-574a-44a6-94d4-c01583f834d4",
   "metadata": {},
   "outputs": [],
   "source": [
    "bcc_sites = bcc.analyse.get_voronoi_vertices()\n",
    "bcc_neigh = bcc.get_neighborhood(positions=bcc_sites)"
   ]
  },
  {
   "cell_type": "code",
   "execution_count": 54,
   "id": "d7f35259-5dbb-45c5-b9fd-3af35dec72ed",
   "metadata": {},
   "outputs": [
    {
     "data": {
      "text/plain": [
       "array([1.60437877, 1.60437877, 1.60437877, 1.60437877, 2.58698304,\n",
       "       2.58698304, 2.58698304, 2.58698304, 3.28799806, 3.28799806,\n",
       "       3.28799806, 3.28799806])"
      ]
     },
     "execution_count": 54,
     "metadata": {},
     "output_type": "execute_result"
    }
   ],
   "source": [
    "bcc_neigh.distances[0, :]"
   ]
  },
  {
   "cell_type": "code",
   "execution_count": null,
   "id": "0095c570-fc55-4b0a-ae0e-39e6d541e2f9",
   "metadata": {},
   "outputs": [],
   "source": []
  },
  {
   "cell_type": "code",
   "execution_count": 53,
   "id": "bd770ff0-8266-4ca6-97ca-13b789e10cba",
   "metadata": {},
   "outputs": [
    {
     "data": {
      "text/plain": [
       "(array([ 0.,  4.,  0.,  0., 11.,  0.,  0.,  8.,  0.,  1.]),\n",
       " array([1.60437877, 1.60437877, 1.60437877, 1.60437877, 1.60437877,\n",
       "        1.60437877, 1.60437877, 1.60437877, 1.60437877, 1.60437877,\n",
       "        1.60437877]),\n",
       " <BarContainer object of 10 artists>)"
      ]
     },
     "execution_count": 53,
     "metadata": {},
     "output_type": "execute_result"
    },
    {
     "data": {
      "image/png": "[encoded data removed]",
      "text/plain": [
       "<Figure size 432x288 with 1 Axes>"
      ]
     },
     "metadata": {
      "needs_background": "light"
     },
     "output_type": "display_data"
    }
   ],
   "source": [
    "plt.hist(bcc_neigh.distances.min(axis=-1))"
   ]
  },
  {
   "cell_type": "code",
   "execution_count": 59,
   "id": "f4dadd81-4245-48d1-b8d6-916abf7a59a2",
   "metadata": {},
   "outputs": [
    {
     "data": {
      "text/plain": [
       "array([ 1.43500000e+00,  7.17500000e-01, -4.50865473e-16])"
      ]
     },
     "execution_count": 59,
     "metadata": {},
     "output_type": "execute_result"
    }
   ],
   "source": [
    "bcc_sites[6, :]"
   ]
  },
  {
   "cell_type": "code",
   "execution_count": 60,
   "id": "8d4fd6b8-48cc-4103-93fa-6c316839ab8c",
   "metadata": {},
   "outputs": [
    {
     "data": {
      "text/plain": [
       "Cell([2.87, 2.87, 5.74])"
      ]
     },
     "execution_count": 60,
     "metadata": {},
     "output_type": "execute_result"
    }
   ],
   "source": [
    "bcc.cell"
   ]
  },
  {
   "cell_type": "code",
   "execution_count": 61,
   "id": "3cdacf25-e4a4-4508-9cbf-90dae89a4ea4",
   "metadata": {},
   "outputs": [],
   "source": [
    "x = np.linspace( 7.17500000e-01, .5 * bcc.cell[0, 0], 10 )"
   ]
  },
  {
   "cell_type": "code",
   "execution_count": 63,
   "id": "80457695-720c-411b-abd8-ec57c77846a6",
   "metadata": {},
   "outputs": [],
   "source": [
    "pos = np.array( [x, [bcc.cell[0,0]/2] * len(x), [0] * len(x) ]).T"
   ]
  },
  {
   "cell_type": "code",
   "execution_count": 64,
   "id": "77fac996-482a-47cf-b6a6-8ae33f06029c",
   "metadata": {},
   "outputs": [],
   "source": [
    "path = bcc.get_neighborhood(positions=pos)"
   ]
  },
  {
   "cell_type": "code",
   "execution_count": 67,
   "id": "1a5482ad-c47f-494e-aec3-45fb94469a0f",
   "metadata": {},
   "outputs": [
    {
     "name": "stderr",
     "output_type": "stream",
     "text": [
      "/u/zora/software/pyiron_atomistics/pyiron_atomistics/atomistics/structure/atoms.py:2134: UserWarning: You are adding structures with different cell shapes. Taking the cell and pbc of the first structure:Cell([2.87, 2.87, 5.74])\n",
      "  \"Taking the cell and pbc of the first structure:{}\".format(self.cell))\n"
     ]
    },
    {
     "data": {
      "application/vnd.jupyter.widget-view+json": {
       "model_id": "4a16e7f2d12e489b80e72162fe7998e2",
       "version_major": 2,
       "version_minor": 0
      },
      "text/plain": [
       "NGLWidget()"
      ]
     },
     "metadata": {},
     "output_type": "display_data"
    }
   ],
   "source": [
    "(bcc + pr.create.structure.atoms(symbols=['H'] * 10, positions=pos)).plot3d()"
   ]
  },
  {
   "cell_type": "code",
   "execution_count": 66,
   "id": "db52c639-a90f-4f97-b40e-ab8c6e3f92f6",
   "metadata": {},
   "outputs": [
    {
     "data": {
      "text/plain": [
       "[<matplotlib.lines.Line2D at 0x2b58a7ba8550>]"
      ]
     },
     "execution_count": 66,
     "metadata": {},
     "output_type": "execute_result"
    },
    {
     "data": {
      "image/png": "[encoded data removed]",
      "text/plain": [
       "<Figure size 432x288 with 1 Axes>"
      ]
     },
     "metadata": {
      "needs_background": "light"
     },
     "output_type": "display_data"
    }
   ],
   "source": [
    "plt.plot(x, path.distances.min(axis=-1))"
   ]
  },
  {
   "cell_type": "markdown",
   "id": "afd8dfa7-3da9-4e2a-a2c9-6973d3ff3b74",
   "metadata": {},
   "source": [
    "# Try to find n-Interstitials by fixing number of neighbors "
   ]
  },
  {
   "cell_type": "code",
   "execution_count": 276,
   "id": "f100f1b6-c400-4999-a953-59d65c595001",
   "metadata": {},
   "outputs": [],
   "source": [
    "bcc = pr.create.structure.bulk('Fe', cubic=True).repeat(2)"
   ]
  },
  {
   "cell_type": "code",
   "execution_count": 277,
   "id": "829cf151-92aa-4e1e-8933-30a5c41ac5f2",
   "metadata": {},
   "outputs": [],
   "source": [
    "bcc_neigh = bcc.get_neighbors(num_neighbors=14)"
   ]
  },
  {
   "cell_type": "code",
   "execution_count": 278,
   "id": "5c8feb18-d5b2-4457-bf83-abab20294bbf",
   "metadata": {},
   "outputs": [],
   "source": [
    "import itertools"
   ]
  },
  {
   "cell_type": "code",
   "execution_count": 279,
   "id": "357344cc-2ac3-4b03-a183-2c7e097a74bc",
   "metadata": {},
   "outputs": [
    {
     "data": {
      "text/plain": [
       "495.0"
      ]
     },
     "execution_count": 279,
     "metadata": {},
     "output_type": "execute_result"
    }
   ],
   "source": [
    "import scipy.special as sp\n",
    "sp.binom(12, 4)"
   ]
  },
  {
   "cell_type": "code",
   "execution_count": 280,
   "id": "7a572118-0263-4e9e-83e9-55b478b071d1",
   "metadata": {},
   "outputs": [
    {
     "data": {
      "text/plain": [
       "(2002, 5)"
      ]
     },
     "execution_count": 280,
     "metadata": {},
     "output_type": "execute_result"
    }
   ],
   "source": [
    "perms = np.array(list(itertools.combinations(range(bcc_neigh.num_neighbors), 6-1)))\n",
    "perms.shape"
   ]
  },
  {
   "cell_type": "code",
   "execution_count": 281,
   "id": "73e9f0c3-7072-441c-b8a1-af1e913e2adf",
   "metadata": {},
   "outputs": [
    {
     "name": "stdout",
     "output_type": "stream",
     "text": [
      "CPU times: user 7.93 s, sys: 282 ms, total: 8.21 s\n",
      "Wall time: 8.3 s\n"
     ]
    }
   ],
   "source": [
    "%%time\n",
    "min_dists = []\n",
    "for working_set in perms:\n",
    "    neigh_center = bcc.positions[0] + (bcc_neigh.vecs[0, working_set, :].sum(axis=0) + 0)/6\n",
    "    min_dists.append(bcc.get_neighborhood(positions=[neigh_center]).distances.min())"
   ]
  },
  {
   "cell_type": "code",
   "execution_count": 282,
   "id": "c7d083d3-6e3b-4b97-95b4-2d7ee87b4bd9",
   "metadata": {},
   "outputs": [
    {
     "data": {
      "text/plain": [
       "2.87"
      ]
     },
     "execution_count": 282,
     "metadata": {},
     "output_type": "execute_result"
    }
   ],
   "source": [
    "bcc.cell[0,0]/2"
   ]
  },
  {
   "cell_type": "code",
   "execution_count": 283,
   "id": "76749930-3c1c-42a8-9288-e5d20fb0c231",
   "metadata": {},
   "outputs": [
    {
     "data": {
      "image/png": "[encoded data removed]",
      "text/plain": [
       "<Figure size 432x288 with 1 Axes>"
      ]
     },
     "metadata": {
      "needs_background": "light"
     },
     "output_type": "display_data"
    }
   ],
   "source": [
    "plt.hist(min_dists, bins=100);"
   ]
  },
  {
   "cell_type": "code",
   "execution_count": 284,
   "id": "602c6870-6c8e-4132-985c-a118989b6aae",
   "metadata": {},
   "outputs": [],
   "source": [
    "min_dists = np.array(min_dists)"
   ]
  },
  {
   "cell_type": "code",
   "execution_count": 285,
   "id": "b59ac5f3-0975-492b-b69f-6b68a363b106",
   "metadata": {},
   "outputs": [
    {
     "data": {
      "text/plain": [
       "array([1.04672831e-16, 1.81298661e-16, 2.22044605e-16, 2.56395025e-16,\n",
       "       3.05171120e-16, 4.14248818e-01, 4.14248818e-01, 4.14248818e-01,\n",
       "       4.14248818e-01, 4.14248818e-01, 4.14248818e-01, 4.14248818e-01,\n",
       "       4.14248818e-01, 4.14248818e-01, 4.14248818e-01, 4.14248818e-01,\n",
       "       4.78333333e-01, 4.78333333e-01, 4.78333333e-01, 4.78333333e-01,\n",
       "       4.78333333e-01, 4.78333333e-01, 4.78333333e-01, 6.76465487e-01,\n",
       "       6.76465487e-01, 6.76465487e-01, 6.76465487e-01, 6.76465487e-01,\n",
       "       7.93226096e-01, 7.93226096e-01, 7.93226096e-01, 7.93226096e-01,\n",
       "       7.93226096e-01, 8.28497636e-01, 8.28497636e-01, 8.28497636e-01,\n",
       "       8.28497636e-01, 8.28497636e-01, 8.28497636e-01, 9.56666667e-01,\n",
       "       9.56666667e-01, 9.56666667e-01, 9.56666667e-01, 1.04250333e+00,\n",
       "       1.04250333e+00, 1.04250333e+00, 1.06958585e+00, 1.06958585e+00,\n",
       "       1.06958585e+00, 1.17167259e+00, 1.17167259e+00, 1.17167259e+00,\n",
       "       1.17167259e+00, 1.24274645e+00, 1.24274645e+00, 1.24274645e+00,\n",
       "       1.41492908e+00, 1.41492908e+00, 1.43500000e+00, 1.43500000e+00])"
      ]
     },
     "execution_count": 285,
     "metadata": {},
     "output_type": "execute_result"
    }
   ],
   "source": [
    "np.unique(min_dists)"
   ]
  },
  {
   "cell_type": "code",
   "execution_count": 286,
   "id": "db74b216-4578-49c2-9182-b77589683af4",
   "metadata": {},
   "outputs": [
    {
     "data": {
      "text/plain": [
       "array([2.48549291, 2.48549291, 2.48549291, 2.48549291, 2.48549291,\n",
       "       2.48549291, 2.48549291, 2.48549291, 2.87      , 2.87      ,\n",
       "       2.87      , 2.87      , 2.87      , 2.87      ])"
      ]
     },
     "execution_count": 286,
     "metadata": {},
     "output_type": "execute_result"
    }
   ],
   "source": [
    "bcc_neigh.distances[0, :]"
   ]
  },
  {
   "cell_type": "code",
   "execution_count": 287,
   "id": "9ad17a65-564c-4414-8924-b785a5b12cfa",
   "metadata": {},
   "outputs": [
    {
     "data": {
      "text/plain": [
       "1.4349999999999998"
      ]
     },
     "execution_count": 287,
     "metadata": {},
     "output_type": "execute_result"
    }
   ],
   "source": [
    "min_dists.max()"
   ]
  },
  {
   "cell_type": "code",
   "execution_count": 288,
   "id": "5e1354de-9634-44b5-a307-eb8422f8ce71",
   "metadata": {},
   "outputs": [
    {
     "data": {
      "text/plain": [
       "array([ 5,  6,  7, 10, 11])"
      ]
     },
     "execution_count": 288,
     "metadata": {},
     "output_type": "execute_result"
    }
   ],
   "source": [
    "perms[min_dists > 1.4][-1]"
   ]
  },
  {
   "cell_type": "code",
   "execution_count": 289,
   "id": "623ab1e2-d994-40a3-8a14-b3c579dbe336",
   "metadata": {},
   "outputs": [],
   "source": [
    "motif_pos = np.append(bcc.positions[0] + bcc_neigh.vecs[0, perms[min_dists > 1.4][-5], :], bcc.positions[0]).reshape(-1, 3)\n",
    "motif_pos = np.append(motif_pos, motif_pos.mean(axis=0)).reshape(-1, 3)"
   ]
  },
  {
   "cell_type": "code",
   "execution_count": 290,
   "id": "97f6e941-eb37-48c5-83a5-7fc3546fccb8",
   "metadata": {},
   "outputs": [
    {
     "data": {
      "text/plain": [
       "(7, 3)"
      ]
     },
     "execution_count": 290,
     "metadata": {},
     "output_type": "execute_result"
    }
   ],
   "source": [
    "motif_pos.shape"
   ]
  },
  {
   "cell_type": "code",
   "execution_count": 291,
   "id": "6f0f96f8-7257-42c9-b7e7-a6abd95d01ab",
   "metadata": {},
   "outputs": [
    {
     "data": {
      "application/vnd.jupyter.widget-view+json": {
       "model_id": "5739b3ca916340e49236a3dff23e26d6",
       "version_major": 2,
       "version_minor": 0
      },
      "text/plain": [
       "NGLWidget()"
      ]
     },
     "metadata": {},
     "output_type": "display_data"
    }
   ],
   "source": [
    "motif = pr.create.structure.atoms(symbols=['H']*5 + ['O'] + ['Fe'], positions=motif_pos, cell=bcc.cell)\n",
    "motif.plot3d(particle_size=1)"
   ]
  },
  {
   "cell_type": "code",
   "execution_count": 273,
   "id": "271fc3a0-1d16-4c75-bb69-5834c3c43be8",
   "metadata": {},
   "outputs": [],
   "source": [
    "mn = motif.get_neighbors()"
   ]
  },
  {
   "cell_type": "code",
   "execution_count": 275,
   "id": "9918a92c-f06d-46b5-869e-b7c2b7db6c84",
   "metadata": {},
   "outputs": [
    {
     "data": {
      "text/plain": [
       "array([1.41492908, 1.41492908, 1.41492908, 1.41492908, 1.41492908,\n",
       "       1.83707402, 1.83707402, 1.83707402, 1.83707402, 2.47395924,\n",
       "       2.47395924, 2.47395924])"
      ]
     },
     "execution_count": 275,
     "metadata": {},
     "output_type": "execute_result"
    }
   ],
   "source": [
    "mn.distances[-1]"
   ]
  },
  {
   "cell_type": "markdown",
   "id": "d685beda-8465-43a7-b7c7-820be2ab6ee0",
   "metadata": {},
   "source": [
    "# KIFS\n",
    "\n",
    "FCC first"
   ]
  },
  {
   "cell_type": "code",
   "execution_count": null,
   "id": "0db9206b-6175-4354-bcba-eca0f8041389",
   "metadata": {},
   "outputs": [],
   "source": [
    "neigh = fcc.get_neighborhood"
   ]
  },
  {
   "cell_type": "code",
   "execution_count": 138,
   "id": "ab41e617-93a7-4e9f-b5e4-d8d89d7df91b",
   "metadata": {},
   "outputs": [
    {
     "name": "stdout",
     "output_type": "stream",
     "text": [
      "CPU times: user 875 ms, sys: 12.2 ms, total: 888 ms\n",
      "Wall time: 905 ms\n"
     ]
    }
   ],
   "source": [
    "%%time\n",
    "min_dists = []\n",
    "for working_set in itertools.combinations(range(12), 3):\n",
    "    neigh_center = bcc.positions[0] + (bcc_neigh.vecs[0, working_set, :].sum(axis=0) + 0)/4\n",
    "    min_dists.append(bcc.get_neighborhood(positions=[neigh_center]).distances.min())"
   ]
  },
  {
   "cell_type": "code",
   "execution_count": 139,
   "id": "2c874b46-3d4e-4dfc-b0ff-39d18623abd7",
   "metadata": {},
   "outputs": [
    {
     "data": {
      "image/png": "[encoded data removed]",
      "text/plain": [
       "<Figure size 432x288 with 1 Axes>"
      ]
     },
     "metadata": {
      "needs_background": "light"
     },
     "output_type": "display_data"
    }
   ],
   "source": [
    "plt.hist(min_dists, bins=100);"
   ]
  },
  {
   "cell_type": "code",
   "execution_count": 140,
   "id": "40a25811-f3e4-4e5a-92db-573a2d32a2b4",
   "metadata": {},
   "outputs": [
    {
     "data": {
      "text/plain": [
       "(220, 3)"
      ]
     },
     "execution_count": 140,
     "metadata": {},
     "output_type": "execute_result"
    }
   ],
   "source": [
    "perms = np.array(list(itertools.combinations(range(12), 3)))\n",
    "perms.shape"
   ]
  },
  {
   "cell_type": "code",
   "execution_count": 141,
   "id": "03479fab-51d8-44f8-92be-2f099e5d809d",
   "metadata": {},
   "outputs": [],
   "source": [
    "min_dists = np.array(min_dists)"
   ]
  }
 ],
 "metadata": {
  "kernelspec": {
   "display_name": "Python [conda env:root] *",
   "language": "python",
   "name": "conda-root-py"
  },
  "language_info": {
   "codemirror_mode": {
    "name": "ipython",
    "version": 3
   },
   "file_extension": ".py",
   "mimetype": "text/x-python",
   "name": "python",
   "nbconvert_exporter": "python",
   "pygments_lexer": "ipython3",
   "version": "3.7.9"
  }
 },
 "nbformat": 4,
 "nbformat_minor": 5
}
