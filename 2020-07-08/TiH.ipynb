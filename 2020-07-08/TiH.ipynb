{
 "cells": [
  {
   "cell_type": "markdown",
   "metadata": {},
   "source": [
    "Inspired by [this](https://advances.sciencemag.org/content/6/5/eaay4312) paper."
   ]
  },
  {
   "cell_type": "code",
   "execution_count": 1,
   "metadata": {},
   "outputs": [],
   "source": [
    "import pyiron"
   ]
  },
  {
   "cell_type": "code",
   "execution_count": 2,
   "metadata": {},
   "outputs": [],
   "source": [
    "pr = pyiron.Project(\"MgH\")"
   ]
  },
  {
   "cell_type": "markdown",
   "metadata": {},
   "source": [
    "# Mg slab"
   ]
  },
  {
   "cell_type": "code",
   "execution_count": 3,
   "metadata": {},
   "outputs": [
    {
     "data": {
      "application/vnd.jupyter.widget-view+json": {
       "model_id": "34ad8df998fb4fbdb6136b576c6030c2",
       "version_major": 2,
       "version_minor": 0
      },
      "text/plain": []
     },
     "metadata": {},
     "output_type": "display_data"
    },
    {
     "data": {
      "application/vnd.jupyter.widget-view+json": {
       "model_id": "fc9126e460b6444a8a615a9c4f934041",
       "version_major": 2,
       "version_minor": 0
      },
      "text/plain": [
       "NGLWidget()"
      ]
     },
     "metadata": {},
     "output_type": "display_data"
    }
   ],
   "source": [
    "ti = pr.create_ase_bulk(\"Mg\", orthorhombic = True)\n",
    "ti.plot3d()"
   ]
  },
  {
   "cell_type": "markdown",
   "metadata": {},
   "source": [
    "Swap axes to match hydride slab."
   ]
  },
  {
   "cell_type": "code",
   "execution_count": 4,
   "metadata": {},
   "outputs": [
    {
     "data": {
      "application/vnd.jupyter.widget-view+json": {
       "model_id": "f265327e81104ec88a348f38c9bd5744",
       "version_major": 2,
       "version_minor": 0
      },
      "text/plain": [
       "NGLWidget()"
      ]
     },
     "metadata": {},
     "output_type": "display_data"
    }
   ],
   "source": [
    "ti.positions[:, (1, 2)] = ti.positions[:, (2, 1)]\n",
    "ti.cell[1,1], ti.cell[2,2] = ti.cell[2,2], ti.cell[1,1]\n",
    "ti.set_repeat([2,1,3])\n",
    "ti.plot3d()"
   ]
  },
  {
   "cell_type": "markdown",
   "metadata": {},
   "source": [
    "# MgH Slab"
   ]
  },
  {
   "cell_type": "code",
   "execution_count": 5,
   "metadata": {},
   "outputs": [
    {
     "data": {
      "application/vnd.jupyter.widget-view+json": {
       "model_id": "24a6e9d8b8ec4e69aea01f47d1351440",
       "version_major": 2,
       "version_minor": 0
      },
      "text/plain": [
       "NGLWidget()"
      ]
     },
     "metadata": {},
     "output_type": "display_data"
    }
   ],
   "source": [
    "tih_proto = pr.create_ase_bulk(\"Al\", cubic = True)\n",
    "tih_proto[:] = \"Mg\"\n",
    "tih_proto.plot3d()"
   ]
  },
  {
   "cell_type": "code",
   "execution_count": 6,
   "metadata": {},
   "outputs": [
    {
     "data": {
      "application/vnd.jupyter.widget-view+json": {
       "model_id": "17bd5b43e2e049e7a12cd66d8d330907",
       "version_major": 2,
       "version_minor": 0
      },
      "text/plain": [
       "NGLWidget()"
      ]
     },
     "metadata": {},
     "output_type": "display_data"
    }
   ],
   "source": [
    "import numpy as np\n",
    "h_proto = tih_proto.copy()\n",
    "h_proto[:] = \"H\"\n",
    "h_proto.positions[:, :] += np.array((.25, .25, .25)) * tih_proto.cell[1,1]\n",
    "wrong_I = h_proto.get_scaled_positions()[:, 2] > .5\n",
    "h_proto.positions[wrong_I, 0] += .5 * tih_proto.cell[1,1]\n",
    "h_proto.center_coordinates_in_unit_cell()\n",
    "h_proto.plot3d()"
   ]
  },
  {
   "cell_type": "code",
   "execution_count": 7,
   "metadata": {},
   "outputs": [],
   "source": [
    "tih = tih_proto + h_proto"
   ]
  },
  {
   "cell_type": "code",
   "execution_count": 8,
   "metadata": {},
   "outputs": [
    {
     "data": {
      "text/plain": [
       "Atoms(symbols='Mg4H4', pbc=True, cell=[4.05, 4.05, 4.05])"
      ]
     },
     "execution_count": 8,
     "metadata": {},
     "output_type": "execute_result"
    }
   ],
   "source": [
    "pyiron.pyiron_to_ase(tih)"
   ]
  },
  {
   "cell_type": "code",
   "execution_count": 9,
   "metadata": {},
   "outputs": [],
   "source": [
    "import ase"
   ]
  },
  {
   "cell_type": "code",
   "execution_count": 10,
   "metadata": {},
   "outputs": [
    {
     "data": {
      "text/plain": [
       "Atoms(symbols='Mg4H4Mg4H4Mg4H4Mg4H4', pbc=True, cell=[5.727564927611035, 4.05, 11.45512985522207])"
      ]
     },
     "execution_count": 10,
     "metadata": {},
     "output_type": "execute_result"
    }
   ],
   "source": [
    "ase.build.surface(pyiron.pyiron_to_ase(tih), (1,1,0), 4, periodic = True)"
   ]
  },
  {
   "cell_type": "code",
   "execution_count": 11,
   "metadata": {},
   "outputs": [
    {
     "data": {
      "text/plain": [
       "Mg: [0. 0. 0.]\n",
       "Mg: [4.2956737  2.025      1.43189123]\n",
       "Mg: [1.43189123 2.025      1.43189123]\n",
       "Mg: [2.86378246e+00 0.00000000e+00 2.67023049e-17]\n",
       "H: [0.         3.0375     1.43189123]\n",
       "H: [2.86378246 1.0125     1.43189123]\n",
       "H: [0.         1.0125     1.43189123]\n",
       "H: [2.86378246 3.0375     1.43189123]\n",
       "Mg: [2.86378246 0.         2.86378246]\n",
       "Mg: [1.43189123 2.025      4.2956737 ]\n",
       "Mg: [4.2956737 2.025     4.2956737]\n",
       "Mg: [-6.31074821e-17  0.00000000e+00  2.86378246e+00]\n",
       "H: [2.86378246 3.0375     4.2956737 ]\n",
       "H: [0.        1.0125    4.2956737]\n",
       "H: [2.86378246 1.0125     4.2956737 ]\n",
       "H: [0.        3.0375    4.2956737]\n",
       "Mg: [0.         0.         5.72756493]\n",
       "Mg: [4.2956737  2.025      7.15945616]\n",
       "Mg: [1.43189123 2.025      7.15945616]\n",
       "Mg: [2.86378246 0.         5.72756493]\n",
       "H: [0.         3.0375     7.15945616]\n",
       "H: [2.86378246 1.0125     7.15945616]\n",
       "H: [0.         1.0125     7.15945616]\n",
       "H: [2.86378246 3.0375     7.15945616]\n",
       "Mg: [2.86378246 0.         8.59134739]\n",
       "Mg: [ 1.43189123  2.025      10.02323862]\n",
       "Mg: [ 4.2956737   2.025      10.02323862]\n",
       "Mg: [0.         0.         8.59134739]\n",
       "H: [ 2.86378246  3.0375     10.02323862]\n",
       "H: [ 0.          1.0125     10.02323862]\n",
       "H: [ 2.86378246  1.0125     10.02323862]\n",
       "H: [ 0.          3.0375     10.02323862]\n",
       "pbc: [ True  True  True]\n",
       "cell: \n",
       "[[ 5.72756493  0.          0.        ]\n",
       " [ 0.          4.05        0.        ]\n",
       " [ 0.          0.         11.45512986]]"
      ]
     },
     "execution_count": 11,
     "metadata": {},
     "output_type": "execute_result"
    }
   ],
   "source": [
    "hydride = pyiron.ase_to_pyiron(ase.build.surface(pyiron.pyiron_to_ase(tih), (1,1,0), 4, periodic = True))\n",
    "hydride.center_coordinates_in_unit_cell()"
   ]
  },
  {
   "cell_type": "code",
   "execution_count": 12,
   "metadata": {},
   "outputs": [
    {
     "data": {
      "application/vnd.jupyter.widget-view+json": {
       "model_id": "c40b330dff2642508f8d40582250d29a",
       "version_major": 2,
       "version_minor": 0
      },
      "text/plain": [
       "NGLWidget()"
      ]
     },
     "metadata": {},
     "output_type": "display_data"
    }
   ],
   "source": [
    "hydride.plot3d()"
   ]
  },
  {
   "cell_type": "code",
   "execution_count": 13,
   "metadata": {},
   "outputs": [
    {
     "data": {
      "text/plain": [
       "array([[1.0125, 1.0125, 1.0125],\n",
       "       [3.0375, 3.0375, 3.0375],\n",
       "       [1.0125, 1.0125, 3.0375],\n",
       "       [3.0375, 3.0375, 1.0125]])"
      ]
     },
     "execution_count": 13,
     "metadata": {},
     "output_type": "execute_result"
    }
   ],
   "source": [
    "h_proto.positions"
   ]
  },
  {
   "cell_type": "code",
   "execution_count": 14,
   "metadata": {},
   "outputs": [
    {
     "data": {
      "text/plain": [
       "(array([[ 6.42      ,  0.        ,  0.        ],\n",
       "        [ 0.        ,  5.21304   ,  0.        ],\n",
       "        [ 0.        ,  0.        , 16.67964928]]),\n",
       " array([[ 5.72756493,  0.        ,  0.        ],\n",
       "        [ 0.        ,  4.05      ,  0.        ],\n",
       "        [ 0.        ,  0.        , 11.45512986]]))"
      ]
     },
     "execution_count": 14,
     "metadata": {},
     "output_type": "execute_result"
    }
   ],
   "source": [
    "ti.cell, hydride.cell"
   ]
  },
  {
   "cell_type": "code",
   "execution_count": 15,
   "metadata": {},
   "outputs": [],
   "source": [
    "hydride.cell[2,2] += ti.cell[2,2]\n",
    "hydride.positions[:, 2] += ti.cell[2,2]"
   ]
  },
  {
   "cell_type": "code",
   "execution_count": 16,
   "metadata": {},
   "outputs": [],
   "source": [
    "slab = hydride + ti"
   ]
  },
  {
   "cell_type": "markdown",
   "metadata": {},
   "source": [
    "Final Structure is model II form the paper."
   ]
  },
  {
   "cell_type": "code",
   "execution_count": 17,
   "metadata": {},
   "outputs": [
    {
     "data": {
      "application/vnd.jupyter.widget-view+json": {
       "model_id": "6e015f7fc855437d9cefb7eb22f7ff3b",
       "version_major": 2,
       "version_minor": 0
      },
      "text/plain": [
       "NGLWidget()"
      ]
     },
     "metadata": {},
     "output_type": "display_data"
    }
   ],
   "source": [
    "slab.repeat([4,4,1]).plot3d()"
   ]
  },
  {
   "cell_type": "code",
   "execution_count": 18,
   "metadata": {},
   "outputs": [],
   "source": [
    "pr.remove_jobs(recursive=True)"
   ]
  },
  {
   "cell_type": "code",
   "execution_count": 19,
   "metadata": {},
   "outputs": [],
   "source": [
    "j = pr.create_job(pr.job_type.Lammps, \"Mg_model2\")\n",
    "j.structure = slab\n",
    "j.structure.pbc[2] = True"
   ]
  },
  {
   "cell_type": "code",
   "execution_count": 20,
   "metadata": {},
   "outputs": [],
   "source": [
    "j.potential = j.list_potentials()[0]"
   ]
  },
  {
   "cell_type": "code",
   "execution_count": 21,
   "metadata": {},
   "outputs": [],
   "source": [
    "j.calc_minimize(pressure = 0)"
   ]
  },
  {
   "cell_type": "code",
   "execution_count": 22,
   "metadata": {},
   "outputs": [
    {
     "data": {
      "text/plain": [
       "56"
      ]
     },
     "execution_count": 22,
     "metadata": {},
     "output_type": "execute_result"
    }
   ],
   "source": [
    "len(j.structure)"
   ]
  },
  {
   "cell_type": "code",
   "execution_count": 23,
   "metadata": {},
   "outputs": [
    {
     "data": {
      "text/plain": [
       "Mg: [ 0.          0.         16.67964928]\n",
       "Mg: [ 4.2956737   2.025      18.11154051]\n",
       "Mg: [ 1.43189123  2.025      18.11154051]\n",
       "Mg: [ 2.86378246  0.         16.67964928]\n",
       "H: [ 0.          3.0375     18.11154051]\n",
       "H: [ 2.86378246  1.0125     18.11154051]\n",
       "H: [ 0.          1.0125     18.11154051]\n",
       "H: [ 2.86378246  3.0375     18.11154051]\n",
       "Mg: [ 2.86378246  0.         19.54343174]\n",
       "Mg: [ 1.43189123  2.025      20.97532297]\n",
       "Mg: [ 4.2956737   2.025      20.97532297]\n",
       "Mg: [-6.31074821e-17  0.00000000e+00  1.95434317e+01]\n",
       "H: [ 2.86378246  3.0375     20.97532297]\n",
       "H: [ 0.          1.0125     20.97532297]\n",
       "H: [ 2.86378246  1.0125     20.97532297]\n",
       "H: [ 0.          3.0375     20.97532297]\n",
       "Mg: [ 0.         0.        22.4072142]\n",
       "Mg: [ 4.2956737   2.025      23.83910544]\n",
       "Mg: [ 1.43189123  2.025      23.83910544]\n",
       "Mg: [ 2.86378246  0.         22.4072142 ]\n",
       "H: [ 0.          3.0375     23.83910544]\n",
       "H: [ 2.86378246  1.0125     23.83910544]\n",
       "H: [ 0.          1.0125     23.83910544]\n",
       "H: [ 2.86378246  3.0375     23.83910544]\n",
       "Mg: [ 2.86378246  0.         25.27099667]\n",
       "Mg: [ 1.43189123  2.025      26.7028879 ]\n",
       "Mg: [ 4.2956737  2.025     26.7028879]\n",
       "Mg: [ 0.          0.         25.27099667]\n",
       "H: [ 2.86378246  3.0375     26.7028879 ]\n",
       "H: [ 0.         1.0125    26.7028879]\n",
       "H: [ 2.86378246  1.0125     26.7028879 ]\n",
       "H: [ 0.         3.0375    26.7028879]\n",
       "Mg: [0. 0. 0.]\n",
       "Mg: [1.605      0.         2.77994155]\n",
       "Mg: [1.605      2.60652    0.92664718]\n",
       "Mg: [0.         2.60652    3.70658873]\n",
       "Mg: [3.21 0.   0.  ]\n",
       "Mg: [4.815      0.         2.77994155]\n",
       "Mg: [4.815      2.60652    0.92664718]\n",
       "Mg: [3.21       2.60652    3.70658873]\n",
       "Mg: [0.         0.         5.55988309]\n",
       "Mg: [1.605      0.         8.33982464]\n",
       "Mg: [1.605      2.60652    6.48653027]\n",
       "Mg: [0.         2.60652    9.26647182]\n",
       "Mg: [3.21       0.         5.55988309]\n",
       "Mg: [4.815      0.         8.33982464]\n",
       "Mg: [4.815      2.60652    6.48653027]\n",
       "Mg: [3.21       2.60652    9.26647182]\n",
       "Mg: [ 0.          0.         11.11976618]\n",
       "Mg: [ 1.605       0.         13.89970773]\n",
       "Mg: [ 1.605       2.60652    12.04641337]\n",
       "Mg: [ 0.          2.60652    14.82635491]\n",
       "Mg: [ 3.21        0.         11.11976618]\n",
       "Mg: [ 4.815       0.         13.89970773]\n",
       "Mg: [ 4.815       2.60652    12.04641337]\n",
       "Mg: [ 3.21        2.60652    14.82635491]\n",
       "pbc: [ True  True  True]\n",
       "cell: \n",
       "[[ 5.72756493  0.          0.        ]\n",
       " [ 0.          4.05        0.        ]\n",
       " [ 0.          0.         28.13477913]]"
      ]
     },
     "execution_count": 23,
     "metadata": {},
     "output_type": "execute_result"
    }
   ],
   "source": [
    "j.structure"
   ]
  },
  {
   "cell_type": "code",
   "execution_count": 24,
   "metadata": {},
   "outputs": [
    {
     "name": "stdout",
     "output_type": "stream",
     "text": [
      "The job Mg_model2 was saved and received the ID: 5920677\n"
     ]
    }
   ],
   "source": [
    "j.run()"
   ]
  },
  {
   "cell_type": "markdown",
   "metadata": {},
   "source": [
    "Periodic boundary conditions in $z$ force a stacking fault at the second interface and the hydrogen position does match any of the three models in the paper (it's missing one half plane to model II)."
   ]
  },
  {
   "cell_type": "code",
   "execution_count": 25,
   "metadata": {},
   "outputs": [
    {
     "data": {
      "application/vnd.jupyter.widget-view+json": {
       "model_id": "5abc069b3237471d91fcb89a967c805e",
       "version_major": 2,
       "version_minor": 0
      },
      "text/plain": [
       "NGLWidget(max_frame=109)"
      ]
     },
     "metadata": {},
     "output_type": "display_data"
    }
   ],
   "source": [
    "j.animate_structure()"
   ]
  },
  {
   "cell_type": "code",
   "execution_count": 26,
   "metadata": {},
   "outputs": [
    {
     "data": {
      "application/vnd.jupyter.widget-view+json": {
       "model_id": "99af42c3c97c47ba9e87915819787a66",
       "version_major": 2,
       "version_minor": 0
      },
      "text/plain": [
       "NGLWidget()"
      ]
     },
     "metadata": {},
     "output_type": "display_data"
    }
   ],
   "source": [
    "j.get_structure().repeat([1,1,2]).plot3d()"
   ]
  },
  {
   "cell_type": "markdown",
   "metadata": {},
   "source": [
    "[Here](https://journals.aps.org/prb/pdf/10.1103/PhysRevB.76.064207) is a DFT paper that investigates the three models referred to in the original paper and studies their relative stability."
   ]
  }
 ],
 "metadata": {
  "kernelspec": {
   "display_name": "Python 3",
   "language": "python",
   "name": "python3"
  },
  "language_info": {
   "codemirror_mode": {
    "name": "ipython",
    "version": 3
   },
   "file_extension": ".py",
   "mimetype": "text/x-python",
   "name": "python",
   "nbconvert_exporter": "python",
   "pygments_lexer": "ipython3",
   "version": "3.7.6"
  }
 },
 "nbformat": 4,
 "nbformat_minor": 4
}
